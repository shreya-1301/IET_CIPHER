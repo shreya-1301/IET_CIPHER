{
 "cells": [
  {
   "cell_type": "code",
   "execution_count": 1,
   "metadata": {},
   "outputs": [
    {
     "name": "stdout",
     "output_type": "stream",
     "text": [
      "Defaulting to user installation because normal site-packages is not writeable\n",
      "Collecting streamline\n",
      "  Downloading streamline-1.1.1.tar.gz (23 kB)\n",
      "  Installing build dependencies: started\n",
      "  Installing build dependencies: finished with status 'done'\n",
      "  Getting requirements to build wheel: started\n",
      "  Getting requirements to build wheel: finished with status 'done'\n",
      "  Preparing metadata (pyproject.toml): started\n",
      "  Preparing metadata (pyproject.toml): finished with status 'done'\n",
      "Collecting pyyaml (from streamline)\n",
      "  Downloading PyYAML-6.0.2-cp312-cp312-win_amd64.whl.metadata (2.1 kB)\n",
      "Downloading PyYAML-6.0.2-cp312-cp312-win_amd64.whl (156 kB)\n",
      "Building wheels for collected packages: streamline\n",
      "  Building wheel for streamline (pyproject.toml): started\n",
      "  Building wheel for streamline (pyproject.toml): finished with status 'done'\n",
      "  Created wheel for streamline: filename=streamline-1.1.1-py3-none-any.whl size=23915 sha256=a3efd1e3195ccecebece24f33e13688b10422c5172c0df6c99e06b0aa6a50222\n",
      "  Stored in directory: c:\\users\\shrey\\appdata\\local\\pip\\cache\\wheels\\44\\28\\7a\\ff2cba181e833b6963c71f88353710f7f470aa659a0c989133\n",
      "Successfully built streamline\n",
      "Installing collected packages: pyyaml, streamline\n",
      "Successfully installed pyyaml-6.0.2 streamline-1.1.1\n"
     ]
    },
    {
     "name": "stderr",
     "output_type": "stream",
     "text": [
      "\n",
      "[notice] A new release of pip is available: 24.2 -> 24.3.1\n",
      "[notice] To update, run: C:\\Users\\shrey\\AppData\\Local\\Microsoft\\WindowsApps\\PythonSoftwareFoundation.Python.3.12_qbz5n2kfra8p0\\python.exe -m pip install --upgrade pip\n"
     ]
    }
   ],
   "source": [
    "!pip install streamline "
   ]
  },
  {
   "cell_type": "code",
   "execution_count": 2,
   "metadata": {},
   "outputs": [
    {
     "name": "stderr",
     "output_type": "stream",
     "text": [
      "2024-11-10 04:29:55.598 WARNING streamlit.runtime.scriptrunner_utils.script_run_context: Thread 'MainThread': missing ScriptRunContext! This warning can be ignored when running in bare mode.\n",
      "2024-11-10 04:29:56.697 \n",
      "  \u001b[33m\u001b[1mWarning:\u001b[0m to view this Streamlit app on a browser, run it with the following\n",
      "  command:\n",
      "\n",
      "    streamlit run C:\\Users\\shrey\\AppData\\Local\\Packages\\PythonSoftwareFoundation.Python.3.12_qbz5n2kfra8p0\\LocalCache\\local-packages\\Python312\\site-packages\\ipykernel_launcher.py [ARGUMENTS]\n",
      "2024-11-10 04:29:56.698 Thread 'MainThread': missing ScriptRunContext! This warning can be ignored when running in bare mode.\n",
      "2024-11-10 04:29:56.699 Thread 'MainThread': missing ScriptRunContext! This warning can be ignored when running in bare mode.\n",
      "2024-11-10 04:29:56.701 Thread 'MainThread': missing ScriptRunContext! This warning can be ignored when running in bare mode.\n",
      "2024-11-10 04:29:56.702 Thread 'MainThread': missing ScriptRunContext! This warning can be ignored when running in bare mode.\n",
      "2024-11-10 04:29:56.702 Thread 'MainThread': missing ScriptRunContext! This warning can be ignored when running in bare mode.\n",
      "2024-11-10 04:29:56.703 Thread 'MainThread': missing ScriptRunContext! This warning can be ignored when running in bare mode.\n"
     ]
    }
   ],
   "source": [
    "import streamlit as st\n",
    "import pandas as pd\n",
    "from sklearn.ensemble import IsolationForest\n",
    "import matplotlib.pyplot as plt\n",
    "\n",
    "# Function to perform anomaly detection\n",
    "def detect_anomalies(df, contamination=0.05):\n",
    "    # Ensure the 'Close' column exists\n",
    "    if 'Close' not in df.columns:\n",
    "        st.error(\"CSV file must contain a 'Close' column\")\n",
    "        return None\n",
    "\n",
    "    # Perform anomaly detection using IsolationForest\n",
    "    model = IsolationForest(contamination=contamination)\n",
    "    df['Anomaly'] = model.fit_predict(df[['Close']])\n",
    "\n",
    "    # Anomalies are marked as -1, and normal points as 1\n",
    "    anomalies = df[df['Anomaly'] == -1]\n",
    "\n",
    "    return anomalies\n",
    "\n",
    "# Function to plot the stock price with anomalies\n",
    "def plot_anomalies(df, anomalies):\n",
    "    plt.figure(figsize=(10, 6))\n",
    "    plt.plot(df['Date'], df['Close'], label='Close Price', color='blue')\n",
    "    plt.scatter(anomalies['Date'], anomalies['Close'], color='red', label='Anomalies', zorder=5)\n",
    "    plt.xlabel('Date')\n",
    "    plt.ylabel('Close Price')\n",
    "    plt.title('Stock Price with Anomalies')\n",
    "    plt.legend()\n",
    "    plt.xticks(rotation=45)\n",
    "    st.pyplot(plt)\n",
    "\n",
    "# Streamlit app layout\n",
    "def main():\n",
    "    st.title('Stock Anomaly Detection')\n",
    "\n",
    "    # File upload\n",
    "    uploaded_file = st.file_uploader(\"Upload a CSV file\", type=['csv'])\n",
    "\n",
    "    if uploaded_file is not None:\n",
    "        # Load the CSV file\n",
    "        df = pd.read_csv(r\"C:\\Users\\shrey\\Downloads\\train_processed.csv\")\n",
    "\n",
    "        # Display the first few rows of the uploaded data\n",
    "        st.write(\"Data preview:\", df.head())\n",
    "\n",
    "        # Perform anomaly detection\n",
    "        anomalies = detect_anomalies(df)\n",
    "\n",
    "        if anomalies is not None:\n",
    "            st.write(f\"Identified {len(anomalies)} anomalies.\")\n",
    "            st.write(anomalies[['Date', 'Close']])  # Display anomalies (dates with anomaly)\n",
    "\n",
    "            # Plot the anomalies\n",
    "            plot_anomalies(df, anomalies)\n",
    "\n",
    "# Run the Streamlit app\n",
    "if __name__ == \"__main__\":\n",
    "    main()\n"
   ]
  },
  {
   "cell_type": "code",
   "execution_count": null,
   "metadata": {},
   "outputs": [],
   "source": []
  },
  {
   "cell_type": "code",
   "execution_count": null,
   "metadata": {},
   "outputs": [
    {
     "ename": "SyntaxError",
     "evalue": "invalid syntax (3841272307.py, line 1)",
     "output_type": "error",
     "traceback": [
      "\u001b[1;36m  Cell \u001b[1;32mIn[8], line 1\u001b[1;36m\u001b[0m\n",
      "\u001b[1;33m    streamlit run anomaly_detection_app.py\u001b[0m\n",
      "\u001b[1;37m              ^\u001b[0m\n",
      "\u001b[1;31mSyntaxError\u001b[0m\u001b[1;31m:\u001b[0m invalid syntax\n"
     ]
    }
   ],
   "source": [
    "streamlit run anomaly_detection_app.py\n"
   ]
  },
  {
   "cell_type": "code",
   "execution_count": 1,
   "metadata": {},
   "outputs": [
    {
     "ename": "SyntaxError",
     "evalue": "invalid syntax (2247650335.py, line 1)",
     "output_type": "error",
     "traceback": [
      "\u001b[1;36m  Cell \u001b[1;32mIn[1], line 1\u001b[1;36m\u001b[0m\n\u001b[1;33m    python get-pip.py\u001b[0m\n\u001b[1;37m           ^\u001b[0m\n\u001b[1;31mSyntaxError\u001b[0m\u001b[1;31m:\u001b[0m invalid syntax\n"
     ]
    }
   ],
   "source": [
    "python get-pip.py\n"
   ]
  },
  {
   "cell_type": "code",
   "execution_count": null,
   "metadata": {},
   "outputs": [],
   "source": [
    "streamlit run C:\\path\\to\\your\\project\\anomaly_detection_app.py\n"
   ]
  },
  {
   "cell_type": "code",
   "execution_count": 2,
   "metadata": {},
   "outputs": [
    {
     "name": "stdout",
     "output_type": "stream",
     "text": [
      "Defaulting to user installation because normal site-packages is not writeable\n",
      "Requirement already satisfied: streamlit in c:\\users\\shrey\\appdata\\local\\packages\\pythonsoftwarefoundation.python.3.12_qbz5n2kfra8p0\\localcache\\local-packages\\python312\\site-packages (1.40.0)\n",
      "Requirement already satisfied: altair<6,>=4.0 in c:\\users\\shrey\\appdata\\local\\packages\\pythonsoftwarefoundation.python.3.12_qbz5n2kfra8p0\\localcache\\local-packages\\python312\\site-packages (from streamlit) (5.4.1)\n",
      "Requirement already satisfied: blinker<2,>=1.0.0 in c:\\users\\shrey\\appdata\\local\\packages\\pythonsoftwarefoundation.python.3.12_qbz5n2kfra8p0\\localcache\\local-packages\\python312\\site-packages (from streamlit) (1.9.0)\n",
      "Requirement already satisfied: cachetools<6,>=4.0 in c:\\users\\shrey\\appdata\\local\\packages\\pythonsoftwarefoundation.python.3.12_qbz5n2kfra8p0\\localcache\\local-packages\\python312\\site-packages (from streamlit) (5.5.0)\n",
      "Requirement already satisfied: click<9,>=7.0 in c:\\users\\shrey\\appdata\\local\\packages\\pythonsoftwarefoundation.python.3.12_qbz5n2kfra8p0\\localcache\\local-packages\\python312\\site-packages (from streamlit) (8.1.7)\n",
      "Requirement already satisfied: numpy<3,>=1.20 in c:\\users\\shrey\\appdata\\local\\packages\\pythonsoftwarefoundation.python.3.12_qbz5n2kfra8p0\\localcache\\local-packages\\python312\\site-packages (from streamlit) (2.1.0)\n",
      "Requirement already satisfied: packaging<25,>=20 in c:\\users\\shrey\\appdata\\local\\packages\\pythonsoftwarefoundation.python.3.12_qbz5n2kfra8p0\\localcache\\local-packages\\python312\\site-packages (from streamlit) (24.1)\n",
      "Requirement already satisfied: pandas<3,>=1.4.0 in c:\\users\\shrey\\appdata\\local\\packages\\pythonsoftwarefoundation.python.3.12_qbz5n2kfra8p0\\localcache\\local-packages\\python312\\site-packages (from streamlit) (2.2.2)\n",
      "Requirement already satisfied: pillow<12,>=7.1.0 in c:\\users\\shrey\\appdata\\local\\packages\\pythonsoftwarefoundation.python.3.12_qbz5n2kfra8p0\\localcache\\local-packages\\python312\\site-packages (from streamlit) (11.0.0)\n",
      "Requirement already satisfied: protobuf<6,>=3.20 in c:\\users\\shrey\\appdata\\local\\packages\\pythonsoftwarefoundation.python.3.12_qbz5n2kfra8p0\\localcache\\local-packages\\python312\\site-packages (from streamlit) (5.28.3)\n",
      "Requirement already satisfied: pyarrow>=7.0 in c:\\users\\shrey\\appdata\\local\\packages\\pythonsoftwarefoundation.python.3.12_qbz5n2kfra8p0\\localcache\\local-packages\\python312\\site-packages (from streamlit) (17.0.0)\n",
      "Requirement already satisfied: requests<3,>=2.27 in c:\\users\\shrey\\appdata\\local\\packages\\pythonsoftwarefoundation.python.3.12_qbz5n2kfra8p0\\localcache\\local-packages\\python312\\site-packages (from streamlit) (2.32.3)\n",
      "Requirement already satisfied: rich<14,>=10.14.0 in c:\\users\\shrey\\appdata\\local\\packages\\pythonsoftwarefoundation.python.3.12_qbz5n2kfra8p0\\localcache\\local-packages\\python312\\site-packages (from streamlit) (13.7.1)\n",
      "Requirement already satisfied: tenacity<10,>=8.1.0 in c:\\users\\shrey\\appdata\\local\\packages\\pythonsoftwarefoundation.python.3.12_qbz5n2kfra8p0\\localcache\\local-packages\\python312\\site-packages (from streamlit) (8.3.0)\n",
      "Requirement already satisfied: toml<2,>=0.10.1 in c:\\users\\shrey\\appdata\\local\\packages\\pythonsoftwarefoundation.python.3.12_qbz5n2kfra8p0\\localcache\\local-packages\\python312\\site-packages (from streamlit) (0.10.2)\n",
      "Requirement already satisfied: typing-extensions<5,>=4.3.0 in c:\\users\\shrey\\appdata\\local\\packages\\pythonsoftwarefoundation.python.3.12_qbz5n2kfra8p0\\localcache\\local-packages\\python312\\site-packages (from streamlit) (4.12.2)\n",
      "Requirement already satisfied: gitpython!=3.1.19,<4,>=3.0.7 in c:\\users\\shrey\\appdata\\local\\packages\\pythonsoftwarefoundation.python.3.12_qbz5n2kfra8p0\\localcache\\local-packages\\python312\\site-packages (from streamlit) (3.1.43)\n",
      "Requirement already satisfied: pydeck<1,>=0.8.0b4 in c:\\users\\shrey\\appdata\\local\\packages\\pythonsoftwarefoundation.python.3.12_qbz5n2kfra8p0\\localcache\\local-packages\\python312\\site-packages (from streamlit) (0.9.1)\n",
      "Requirement already satisfied: tornado<7,>=6.0.3 in c:\\users\\shrey\\appdata\\local\\packages\\pythonsoftwarefoundation.python.3.12_qbz5n2kfra8p0\\localcache\\local-packages\\python312\\site-packages (from streamlit) (6.4.1)\n",
      "Requirement already satisfied: watchdog<6,>=2.1.5 in c:\\users\\shrey\\appdata\\local\\packages\\pythonsoftwarefoundation.python.3.12_qbz5n2kfra8p0\\localcache\\local-packages\\python312\\site-packages (from streamlit) (5.0.3)\n",
      "Requirement already satisfied: jinja2 in c:\\users\\shrey\\appdata\\local\\packages\\pythonsoftwarefoundation.python.3.12_qbz5n2kfra8p0\\localcache\\local-packages\\python312\\site-packages (from altair<6,>=4.0->streamlit) (3.1.4)\n",
      "Requirement already satisfied: jsonschema>=3.0 in c:\\users\\shrey\\appdata\\local\\packages\\pythonsoftwarefoundation.python.3.12_qbz5n2kfra8p0\\localcache\\local-packages\\python312\\site-packages (from altair<6,>=4.0->streamlit) (4.23.0)\n",
      "Requirement already satisfied: narwhals>=1.5.2 in c:\\users\\shrey\\appdata\\local\\packages\\pythonsoftwarefoundation.python.3.12_qbz5n2kfra8p0\\localcache\\local-packages\\python312\\site-packages (from altair<6,>=4.0->streamlit) (1.13.3)\n",
      "Requirement already satisfied: colorama in c:\\users\\shrey\\appdata\\local\\packages\\pythonsoftwarefoundation.python.3.12_qbz5n2kfra8p0\\localcache\\local-packages\\python312\\site-packages (from click<9,>=7.0->streamlit) (0.4.6)\n",
      "Requirement already satisfied: gitdb<5,>=4.0.1 in c:\\users\\shrey\\appdata\\local\\packages\\pythonsoftwarefoundation.python.3.12_qbz5n2kfra8p0\\localcache\\local-packages\\python312\\site-packages (from gitpython!=3.1.19,<4,>=3.0.7->streamlit) (4.0.11)\n",
      "Requirement already satisfied: python-dateutil>=2.8.2 in c:\\users\\shrey\\appdata\\local\\packages\\pythonsoftwarefoundation.python.3.12_qbz5n2kfra8p0\\localcache\\local-packages\\python312\\site-packages (from pandas<3,>=1.4.0->streamlit) (2.9.0.post0)\n",
      "Requirement already satisfied: pytz>=2020.1 in c:\\users\\shrey\\appdata\\local\\packages\\pythonsoftwarefoundation.python.3.12_qbz5n2kfra8p0\\localcache\\local-packages\\python312\\site-packages (from pandas<3,>=1.4.0->streamlit) (2024.1)\n",
      "Requirement already satisfied: tzdata>=2022.7 in c:\\users\\shrey\\appdata\\local\\packages\\pythonsoftwarefoundation.python.3.12_qbz5n2kfra8p0\\localcache\\local-packages\\python312\\site-packages (from pandas<3,>=1.4.0->streamlit) (2024.1)\n",
      "Requirement already satisfied: charset-normalizer<4,>=2 in c:\\users\\shrey\\appdata\\local\\packages\\pythonsoftwarefoundation.python.3.12_qbz5n2kfra8p0\\localcache\\local-packages\\python312\\site-packages (from requests<3,>=2.27->streamlit) (3.3.2)\n",
      "Requirement already satisfied: idna<4,>=2.5 in c:\\users\\shrey\\appdata\\local\\packages\\pythonsoftwarefoundation.python.3.12_qbz5n2kfra8p0\\localcache\\local-packages\\python312\\site-packages (from requests<3,>=2.27->streamlit) (3.7)\n",
      "Requirement already satisfied: urllib3<3,>=1.21.1 in c:\\users\\shrey\\appdata\\local\\packages\\pythonsoftwarefoundation.python.3.12_qbz5n2kfra8p0\\localcache\\local-packages\\python312\\site-packages (from requests<3,>=2.27->streamlit) (2.2.2)\n",
      "Requirement already satisfied: certifi>=2017.4.17 in c:\\users\\shrey\\appdata\\local\\packages\\pythonsoftwarefoundation.python.3.12_qbz5n2kfra8p0\\localcache\\local-packages\\python312\\site-packages (from requests<3,>=2.27->streamlit) (2024.7.4)\n",
      "Requirement already satisfied: markdown-it-py>=2.2.0 in c:\\users\\shrey\\appdata\\local\\packages\\pythonsoftwarefoundation.python.3.12_qbz5n2kfra8p0\\localcache\\local-packages\\python312\\site-packages (from rich<14,>=10.14.0->streamlit) (3.0.0)\n",
      "Requirement already satisfied: pygments<3.0.0,>=2.13.0 in c:\\users\\shrey\\appdata\\local\\packages\\pythonsoftwarefoundation.python.3.12_qbz5n2kfra8p0\\localcache\\local-packages\\python312\\site-packages (from rich<14,>=10.14.0->streamlit) (2.18.0)\n",
      "Requirement already satisfied: smmap<6,>=3.0.1 in c:\\users\\shrey\\appdata\\local\\packages\\pythonsoftwarefoundation.python.3.12_qbz5n2kfra8p0\\localcache\\local-packages\\python312\\site-packages (from gitdb<5,>=4.0.1->gitpython!=3.1.19,<4,>=3.0.7->streamlit) (5.0.1)\n",
      "Requirement already satisfied: MarkupSafe>=2.0 in c:\\users\\shrey\\appdata\\local\\packages\\pythonsoftwarefoundation.python.3.12_qbz5n2kfra8p0\\localcache\\local-packages\\python312\\site-packages (from jinja2->altair<6,>=4.0->streamlit) (3.0.2)\n",
      "Requirement already satisfied: attrs>=22.2.0 in c:\\users\\shrey\\appdata\\local\\packages\\pythonsoftwarefoundation.python.3.12_qbz5n2kfra8p0\\localcache\\local-packages\\python312\\site-packages (from jsonschema>=3.0->altair<6,>=4.0->streamlit) (24.2.0)\n",
      "Requirement already satisfied: jsonschema-specifications>=2023.03.6 in c:\\users\\shrey\\appdata\\local\\packages\\pythonsoftwarefoundation.python.3.12_qbz5n2kfra8p0\\localcache\\local-packages\\python312\\site-packages (from jsonschema>=3.0->altair<6,>=4.0->streamlit) (2024.10.1)\n",
      "Requirement already satisfied: referencing>=0.28.4 in c:\\users\\shrey\\appdata\\local\\packages\\pythonsoftwarefoundation.python.3.12_qbz5n2kfra8p0\\localcache\\local-packages\\python312\\site-packages (from jsonschema>=3.0->altair<6,>=4.0->streamlit) (0.35.1)\n",
      "Requirement already satisfied: rpds-py>=0.7.1 in c:\\users\\shrey\\appdata\\local\\packages\\pythonsoftwarefoundation.python.3.12_qbz5n2kfra8p0\\localcache\\local-packages\\python312\\site-packages (from jsonschema>=3.0->altair<6,>=4.0->streamlit) (0.21.0)\n",
      "Requirement already satisfied: mdurl~=0.1 in c:\\users\\shrey\\appdata\\local\\packages\\pythonsoftwarefoundation.python.3.12_qbz5n2kfra8p0\\localcache\\local-packages\\python312\\site-packages (from markdown-it-py>=2.2.0->rich<14,>=10.14.0->streamlit) (0.1.2)\n",
      "Requirement already satisfied: six>=1.5 in c:\\users\\shrey\\appdata\\local\\packages\\pythonsoftwarefoundation.python.3.12_qbz5n2kfra8p0\\localcache\\local-packages\\python312\\site-packages (from python-dateutil>=2.8.2->pandas<3,>=1.4.0->streamlit) (1.16.0)\n"
     ]
    },
    {
     "name": "stderr",
     "output_type": "stream",
     "text": [
      "\n",
      "[notice] A new release of pip is available: 24.2 -> 24.3.1\n",
      "[notice] To update, run: C:\\Users\\shrey\\AppData\\Local\\Microsoft\\WindowsApps\\PythonSoftwareFoundation.Python.3.12_qbz5n2kfra8p0\\python.exe -m pip install --upgrade pip\n"
     ]
    }
   ],
   "source": [
    "!pip install streamlit\n"
   ]
  },
  {
   "cell_type": "code",
   "execution_count": 3,
   "metadata": {},
   "outputs": [
    {
     "ename": "NameError",
     "evalue": "name 'streamlit' is not defined",
     "output_type": "error",
     "traceback": [
      "\u001b[1;31m---------------------------------------------------------------------------\u001b[0m",
      "\u001b[1;31mNameError\u001b[0m                                 Traceback (most recent call last)",
      "Cell \u001b[1;32mIn[3], line 1\u001b[0m\n\u001b[1;32m----> 1\u001b[0m \u001b[43mstreamlit\u001b[49m \u001b[38;5;241m-\u001b[39m\u001b[38;5;241m-\u001b[39mversion\n",
      "\u001b[1;31mNameError\u001b[0m: name 'streamlit' is not defined"
     ]
    }
   ],
   "source": [
    "streamlit --version\n"
   ]
  },
  {
   "cell_type": "code",
   "execution_count": 4,
   "metadata": {},
   "outputs": [
    {
     "name": "stdout",
     "output_type": "stream",
     "text": [
      "Defaulting to user installation because normal site-packages is not writeable\n",
      "Collecting flask\n",
      "  Downloading flask-3.0.3-py3-none-any.whl.metadata (3.2 kB)\n",
      "Requirement already satisfied: pandas in c:\\users\\shrey\\appdata\\local\\packages\\pythonsoftwarefoundation.python.3.12_qbz5n2kfra8p0\\localcache\\local-packages\\python312\\site-packages (2.2.2)\n",
      "Requirement already satisfied: scikit-learn in c:\\users\\shrey\\appdata\\local\\packages\\pythonsoftwarefoundation.python.3.12_qbz5n2kfra8p0\\localcache\\local-packages\\python312\\site-packages (1.5.2)\n",
      "Requirement already satisfied: joblib in c:\\users\\shrey\\appdata\\local\\packages\\pythonsoftwarefoundation.python.3.12_qbz5n2kfra8p0\\localcache\\local-packages\\python312\\site-packages (1.4.2)\n",
      "Collecting Werkzeug>=3.0.0 (from flask)\n",
      "  Downloading werkzeug-3.1.3-py3-none-any.whl.metadata (3.7 kB)\n",
      "Requirement already satisfied: Jinja2>=3.1.2 in c:\\users\\shrey\\appdata\\local\\packages\\pythonsoftwarefoundation.python.3.12_qbz5n2kfra8p0\\localcache\\local-packages\\python312\\site-packages (from flask) (3.1.4)\n",
      "Collecting itsdangerous>=2.1.2 (from flask)\n",
      "  Downloading itsdangerous-2.2.0-py3-none-any.whl.metadata (1.9 kB)\n",
      "Requirement already satisfied: click>=8.1.3 in c:\\users\\shrey\\appdata\\local\\packages\\pythonsoftwarefoundation.python.3.12_qbz5n2kfra8p0\\localcache\\local-packages\\python312\\site-packages (from flask) (8.1.7)\n",
      "Requirement already satisfied: blinker>=1.6.2 in c:\\users\\shrey\\appdata\\local\\packages\\pythonsoftwarefoundation.python.3.12_qbz5n2kfra8p0\\localcache\\local-packages\\python312\\site-packages (from flask) (1.9.0)\n",
      "Requirement already satisfied: numpy>=1.26.0 in c:\\users\\shrey\\appdata\\local\\packages\\pythonsoftwarefoundation.python.3.12_qbz5n2kfra8p0\\localcache\\local-packages\\python312\\site-packages (from pandas) (2.1.0)\n",
      "Requirement already satisfied: python-dateutil>=2.8.2 in c:\\users\\shrey\\appdata\\local\\packages\\pythonsoftwarefoundation.python.3.12_qbz5n2kfra8p0\\localcache\\local-packages\\python312\\site-packages (from pandas) (2.9.0.post0)\n",
      "Requirement already satisfied: pytz>=2020.1 in c:\\users\\shrey\\appdata\\local\\packages\\pythonsoftwarefoundation.python.3.12_qbz5n2kfra8p0\\localcache\\local-packages\\python312\\site-packages (from pandas) (2024.1)\n",
      "Requirement already satisfied: tzdata>=2022.7 in c:\\users\\shrey\\appdata\\local\\packages\\pythonsoftwarefoundation.python.3.12_qbz5n2kfra8p0\\localcache\\local-packages\\python312\\site-packages (from pandas) (2024.1)\n",
      "Requirement already satisfied: scipy>=1.6.0 in c:\\users\\shrey\\appdata\\local\\packages\\pythonsoftwarefoundation.python.3.12_qbz5n2kfra8p0\\localcache\\local-packages\\python312\\site-packages (from scikit-learn) (1.14.1)\n",
      "Requirement already satisfied: threadpoolctl>=3.1.0 in c:\\users\\shrey\\appdata\\local\\packages\\pythonsoftwarefoundation.python.3.12_qbz5n2kfra8p0\\localcache\\local-packages\\python312\\site-packages (from scikit-learn) (3.5.0)\n",
      "Requirement already satisfied: colorama in c:\\users\\shrey\\appdata\\local\\packages\\pythonsoftwarefoundation.python.3.12_qbz5n2kfra8p0\\localcache\\local-packages\\python312\\site-packages (from click>=8.1.3->flask) (0.4.6)\n",
      "Requirement already satisfied: MarkupSafe>=2.0 in c:\\users\\shrey\\appdata\\local\\packages\\pythonsoftwarefoundation.python.3.12_qbz5n2kfra8p0\\localcache\\local-packages\\python312\\site-packages (from Jinja2>=3.1.2->flask) (3.0.2)\n",
      "Requirement already satisfied: six>=1.5 in c:\\users\\shrey\\appdata\\local\\packages\\pythonsoftwarefoundation.python.3.12_qbz5n2kfra8p0\\localcache\\local-packages\\python312\\site-packages (from python-dateutil>=2.8.2->pandas) (1.16.0)\n",
      "Downloading flask-3.0.3-py3-none-any.whl (101 kB)\n",
      "Downloading itsdangerous-2.2.0-py3-none-any.whl (16 kB)\n",
      "Downloading werkzeug-3.1.3-py3-none-any.whl (224 kB)\n",
      "Installing collected packages: Werkzeug, itsdangerous, flask\n",
      "Successfully installed Werkzeug-3.1.3 flask-3.0.3 itsdangerous-2.2.0\n"
     ]
    },
    {
     "name": "stderr",
     "output_type": "stream",
     "text": [
      "\n",
      "[notice] A new release of pip is available: 24.2 -> 24.3.1\n",
      "[notice] To update, run: C:\\Users\\shrey\\AppData\\Local\\Microsoft\\WindowsApps\\PythonSoftwareFoundation.Python.3.12_qbz5n2kfra8p0\\python.exe -m pip install --upgrade pip\n"
     ]
    }
   ],
   "source": [
    "!pip install flask pandas scikit-learn joblib\n"
   ]
  },
  {
   "cell_type": "code",
   "execution_count": 5,
   "metadata": {},
   "outputs": [
    {
     "name": "stderr",
     "output_type": "stream",
     "text": [
      "\n",
      "[notice] A new release of pip is available: 24.2 -> 24.3.1\n",
      "[notice] To update, run: C:\\Users\\shrey\\AppData\\Local\\Microsoft\\WindowsApps\\PythonSoftwareFoundation.Python.3.12_qbz5n2kfra8p0\\python.exe -m pip install --upgrade pip\n"
     ]
    },
    {
     "name": "stdout",
     "output_type": "stream",
     "text": [
      "Defaulting to user installation because normal site-packages is not writeable\n",
      "Collecting fastapi\n",
      "  Downloading fastapi-0.115.4-py3-none-any.whl.metadata (27 kB)\n",
      "Collecting uvicorn\n",
      "  Downloading uvicorn-0.32.0-py3-none-any.whl.metadata (6.6 kB)\n",
      "Requirement already satisfied: pandas in c:\\users\\shrey\\appdata\\local\\packages\\pythonsoftwarefoundation.python.3.12_qbz5n2kfra8p0\\localcache\\local-packages\\python312\\site-packages (2.2.2)\n",
      "Requirement already satisfied: scikit-learn in c:\\users\\shrey\\appdata\\local\\packages\\pythonsoftwarefoundation.python.3.12_qbz5n2kfra8p0\\localcache\\local-packages\\python312\\site-packages (1.5.2)\n",
      "Requirement already satisfied: joblib in c:\\users\\shrey\\appdata\\local\\packages\\pythonsoftwarefoundation.python.3.12_qbz5n2kfra8p0\\localcache\\local-packages\\python312\\site-packages (1.4.2)\n",
      "Collecting starlette<0.42.0,>=0.40.0 (from fastapi)\n",
      "  Downloading starlette-0.41.2-py3-none-any.whl.metadata (6.0 kB)\n",
      "Requirement already satisfied: pydantic!=1.8,!=1.8.1,!=2.0.0,!=2.0.1,!=2.1.0,<3.0.0,>=1.7.4 in c:\\users\\shrey\\appdata\\local\\packages\\pythonsoftwarefoundation.python.3.12_qbz5n2kfra8p0\\localcache\\local-packages\\python312\\site-packages (from fastapi) (2.8.2)\n",
      "Requirement already satisfied: typing-extensions>=4.8.0 in c:\\users\\shrey\\appdata\\local\\packages\\pythonsoftwarefoundation.python.3.12_qbz5n2kfra8p0\\localcache\\local-packages\\python312\\site-packages (from fastapi) (4.12.2)\n",
      "Requirement already satisfied: click>=7.0 in c:\\users\\shrey\\appdata\\local\\packages\\pythonsoftwarefoundation.python.3.12_qbz5n2kfra8p0\\localcache\\local-packages\\python312\\site-packages (from uvicorn) (8.1.7)\n",
      "Requirement already satisfied: h11>=0.8 in c:\\users\\shrey\\appdata\\local\\packages\\pythonsoftwarefoundation.python.3.12_qbz5n2kfra8p0\\localcache\\local-packages\\python312\\site-packages (from uvicorn) (0.14.0)\n",
      "Requirement already satisfied: numpy>=1.26.0 in c:\\users\\shrey\\appdata\\local\\packages\\pythonsoftwarefoundation.python.3.12_qbz5n2kfra8p0\\localcache\\local-packages\\python312\\site-packages (from pandas) (2.1.0)\n",
      "Requirement already satisfied: python-dateutil>=2.8.2 in c:\\users\\shrey\\appdata\\local\\packages\\pythonsoftwarefoundation.python.3.12_qbz5n2kfra8p0\\localcache\\local-packages\\python312\\site-packages (from pandas) (2.9.0.post0)\n",
      "Requirement already satisfied: pytz>=2020.1 in c:\\users\\shrey\\appdata\\local\\packages\\pythonsoftwarefoundation.python.3.12_qbz5n2kfra8p0\\localcache\\local-packages\\python312\\site-packages (from pandas) (2024.1)\n",
      "Requirement already satisfied: tzdata>=2022.7 in c:\\users\\shrey\\appdata\\local\\packages\\pythonsoftwarefoundation.python.3.12_qbz5n2kfra8p0\\localcache\\local-packages\\python312\\site-packages (from pandas) (2024.1)\n",
      "Requirement already satisfied: scipy>=1.6.0 in c:\\users\\shrey\\appdata\\local\\packages\\pythonsoftwarefoundation.python.3.12_qbz5n2kfra8p0\\localcache\\local-packages\\python312\\site-packages (from scikit-learn) (1.14.1)\n",
      "Requirement already satisfied: threadpoolctl>=3.1.0 in c:\\users\\shrey\\appdata\\local\\packages\\pythonsoftwarefoundation.python.3.12_qbz5n2kfra8p0\\localcache\\local-packages\\python312\\site-packages (from scikit-learn) (3.5.0)\n",
      "Requirement already satisfied: colorama in c:\\users\\shrey\\appdata\\local\\packages\\pythonsoftwarefoundation.python.3.12_qbz5n2kfra8p0\\localcache\\local-packages\\python312\\site-packages (from click>=7.0->uvicorn) (0.4.6)\n",
      "Requirement already satisfied: annotated-types>=0.4.0 in c:\\users\\shrey\\appdata\\local\\packages\\pythonsoftwarefoundation.python.3.12_qbz5n2kfra8p0\\localcache\\local-packages\\python312\\site-packages (from pydantic!=1.8,!=1.8.1,!=2.0.0,!=2.0.1,!=2.1.0,<3.0.0,>=1.7.4->fastapi) (0.7.0)\n",
      "Requirement already satisfied: pydantic-core==2.20.1 in c:\\users\\shrey\\appdata\\local\\packages\\pythonsoftwarefoundation.python.3.12_qbz5n2kfra8p0\\localcache\\local-packages\\python312\\site-packages (from pydantic!=1.8,!=1.8.1,!=2.0.0,!=2.0.1,!=2.1.0,<3.0.0,>=1.7.4->fastapi) (2.20.1)\n",
      "Requirement already satisfied: six>=1.5 in c:\\users\\shrey\\appdata\\local\\packages\\pythonsoftwarefoundation.python.3.12_qbz5n2kfra8p0\\localcache\\local-packages\\python312\\site-packages (from python-dateutil>=2.8.2->pandas) (1.16.0)\n",
      "Requirement already satisfied: anyio<5,>=3.4.0 in c:\\users\\shrey\\appdata\\local\\packages\\pythonsoftwarefoundation.python.3.12_qbz5n2kfra8p0\\localcache\\local-packages\\python312\\site-packages (from starlette<0.42.0,>=0.40.0->fastapi) (4.4.0)\n",
      "Requirement already satisfied: idna>=2.8 in c:\\users\\shrey\\appdata\\local\\packages\\pythonsoftwarefoundation.python.3.12_qbz5n2kfra8p0\\localcache\\local-packages\\python312\\site-packages (from anyio<5,>=3.4.0->starlette<0.42.0,>=0.40.0->fastapi) (3.7)\n",
      "Requirement already satisfied: sniffio>=1.1 in c:\\users\\shrey\\appdata\\local\\packages\\pythonsoftwarefoundation.python.3.12_qbz5n2kfra8p0\\localcache\\local-packages\\python312\\site-packages (from anyio<5,>=3.4.0->starlette<0.42.0,>=0.40.0->fastapi) (1.3.1)\n",
      "Downloading fastapi-0.115.4-py3-none-any.whl (94 kB)\n",
      "Downloading uvicorn-0.32.0-py3-none-any.whl (63 kB)\n",
      "Downloading starlette-0.41.2-py3-none-any.whl (73 kB)\n",
      "Installing collected packages: uvicorn, starlette, fastapi\n",
      "Successfully installed fastapi-0.115.4 starlette-0.41.2 uvicorn-0.32.0\n"
     ]
    }
   ],
   "source": [
    "!pip install fastapi uvicorn pandas scikit-learn joblib\n"
   ]
  },
  {
   "cell_type": "code",
   "execution_count": 10,
   "metadata": {},
   "outputs": [
    {
     "name": "stdout",
     "output_type": "stream",
     "text": [
      "Anomaly dates: ['08/17/1928', '09/25/1928', '06/22/1931', '12/31/1931', '02/09/1932', '08/04/1932', '08/30/1933', '09/01/1933', '03/20/1934', '11/09/1934', '11/23/1934', '10/19/1936', '11/04/1936', '12/15/1936', '01/21/1937', '05/19/1937', '03/23/1938', '04/05/1938', '04/18/1938', '06/17/1938', '12/22/1938', '09/17/1940', '11/14/1940', '07/22/1941', '04/23/1942', '06/17/1942', '08/21/1942', '11/06/1942', '12/22/1942', '02/02/1944', '03/05/1945', '06/28/1945', '08/14/1945', '02/19/1947', '12/07/1948', '03/31/1950', '05/15/1950', '11/20/1950', '11/29/1951', '09/17/1952', '09/30/1952', '08/24/1953', '06/14/1954', '11/26/1954', '07/17/1956', '07/15/1958', '03/13/1959', '12/08/1959', '05/05/1960', '08/08/1960', '03/14/1962', '07/26/1962', '09/12/1962', '05/04/1964', '03/19/1965', '04/27/1965', '09/21/1965', '01/20/1966', '04/24/1967', '05/03/1967', '03/27/1968', '06/24/1968', '04/06/1970', '12/30/1971', '08/25/1972', '06/13/1973', '08/21/1975', '06/07/1976', '06/30/1976', '08/19/1976', '12/16/1976', '10/12/1978', '02/26/1980', '02/10/1982', '06/30/1982', '09/19/1983', '01/15/1985', '04/22/1986', '09/05/1986', '11/14/1986', '12/11/1986', '03/04/1987', '08/02/1989', '09/25/1991', '12/09/1992', '08/01/1994', '02/17/1995', '08/02/1996', '10/03/1997', '11/10/1997', '04/28/1999', '05/31/2000', '07/11/2000', '05/07/2001', '06/08/2001', '12/26/2001', '06/02/2003', '06/06/2003', '09/12/2003', '03/01/2004', '07/15/2004', '11/23/2004', '12/29/2004', '06/12/2006', '06/04/2007', '06/06/2007', '07/25/2007', '08/21/2007', '07/15/2008', '09/30/2008', '10/23/2008', '12/30/2008', '10/21/2009', '10/08/2010', '12/10/2010', '06/15/2012', '01/23/2014', '04/02/2014', '12/29/2014', '02/05/2016', '07/12/2016', '05/31/2017', '09/11/2017', '01/09/2018', '11/15/2019', '11/18/2019', '11/19/2019', '11/25/2019', '11/26/2019', '11/27/2019', '11/29/2019', '12/05/2019', '12/06/2019', '12/09/2019', '12/10/2019', '12/11/2019', '12/12/2019', '12/13/2019', '12/16/2019', '12/17/2019', '12/18/2019', '12/19/2019', '12/20/2019', '12/23/2019', '12/24/2019', '12/26/2019', '12/27/2019', '12/30/2019', '12/31/2019', '01/02/2020', '01/03/2020', '01/06/2020', '01/07/2020', '01/08/2020', '01/09/2020', '01/10/2020', '01/13/2020', '01/14/2020', '01/15/2020', '01/16/2020', '01/17/2020', '01/21/2020', '01/22/2020', '01/23/2020', '01/24/2020', '01/27/2020', '01/28/2020', '01/29/2020', '01/30/2020', '01/31/2020', '02/03/2020', '02/04/2020', '02/05/2020', '02/06/2020', '02/07/2020', '02/10/2020', '02/11/2020', '02/12/2020', '02/13/2020', '02/14/2020', '02/18/2020', '02/19/2020', '02/20/2020', '02/21/2020', '02/24/2020', '02/26/2020', '03/04/2020', '06/03/2020', '06/05/2020', '06/08/2020', '06/09/2020', '06/10/2020', '06/16/2020', '06/18/2020', '06/22/2020', '06/23/2020', '07/01/2020', '07/02/2020', '07/06/2020', '07/07/2020', '07/08/2020', '07/09/2020', '07/10/2020', '07/13/2020', '07/14/2020', '07/15/2020', '07/16/2020', '07/17/2020', '07/20/2020', '07/21/2020', '07/22/2020', '07/23/2020', '07/24/2020', '07/27/2020', '07/28/2020', '07/29/2020', '07/30/2020', '07/31/2020', '08/03/2020', '08/04/2020', '08/05/2020', '08/06/2020', '08/07/2020', '08/10/2020', '08/11/2020', '08/12/2020', '08/13/2020', '08/14/2020', '08/17/2020', '08/18/2020', '08/19/2020', '08/20/2020', '08/21/2020', '08/24/2020', '08/25/2020', '08/26/2020', '08/27/2020', '08/28/2020', '08/31/2020', '09/01/2020', '09/02/2020', '09/03/2020', '09/04/2020', '09/08/2020', '09/09/2020', '09/10/2020', '09/11/2020', '09/14/2020', '09/15/2020', '09/16/2020', '09/17/2020', '09/18/2020', '09/21/2020', '09/22/2020', '09/23/2020', '09/24/2020', '09/25/2020', '09/28/2020', '09/29/2020', '09/30/2020', '10/01/2020', '10/02/2020', '10/05/2020', '10/06/2020', '10/07/2020', '10/08/2020', '10/09/2020', '10/13/2020', '10/14/2020', '10/15/2020', '10/16/2020', '10/19/2020', '10/20/2020', '10/21/2020', '10/22/2020', '10/23/2020', '10/26/2020', '10/27/2020', '10/28/2020', '10/29/2020', '10/30/2020', '11/02/2020', '11/03/2020', '11/04/2020', '11/05/2020', '11/06/2020', '11/09/2020', '11/10/2020', '11/11/2020', '11/12/2020', '11/13/2020', '11/16/2020', '11/17/2020', '11/18/2020', '11/19/2020', '11/20/2020', '11/23/2020', '11/24/2020', '11/25/2020', '11/27/2020', '11/30/2020', '12/01/2020', '12/02/2020', '12/03/2020', '12/04/2020', '12/07/2020', '12/08/2020', '12/09/2020', '12/10/2020', '12/11/2020', '12/14/2020', '12/15/2020', '12/16/2020', '12/17/2020', '12/18/2020', '12/21/2020', '12/22/2020', '12/23/2020', '12/24/2020', '12/28/2020', '12/29/2020', '12/30/2020', '12/31/2020', '01/04/2021', '01/05/2021', '01/06/2021', '01/07/2021', '01/08/2021', '01/11/2021', '01/12/2021', '01/13/2021', '01/14/2021', '01/15/2021', '01/19/2021', '01/20/2021', '01/21/2021', '01/22/2021', '01/25/2021', '01/26/2021', '01/27/2021', '01/28/2021', '01/29/2021', '02/01/2021', '02/02/2021', '02/03/2021', '02/04/2021', '02/05/2021', '02/08/2021', '02/09/2021', '02/10/2021', '02/11/2021', '02/12/2021', '02/16/2021', '02/17/2021', '02/18/2021', '02/19/2021', '02/22/2021', '02/23/2021', '02/24/2021', '02/25/2021', '02/26/2021', '03/01/2021', '03/02/2021', '03/03/2021', '03/04/2021', '03/05/2021', '03/08/2021', '03/09/2021', '03/10/2021', '03/11/2021', '03/12/2021', '03/15/2021', '03/16/2021', '03/17/2021', '03/18/2021', '03/19/2021', '03/22/2021', '03/23/2021', '03/24/2021', '03/25/2021', '03/26/2021', '03/29/2021', '03/30/2021', '03/31/2021', '04/01/2021', '04/15/2021', '04/16/2021', '04/19/2021', '04/21/2021', '04/23/2021', '04/26/2021', '04/27/2021', '04/28/2021', '04/29/2021', '04/30/2021', '05/03/2021', '05/04/2021', '05/05/2021', '05/06/2021', '05/07/2021', '05/10/2021', '05/11/2021', '05/14/2021', '05/17/2021', '05/20/2021', '05/21/2021', '05/24/2021', '05/25/2021', '05/26/2021', '05/27/2021', '05/28/2021', '06/01/2021', '06/02/2021', '06/03/2021', '06/04/2021', '06/07/2021', '06/08/2021', '06/09/2021', '06/10/2021', '06/11/2021', '06/14/2021', '06/15/2021', '06/16/2021', '06/17/2021', '06/18/2021', '06/21/2021', '06/22/2021', '06/23/2021', '06/24/2021', '06/25/2021', '06/28/2021', '06/29/2021', '06/30/2021', '07/01/2021', '07/02/2021', '07/06/2021', '07/07/2021', '07/08/2021', '07/09/2021', '07/12/2021', '07/13/2021', '07/14/2021', '07/15/2021', '07/16/2021', '07/19/2021', '07/20/2021', '07/21/2021', '07/22/2021', '07/23/2021', '07/26/2021', '07/27/2021', '07/28/2021', '07/29/2021', '07/30/2021', '08/02/2021', '08/03/2021', '08/04/2021', '08/05/2021', '08/06/2021', '08/09/2021', '08/10/2021', '08/11/2021', '08/12/2021', '08/13/2021', '08/16/2021', '08/17/2021', '08/18/2021', '08/19/2021', '08/20/2021', '08/23/2021', '08/24/2021', '08/25/2021', '08/26/2021', '08/27/2021', '08/30/2021', '08/31/2021', '09/01/2021', '09/02/2021', '09/03/2021', '09/07/2021', '09/08/2021', '09/09/2021', '09/10/2021', '09/13/2021', '09/14/2021', '09/15/2021', '09/16/2021', '09/17/2021', '09/20/2021', '09/21/2021', '09/22/2021', '09/23/2021', '09/24/2021', '09/27/2021', '09/28/2021', '09/29/2021', '09/30/2021', '10/01/2021', '10/04/2021', '10/05/2021', '10/06/2021', '10/07/2021', '10/08/2021', '10/11/2021', '10/12/2021', '10/13/2021', '10/14/2021', '10/15/2021', '10/18/2021', '10/19/2021', '10/20/2021', '10/21/2021', '10/22/2021', '10/25/2021', '10/26/2021', '10/27/2021', '10/28/2021', '10/29/2021', '11/01/2021', '11/02/2021', '11/03/2021', '11/04/2021', '11/05/2021', '11/08/2021', '11/09/2021', '11/10/2021', '11/11/2021', '11/12/2021', '11/15/2021', '11/16/2021', '11/17/2021', '11/18/2021', '11/19/2021', '11/22/2021', '11/23/2021', '11/24/2021', '11/26/2021', '11/29/2021', '11/30/2021', '12/01/2021', '12/02/2021', '12/03/2021', '12/06/2021', '12/07/2021', '12/08/2021', '12/09/2021', '12/10/2021', '12/13/2021', '12/14/2021', '12/15/2021', '12/16/2021', '12/17/2021', '12/20/2021', '12/21/2021', '12/22/2021', '12/23/2021', '12/27/2021', '12/28/2021', '12/29/2021', '12/30/2021', '12/31/2021', '01/03/2022', '01/04/2022', '01/05/2022', '01/06/2022', '01/07/2022', '01/10/2022', '01/11/2022', '01/12/2022', '01/13/2022', '01/14/2022', '01/18/2022', '01/19/2022', '01/20/2022', '01/21/2022', '01/24/2022', '01/25/2022', '01/26/2022', '01/27/2022', '01/28/2022', '01/31/2022', '02/01/2022', '02/02/2022', '02/03/2022', '02/04/2022', '02/07/2022', '02/08/2022', '02/09/2022', '02/10/2022', '02/11/2022', '02/14/2022', '02/15/2022', '02/16/2022', '02/17/2022', '02/18/2022', '02/22/2022', '02/23/2022', '02/24/2022', '02/25/2022', '02/28/2022', '03/01/2022', '03/02/2022', '03/03/2022', '03/04/2022', '03/07/2022', '03/08/2022', '03/09/2022', '03/10/2022', '03/11/2022', '03/14/2022', '03/15/2022', '03/16/2022', '03/17/2022', '03/18/2022', '03/21/2022', '03/22/2022', '03/23/2022', '03/24/2022', '03/25/2022', '03/28/2022', '03/29/2022', '03/30/2022', '03/31/2022', '04/01/2022', '04/04/2022', '04/05/2022', '04/06/2022', '04/07/2022', '04/08/2022', '04/11/2022', '04/12/2022', '04/13/2022', '04/14/2022', '04/18/2022', '04/19/2022', '04/20/2022', '04/21/2022', '04/22/2022', '04/25/2022', '04/26/2022', '04/27/2022', '04/28/2022', '05/02/2022', '05/03/2022', '05/04/2022', '05/05/2022', '05/09/2022', '05/10/2022', '05/11/2022', '05/12/2022', '05/13/2022', '05/16/2022', '05/18/2022', '05/19/2022', '05/20/2022', '05/23/2022', '05/24/2022', '05/25/2022', '05/27/2022', '06/02/2022', '06/07/2022', '06/09/2022', '06/10/2022', '06/13/2022', '06/14/2022', '06/15/2022', '06/16/2022', '06/17/2022', '06/21/2022', '06/22/2022', '06/23/2022', '06/24/2022', '06/27/2022', '06/28/2022', '06/29/2022', '06/30/2022', '07/01/2022', '07/05/2022', '07/06/2022', '07/07/2022', '07/08/2022', '07/11/2022', '07/12/2022', '07/13/2022', '07/14/2022', '07/15/2022', '07/18/2022', '07/19/2022', '07/20/2022', '07/21/2022', '07/22/2022', '07/25/2022', '07/26/2022', '07/27/2022', '08/03/2022', '08/04/2022', '08/05/2022', '08/08/2022', '08/10/2022', '08/11/2022', '08/12/2022', '08/15/2022', '08/16/2022', '08/17/2022', '08/18/2022', '08/19/2022', '08/25/2022', '08/29/2022', '08/30/2022', '08/31/2022', '09/01/2022', '09/02/2022', '09/06/2022', '09/07/2022', '09/08/2022', '09/13/2022', '09/14/2022', '09/15/2022', '09/16/2022', '09/19/2022', '09/20/2022', '09/21/2022', '09/22/2022', '09/23/2022', '09/26/2022', '09/27/2022', '09/28/2022', '09/29/2022', '09/30/2022', '10/03/2022', '10/04/2022', '10/05/2022', '10/06/2022', '10/07/2022', '10/10/2022', '10/11/2022', '10/12/2022', '10/13/2022', '10/14/2022', '10/17/2022', '10/18/2022', '10/19/2022', '10/20/2022', '10/21/2022', '10/24/2022', '10/25/2022', '10/26/2022', '10/27/2022', '10/28/2022', '10/31/2022', '11/01/2022', '11/02/2022', '11/03/2022', '11/04/2022', '11/07/2022', '11/08/2022', '11/09/2022', '11/10/2022', '11/11/2022', '11/14/2022', '11/15/2022', '11/16/2022', '11/17/2022', '11/18/2022', '11/21/2022', '11/22/2022', '11/23/2022', '11/25/2022', '11/28/2022', '11/29/2022', '12/05/2022', '12/06/2022', '12/07/2022', '12/08/2022', '12/09/2022', '12/12/2022', '12/13/2022', '12/14/2022', '12/15/2022', '12/16/2022', '12/19/2022', '12/20/2022', '12/21/2022', '12/22/2022', '12/23/2022', '12/27/2022', '12/28/2022', '12/29/2022', '12/30/2022', '01/03/2023', '01/04/2023', '01/05/2023', '01/06/2023', '01/09/2023', '01/10/2023', '01/11/2023', '01/12/2023', '01/13/2023', '01/17/2023', '01/18/2023', '01/19/2023', '01/20/2023', '01/23/2023', '01/24/2023', '01/25/2023', '01/30/2023', '02/02/2023', '02/07/2023', '02/15/2023', '02/21/2023', '02/22/2023', '02/23/2023', '02/24/2023', '02/27/2023', '02/28/2023', '03/01/2023', '03/02/2023', '03/03/2023', '03/06/2023', '03/07/2023', '03/08/2023', '03/09/2023', '03/10/2023', '03/13/2023', '03/14/2023', '03/15/2023', '03/16/2023', '03/17/2023', '03/20/2023', '03/21/2023', '03/22/2023', '03/23/2023', '03/24/2023', '03/27/2023', '03/28/2023', '03/29/2023', '03/30/2023', '04/13/2023', '04/17/2023', '04/18/2023', '04/19/2023', '04/28/2023', '05/01/2023', '05/17/2023', '05/18/2023', '05/19/2023', '05/22/2023', '05/23/2023', '05/25/2023', '05/26/2023', '05/30/2023', '05/31/2023', '06/01/2023', '06/02/2023', '06/05/2023', '06/06/2023', '06/07/2023', '06/08/2023', '06/09/2023', '06/12/2023', '06/13/2023', '06/14/2023', '06/15/2023', '06/16/2023', '06/20/2023', '06/21/2023', '06/22/2023', '06/23/2023', '06/26/2023', '06/27/2023', '06/28/2023', '06/29/2023', '06/30/2023', '07/03/2023', '07/05/2023', '07/06/2023', '07/07/2023', '07/10/2023', '07/11/2023', '07/12/2023', '07/13/2023', '07/14/2023', '07/17/2023', '07/18/2023', '07/19/2023', '07/20/2023', '07/21/2023', '07/24/2023', '07/25/2023', '07/26/2023', '07/27/2023', '07/28/2023', '07/31/2023', '08/01/2023', '08/02/2023', '08/03/2023', '08/04/2023', '08/07/2023', '08/08/2023', '08/09/2023', '08/10/2023', '08/11/2023', '08/14/2023', '08/15/2023', '08/16/2023', '08/17/2023', '08/18/2023', '08/21/2023', '08/22/2023', '08/23/2023', '08/24/2023', '08/25/2023', '08/28/2023', '08/29/2023', '08/30/2023', '08/31/2023', '09/01/2023', '09/05/2023', '09/06/2023', '09/07/2023', '09/08/2023', '09/11/2023', '09/12/2023', '09/13/2023', '09/14/2023', '09/15/2023', '09/18/2023', '09/19/2023', '09/20/2023', '09/21/2023', '09/22/2023', '09/25/2023', '09/26/2023', '09/27/2023', '09/28/2023', '09/29/2023', '10/02/2023', '10/03/2023', '10/04/2023', '10/05/2023', '10/06/2023', '10/09/2023', '10/10/2023', '10/11/2023', '10/12/2023', '10/13/2023', '10/16/2023', '10/17/2023', '10/18/2023', '10/19/2023', '10/20/2023', '10/23/2023', '10/24/2023', '10/25/2023', '10/30/2023', '10/31/2023', '11/01/2023', '11/02/2023', '11/03/2023', '11/06/2023', '11/07/2023', '11/08/2023', '11/09/2023', '11/10/2023', '11/13/2023', '11/14/2023', '11/15/2023', '11/16/2023', '11/17/2023', '11/20/2023', '11/21/2023', '11/22/2023', '11/24/2023', '11/27/2023', '11/28/2023', '11/29/2023', '11/30/2023', '12/01/2023', '12/04/2023', '12/05/2023', '12/06/2023', '12/07/2023', '12/08/2023', '12/11/2023', '12/12/2023', '12/13/2023', '12/14/2023', '12/15/2023', '12/18/2023', '12/19/2023', '12/20/2023', '12/21/2023', '12/22/2023', '12/26/2023', '12/27/2023', '12/28/2023', '12/29/2023', '01/02/2024', '01/03/2024', '01/04/2024', '01/05/2024', '01/08/2024', '01/09/2024', '01/10/2024', '01/11/2024', '01/12/2024', '01/16/2024', '01/17/2024', '01/18/2024', '01/19/2024', '01/22/2024', '01/23/2024', '01/24/2024', '01/25/2024', '01/26/2024', '01/29/2024', '01/30/2024', '01/31/2024', '02/01/2024', '02/02/2024', '02/05/2024', '02/06/2024', '02/07/2024', '02/08/2024', '02/09/2024', '02/12/2024', '02/13/2024', '02/14/2024', '02/15/2024', '02/16/2024', '02/20/2024', '02/21/2024', '02/22/2024', '02/23/2024', '02/26/2024', '02/27/2024', '02/28/2024', '02/29/2024', '03/01/2024', '03/04/2024', '03/05/2024', '03/06/2024', '03/07/2024', '03/08/2024', '03/11/2024', '03/12/2024', '03/13/2024', '03/15/2024', '03/18/2024', '03/19/2024', '03/20/2024', '03/21/2024', '03/22/2024', '03/25/2024', '03/26/2024', '03/27/2024', '03/28/2024', '04/01/2024', '04/02/2024', '04/03/2024', '04/04/2024', '04/05/2024', '04/08/2024', '04/09/2024', '04/10/2024', '04/11/2024', '04/12/2024', '04/15/2024', '04/16/2024', '04/17/2024', '04/18/2024', '04/19/2024', '04/22/2024', '04/23/2024', '04/24/2024', '04/25/2024', '04/26/2024', '04/29/2024', '04/30/2024', '05/01/2024', '05/02/2024', '05/03/2024', '05/06/2024', '05/07/2024', '05/08/2024', '05/09/2024', '05/10/2024', '05/13/2024', '05/14/2024', '05/15/2024', '05/16/2024', '05/17/2024', '05/20/2024', '05/21/2024', '05/22/2024', '05/23/2024', '05/24/2024', '05/28/2024', '05/29/2024', '05/30/2024', '05/31/2024', '06/03/2024', '06/04/2024', '06/05/2024', '06/06/2024', '06/07/2024', '06/10/2024', '06/11/2024', '06/12/2024', '06/13/2024', '06/14/2024', '06/17/2024', '06/18/2024', '06/20/2024', '06/21/2024', '06/24/2024', '06/25/2024', '06/26/2024', '06/27/2024', '06/28/2024', '07/01/2024', '07/02/2024', '07/03/2024', '07/05/2024', '07/08/2024', '07/09/2024', '07/10/2024', '07/11/2024', '07/12/2024', '07/15/2024', '07/16/2024', '07/17/2024', '07/18/2024', '07/19/2024', '07/22/2024', '07/23/2024', '07/24/2024', '07/25/2024', '07/26/2024', '07/29/2024', '07/30/2024', '07/31/2024', '08/01/2024', '08/02/2024', '08/05/2024', '08/06/2024', '08/07/2024', '08/08/2024', '08/09/2024', '08/12/2024', '08/13/2024', '08/14/2024', '08/15/2024', '08/16/2024', '08/19/2024', '08/20/2024', '08/21/2024', '08/22/2024', '08/23/2024', '08/26/2024', '08/27/2024', '08/28/2024', '08/29/2024', '08/30/2024', '09/03/2024', '09/04/2024', '09/05/2024', '09/06/2024', '09/09/2024', '09/10/2024', '09/11/2024', '09/12/2024', '09/13/2024', '09/16/2024', '09/17/2024', '09/18/2024', '09/19/2024', '09/20/2024', '09/23/2024', '09/24/2024', '09/25/2024', '09/26/2024', '09/27/2024', '09/30/2024', '10/01/2024', '10/02/2024', '10/03/2024', '10/04/2024', '10/07/2024', '10/08/2024', '10/09/2024', '10/10/2024', '10/11/2024', '10/14/2024', '10/15/2024', '10/16/2024', '10/17/2024', '10/18/2024', '10/21/2024', '10/22/2024', '10/23/2024', '10/24/2024', '10/25/2024', '10/28/2024', '10/29/2024', '10/30/2024', '10/31/2024', '11/01/2024', '11/04/2024', '11/05/2024', '11/06/2024', '11/07/2024', '11/08/2024']\n"
     ]
    }
   ],
   "source": [
    "import pandas as pd\n",
    "from sklearn.ensemble import IsolationForest\n",
    "import joblib\n",
    "\n",
    "# Load your stock data\n",
    "stock_data = pd.read_csv(r\"C:\\Users\\shrey\\Downloads\\train_processed.csv\")\n",
    "\n",
    "# Fix missing values (NaN) by filling with the mean of the 'Close' column\n",
    "stock_data['Close'] = stock_data['Close'].fillna(stock_data['Close'].mean())\n",
    "\n",
    "# Train the IsolationForest model (using the 'Close' column for anomaly detection)\n",
    "model = IsolationForest(contamination=0.05)\n",
    "model.fit(stock_data[['Close']])\n",
    "\n",
    "# Save the trained model\n",
    "joblib.dump(model, 'anomaly_detection_model.pkl')\n",
    "\n",
    "# Make predictions (anomaly detection)\n",
    "anomalies = model.predict(stock_data[['Close']])\n",
    "\n",
    "# Convert -1 (anomaly) and 1 (normal) to a more readable format\n",
    "stock_data['Anomaly'] = ['Yes' if x == -1 else 'No' for x in anomalies]\n",
    "\n",
    "# Extract the dates of anomalies\n",
    "anomaly_dates = stock_data[stock_data['Anomaly'] == 'Yes']['Date'].tolist()\n",
    "\n",
    "print(\"Anomaly dates:\", anomaly_dates)\n",
    "\n"
   ]
  },
  {
   "cell_type": "code",
   "execution_count": 9,
   "metadata": {},
   "outputs": [
    {
     "ename": "SyntaxError",
     "evalue": "invalid syntax (907613299.py, line 1)",
     "output_type": "error",
     "traceback": [
      "\u001b[1;36m  Cell \u001b[1;32mIn[9], line 1\u001b[1;36m\u001b[0m\n\u001b[1;33m    uvicorn main:app --reload\u001b[0m\n\u001b[1;37m            ^\u001b[0m\n\u001b[1;31mSyntaxError\u001b[0m\u001b[1;31m:\u001b[0m invalid syntax\n"
     ]
    }
   ],
   "source": [
    "uvicorn main:app --reload\n"
   ]
  },
  {
   "cell_type": "code",
   "execution_count": 10,
   "metadata": {},
   "outputs": [
    {
     "name": "stdout",
     "output_type": "stream",
     "text": [
      "Defaulting to user installation because normal site-packages is not writeable\n",
      "Requirement already satisfied: uvicorn in c:\\users\\shrey\\appdata\\local\\packages\\pythonsoftwarefoundation.python.3.12_qbz5n2kfra8p0\\localcache\\local-packages\\python312\\site-packages (0.32.0)\n",
      "Requirement already satisfied: click>=7.0 in c:\\users\\shrey\\appdata\\local\\packages\\pythonsoftwarefoundation.python.3.12_qbz5n2kfra8p0\\localcache\\local-packages\\python312\\site-packages (from uvicorn) (8.1.7)\n",
      "Requirement already satisfied: h11>=0.8 in c:\\users\\shrey\\appdata\\local\\packages\\pythonsoftwarefoundation.python.3.12_qbz5n2kfra8p0\\localcache\\local-packages\\python312\\site-packages (from uvicorn) (0.14.0)\n",
      "Requirement already satisfied: colorama in c:\\users\\shrey\\appdata\\local\\packages\\pythonsoftwarefoundation.python.3.12_qbz5n2kfra8p0\\localcache\\local-packages\\python312\\site-packages (from click>=7.0->uvicorn) (0.4.6)\n"
     ]
    },
    {
     "name": "stderr",
     "output_type": "stream",
     "text": [
      "\n",
      "[notice] A new release of pip is available: 24.2 -> 24.3.1\n",
      "[notice] To update, run: C:\\Users\\shrey\\AppData\\Local\\Microsoft\\WindowsApps\\PythonSoftwareFoundation.Python.3.12_qbz5n2kfra8p0\\python.exe -m pip install --upgrade pip\n"
     ]
    }
   ],
   "source": [
    "!pip install uvicorn\n"
   ]
  },
  {
   "cell_type": "code",
   "execution_count": 6,
   "metadata": {},
   "outputs": [
    {
     "name": "stdout",
     "output_type": "stream",
     "text": [
      "^C\n"
     ]
    }
   ],
   "source": [
    "!uvicorn main:app --reload"
   ]
  },
  {
   "cell_type": "code",
   "execution_count": 2,
   "metadata": {},
   "outputs": [
    {
     "name": "stdout",
     "output_type": "stream",
     "text": [
      "Defaulting to user installation because normal site-packages is not writeable\n",
      "Requirement already satisfied: fastapi in c:\\users\\shrey\\appdata\\local\\packages\\pythonsoftwarefoundation.python.3.12_qbz5n2kfra8p0\\localcache\\local-packages\\python312\\site-packages (0.115.4)\n",
      "Requirement already satisfied: uvicorn in c:\\users\\shrey\\appdata\\local\\packages\\pythonsoftwarefoundation.python.3.12_qbz5n2kfra8p0\\localcache\\local-packages\\python312\\site-packages (0.32.0)\n",
      "Requirement already satisfied: starlette<0.42.0,>=0.40.0 in c:\\users\\shrey\\appdata\\local\\packages\\pythonsoftwarefoundation.python.3.12_qbz5n2kfra8p0\\localcache\\local-packages\\python312\\site-packages (from fastapi) (0.41.2)\n",
      "Requirement already satisfied: pydantic!=1.8,!=1.8.1,!=2.0.0,!=2.0.1,!=2.1.0,<3.0.0,>=1.7.4 in c:\\users\\shrey\\appdata\\local\\packages\\pythonsoftwarefoundation.python.3.12_qbz5n2kfra8p0\\localcache\\local-packages\\python312\\site-packages (from fastapi) (2.8.2)\n",
      "Requirement already satisfied: typing-extensions>=4.8.0 in c:\\users\\shrey\\appdata\\local\\packages\\pythonsoftwarefoundation.python.3.12_qbz5n2kfra8p0\\localcache\\local-packages\\python312\\site-packages (from fastapi) (4.12.2)\n",
      "Requirement already satisfied: click>=7.0 in c:\\users\\shrey\\appdata\\local\\packages\\pythonsoftwarefoundation.python.3.12_qbz5n2kfra8p0\\localcache\\local-packages\\python312\\site-packages (from uvicorn) (8.1.7)\n",
      "Requirement already satisfied: h11>=0.8 in c:\\users\\shrey\\appdata\\local\\packages\\pythonsoftwarefoundation.python.3.12_qbz5n2kfra8p0\\localcache\\local-packages\\python312\\site-packages (from uvicorn) (0.14.0)\n",
      "Requirement already satisfied: colorama in c:\\users\\shrey\\appdata\\local\\packages\\pythonsoftwarefoundation.python.3.12_qbz5n2kfra8p0\\localcache\\local-packages\\python312\\site-packages (from click>=7.0->uvicorn) (0.4.6)\n",
      "Requirement already satisfied: annotated-types>=0.4.0 in c:\\users\\shrey\\appdata\\local\\packages\\pythonsoftwarefoundation.python.3.12_qbz5n2kfra8p0\\localcache\\local-packages\\python312\\site-packages (from pydantic!=1.8,!=1.8.1,!=2.0.0,!=2.0.1,!=2.1.0,<3.0.0,>=1.7.4->fastapi) (0.7.0)\n",
      "Requirement already satisfied: pydantic-core==2.20.1 in c:\\users\\shrey\\appdata\\local\\packages\\pythonsoftwarefoundation.python.3.12_qbz5n2kfra8p0\\localcache\\local-packages\\python312\\site-packages (from pydantic!=1.8,!=1.8.1,!=2.0.0,!=2.0.1,!=2.1.0,<3.0.0,>=1.7.4->fastapi) (2.20.1)\n",
      "Requirement already satisfied: anyio<5,>=3.4.0 in c:\\users\\shrey\\appdata\\local\\packages\\pythonsoftwarefoundation.python.3.12_qbz5n2kfra8p0\\localcache\\local-packages\\python312\\site-packages (from starlette<0.42.0,>=0.40.0->fastapi) (4.4.0)\n",
      "Requirement already satisfied: idna>=2.8 in c:\\users\\shrey\\appdata\\local\\packages\\pythonsoftwarefoundation.python.3.12_qbz5n2kfra8p0\\localcache\\local-packages\\python312\\site-packages (from anyio<5,>=3.4.0->starlette<0.42.0,>=0.40.0->fastapi) (3.7)\n",
      "Requirement already satisfied: sniffio>=1.1 in c:\\users\\shrey\\appdata\\local\\packages\\pythonsoftwarefoundation.python.3.12_qbz5n2kfra8p0\\localcache\\local-packages\\python312\\site-packages (from anyio<5,>=3.4.0->starlette<0.42.0,>=0.40.0->fastapi) (1.3.1)\n"
     ]
    },
    {
     "name": "stderr",
     "output_type": "stream",
     "text": [
      "\n",
      "[notice] A new release of pip is available: 24.2 -> 24.3.1\n",
      "[notice] To update, run: C:\\Users\\shrey\\AppData\\Local\\Microsoft\\WindowsApps\\PythonSoftwareFoundation.Python.3.12_qbz5n2kfra8p0\\python.exe -m pip install --upgrade pip\n"
     ]
    }
   ],
   "source": [
    "!pip install fastapi uvicorn\n"
   ]
  },
  {
   "cell_type": "markdown",
   "metadata": {},
   "source": []
  },
  {
   "cell_type": "code",
   "execution_count": 13,
   "metadata": {},
   "outputs": [
    {
     "name": "stdout",
     "output_type": "stream",
     "text": [
      "Anomaly dates: ['08/17/1928', '09/25/1928', '06/22/1931', '12/31/1931', '02/09/1932', '08/04/1932', '08/30/1933', '09/01/1933', '03/20/1934', '11/09/1934', '11/23/1934', '10/19/1936', '11/04/1936', '12/15/1936', '01/21/1937', '05/19/1937', '03/23/1938', '04/05/1938', '04/18/1938', '06/17/1938', '12/22/1938', '09/17/1940', '11/14/1940', '07/22/1941', '04/23/1942', '06/17/1942', '08/21/1942', '11/06/1942', '12/22/1942', '02/02/1944', '03/05/1945', '06/28/1945', '08/14/1945', '02/19/1947', '12/07/1948', '03/31/1950', '05/15/1950', '11/20/1950', '11/29/1951', '09/17/1952', '09/30/1952', '08/24/1953', '06/14/1954', '11/26/1954', '07/17/1956', '07/15/1958', '03/13/1959', '12/08/1959', '05/05/1960', '08/08/1960', '03/14/1962', '07/26/1962', '09/12/1962', '05/04/1964', '03/19/1965', '04/27/1965', '09/21/1965', '01/20/1966', '04/24/1967', '05/03/1967', '03/27/1968', '06/24/1968', '04/06/1970', '12/30/1971', '08/25/1972', '06/13/1973', '08/21/1975', '06/07/1976', '06/30/1976', '08/19/1976', '12/16/1976', '10/12/1978', '02/26/1980', '02/10/1982', '06/30/1982', '09/19/1983', '01/15/1985', '04/22/1986', '09/05/1986', '11/14/1986', '12/11/1986', '03/04/1987', '08/02/1989', '09/25/1991', '12/09/1992', '08/01/1994', '02/17/1995', '08/02/1996', '10/03/1997', '11/10/1997', '04/28/1999', '05/31/2000', '07/11/2000', '05/07/2001', '06/08/2001', '12/26/2001', '06/02/2003', '06/06/2003', '09/12/2003', '03/01/2004', '07/15/2004', '11/23/2004', '12/29/2004', '06/12/2006', '06/04/2007', '06/06/2007', '07/25/2007', '08/21/2007', '07/15/2008', '09/30/2008', '10/23/2008', '12/30/2008', '10/21/2009', '10/08/2010', '12/10/2010', '06/15/2012', '01/23/2014', '04/02/2014', '12/29/2014', '02/05/2016', '07/12/2016', '05/31/2017', '09/11/2017', '01/09/2018', '12/16/2019', '12/17/2019', '12/18/2019', '01/13/2020', '01/15/2020', '01/16/2020', '01/17/2020', '01/21/2020', '01/22/2020', '01/23/2020', '01/24/2020', '02/04/2020', '02/05/2020', '02/06/2020', '02/07/2020', '02/10/2020', '02/11/2020', '02/12/2020', '02/13/2020', '02/14/2020', '02/18/2020', '02/19/2020', '02/20/2020', '02/21/2020', '06/05/2020', '06/10/2020', '07/14/2020', '07/21/2020', '08/03/2020', '08/04/2020', '08/05/2020', '08/06/2020', '08/07/2020', '08/10/2020', '08/11/2020', '08/12/2020', '08/13/2020', '08/14/2020', '08/17/2020', '08/18/2020', '08/19/2020', '08/20/2020', '08/21/2020', '08/24/2020', '08/25/2020', '08/31/2020', '09/01/2020', '09/02/2020', '09/04/2020', '09/08/2020', '09/09/2020', '09/10/2020', '09/11/2020', '09/14/2020', '09/15/2020', '09/16/2020', '09/17/2020', '09/18/2020', '09/22/2020', '09/25/2020', '09/28/2020', '09/29/2020', '09/30/2020', '10/01/2020', '10/02/2020', '10/05/2020', '10/06/2020', '10/07/2020', '10/08/2020', '10/19/2020', '10/20/2020', '10/21/2020', '10/26/2020', '10/27/2020', '10/29/2020', '11/02/2020', '11/03/2020', '11/04/2020', '11/09/2020', '11/11/2020', '11/13/2020', '11/16/2020', '11/17/2020', '11/18/2020', '11/19/2020', '11/20/2020', '11/23/2020', '11/24/2020', '11/25/2020', '11/27/2020', '11/30/2020', '12/01/2020', '12/02/2020', '12/03/2020', '12/04/2020', '12/07/2020', '12/08/2020', '12/09/2020', '12/10/2020', '12/11/2020', '12/14/2020', '12/15/2020', '12/16/2020', '12/17/2020', '12/18/2020', '12/21/2020', '12/22/2020', '12/23/2020', '12/24/2020', '12/28/2020', '12/29/2020', '12/30/2020', '12/31/2020', '01/04/2021', '01/05/2021', '01/06/2021', '01/07/2021', '01/08/2021', '01/11/2021', '01/12/2021', '01/13/2021', '01/14/2021', '01/15/2021', '01/19/2021', '01/20/2021', '01/21/2021', '01/22/2021', '01/25/2021', '01/26/2021', '01/27/2021', '01/28/2021', '01/29/2021', '02/01/2021', '02/02/2021', '02/03/2021', '02/04/2021', '02/05/2021', '02/08/2021', '02/09/2021', '02/10/2021', '02/11/2021', '02/12/2021', '02/16/2021', '02/17/2021', '02/18/2021', '02/19/2021', '02/22/2021', '02/23/2021', '02/24/2021', '02/25/2021', '02/26/2021', '03/01/2021', '03/02/2021', '03/03/2021', '03/04/2021', '03/05/2021', '03/08/2021', '03/09/2021', '03/10/2021', '03/11/2021', '03/12/2021', '03/15/2021', '03/16/2021', '03/17/2021', '03/18/2021', '03/19/2021', '03/22/2021', '03/23/2021', '03/24/2021', '03/25/2021', '03/26/2021', '03/29/2021', '03/30/2021', '03/31/2021', '04/01/2021', '04/05/2021', '04/06/2021', '04/07/2021', '04/08/2021', '04/09/2021', '04/12/2021', '04/13/2021', '04/14/2021', '04/15/2021', '04/16/2021', '04/19/2021', '04/20/2021', '04/21/2021', '04/22/2021', '04/23/2021', '04/26/2021', '04/27/2021', '04/28/2021', '04/29/2021', '04/30/2021', '05/03/2021', '05/04/2021', '05/05/2021', '05/06/2021', '05/07/2021', '05/10/2021', '05/11/2021', '05/12/2021', '05/13/2021', '05/14/2021', '05/17/2021', '05/18/2021', '05/19/2021', '05/20/2021', '05/21/2021', '05/24/2021', '05/25/2021', '05/26/2021', '05/27/2021', '05/28/2021', '06/01/2021', '06/02/2021', '06/03/2021', '06/04/2021', '06/07/2021', '06/08/2021', '06/09/2021', '06/10/2021', '06/11/2021', '06/14/2021', '06/15/2021', '06/16/2021', '06/17/2021', '06/18/2021', '06/21/2021', '06/22/2021', '06/23/2021', '06/24/2021', '06/25/2021', '06/28/2021', '06/29/2021', '06/30/2021', '07/01/2021', '07/02/2021', '07/06/2021', '07/07/2021', '07/08/2021', '07/09/2021', '07/12/2021', '07/13/2021', '07/14/2021', '07/15/2021', '07/16/2021', '07/19/2021', '07/20/2021', '07/21/2021', '07/22/2021', '07/23/2021', '07/26/2021', '07/27/2021', '07/28/2021', '07/29/2021', '07/30/2021', '08/02/2021', '08/03/2021', '08/04/2021', '08/05/2021', '08/06/2021', '08/09/2021', '08/10/2021', '08/11/2021', '08/12/2021', '08/13/2021', '08/16/2021', '08/17/2021', '08/18/2021', '08/19/2021', '08/20/2021', '08/23/2021', '08/24/2021', '08/25/2021', '08/26/2021', '08/27/2021', '08/30/2021', '08/31/2021', '09/01/2021', '09/02/2021', '09/03/2021', '09/07/2021', '09/08/2021', '09/09/2021', '09/10/2021', '09/13/2021', '09/14/2021', '09/15/2021', '09/16/2021', '09/17/2021', '09/20/2021', '09/21/2021', '09/22/2021', '09/23/2021', '09/24/2021', '09/27/2021', '09/28/2021', '09/29/2021', '09/30/2021', '10/01/2021', '10/04/2021', '10/05/2021', '10/06/2021', '10/07/2021', '10/08/2021', '10/11/2021', '10/12/2021', '10/13/2021', '10/14/2021', '10/15/2021', '10/18/2021', '10/19/2021', '10/20/2021', '10/21/2021', '10/22/2021', '10/25/2021', '10/26/2021', '10/27/2021', '10/28/2021', '10/29/2021', '11/01/2021', '11/02/2021', '11/03/2021', '11/04/2021', '11/05/2021', '11/08/2021', '11/09/2021', '11/10/2021', '11/11/2021', '11/12/2021', '11/15/2021', '11/16/2021', '11/17/2021', '11/18/2021', '11/19/2021', '11/22/2021', '11/23/2021', '11/24/2021', '11/26/2021', '11/29/2021', '11/30/2021', '12/01/2021', '12/02/2021', '12/03/2021', '12/06/2021', '12/07/2021', '12/08/2021', '12/09/2021', '12/10/2021', '12/13/2021', '12/14/2021', '12/15/2021', '12/16/2021', '12/17/2021', '12/20/2021', '12/21/2021', '12/22/2021', '12/23/2021', '12/27/2021', '12/28/2021', '12/29/2021', '12/30/2021', '12/31/2021', '01/03/2022', '01/04/2022', '01/05/2022', '01/06/2022', '01/07/2022', '01/10/2022', '01/11/2022', '01/12/2022', '01/13/2022', '01/14/2022', '01/18/2022', '01/19/2022', '01/20/2022', '01/21/2022', '01/24/2022', '01/25/2022', '01/26/2022', '01/27/2022', '01/28/2022', '01/31/2022', '02/01/2022', '02/02/2022', '02/03/2022', '02/04/2022', '02/07/2022', '02/08/2022', '02/09/2022', '02/10/2022', '02/11/2022', '02/14/2022', '02/15/2022', '02/16/2022', '02/17/2022', '02/18/2022', '02/22/2022', '02/23/2022', '02/24/2022', '02/25/2022', '02/28/2022', '03/01/2022', '03/02/2022', '03/03/2022', '03/04/2022', '03/07/2022', '03/08/2022', '03/09/2022', '03/10/2022', '03/11/2022', '03/14/2022', '03/15/2022', '03/16/2022', '03/17/2022', '03/18/2022', '03/21/2022', '03/22/2022', '03/23/2022', '03/24/2022', '03/25/2022', '03/28/2022', '03/29/2022', '03/30/2022', '03/31/2022', '04/01/2022', '04/04/2022', '04/05/2022', '04/06/2022', '04/07/2022', '04/08/2022', '04/11/2022', '04/12/2022', '04/13/2022', '04/14/2022', '04/18/2022', '04/19/2022', '04/20/2022', '04/21/2022', '04/22/2022', '04/25/2022', '04/26/2022', '04/27/2022', '04/28/2022', '04/29/2022', '05/02/2022', '05/03/2022', '05/04/2022', '05/05/2022', '05/06/2022', '05/09/2022', '05/10/2022', '05/11/2022', '05/12/2022', '05/13/2022', '05/16/2022', '05/17/2022', '05/18/2022', '05/19/2022', '05/20/2022', '05/23/2022', '05/24/2022', '05/25/2022', '05/26/2022', '05/27/2022', '05/31/2022', '06/01/2022', '06/02/2022', '06/03/2022', '06/06/2022', '06/07/2022', '06/08/2022', '06/09/2022', '06/10/2022', '06/13/2022', '06/14/2022', '06/15/2022', '06/16/2022', '06/17/2022', '06/21/2022', '06/22/2022', '06/23/2022', '06/24/2022', '06/27/2022', '06/28/2022', '06/29/2022', '06/30/2022', '07/01/2022', '07/05/2022', '07/06/2022', '07/07/2022', '07/08/2022', '07/11/2022', '07/12/2022', '07/13/2022', '07/14/2022', '07/15/2022', '07/18/2022', '07/19/2022', '07/20/2022', '07/21/2022', '07/22/2022', '07/25/2022', '07/26/2022', '07/27/2022', '07/28/2022', '07/29/2022', '08/01/2022', '08/02/2022', '08/03/2022', '08/04/2022', '08/05/2022', '08/08/2022', '08/09/2022', '08/10/2022', '08/11/2022', '08/12/2022', '08/15/2022', '08/16/2022', '08/17/2022', '08/18/2022', '08/19/2022', '08/22/2022', '08/23/2022', '08/24/2022', '08/25/2022', '08/26/2022', '08/29/2022', '08/30/2022', '08/31/2022', '09/01/2022', '09/02/2022', '09/06/2022', '09/07/2022', '09/08/2022', '09/09/2022', '09/12/2022', '09/13/2022', '09/14/2022', '09/15/2022', '09/16/2022', '09/19/2022', '09/20/2022', '09/21/2022', '09/22/2022', '09/23/2022', '09/26/2022', '09/27/2022', '09/28/2022', '09/29/2022', '09/30/2022', '10/03/2022', '10/04/2022', '10/05/2022', '10/06/2022', '10/07/2022', '10/10/2022', '10/11/2022', '10/12/2022', '10/13/2022', '10/14/2022', '10/17/2022', '10/18/2022', '10/19/2022', '10/20/2022', '10/21/2022', '10/24/2022', '10/25/2022', '10/26/2022', '10/27/2022', '10/28/2022', '10/31/2022', '11/01/2022', '11/02/2022', '11/03/2022', '11/04/2022', '11/07/2022', '11/08/2022', '11/09/2022', '11/10/2022', '11/11/2022', '11/14/2022', '11/15/2022', '11/16/2022', '11/17/2022', '11/18/2022', '11/21/2022', '11/22/2022', '11/23/2022', '11/25/2022', '11/28/2022', '11/29/2022', '11/30/2022', '12/01/2022', '12/02/2022', '12/05/2022', '12/06/2022', '12/07/2022', '12/08/2022', '12/09/2022', '12/12/2022', '12/13/2022', '12/14/2022', '12/15/2022', '12/16/2022', '12/19/2022', '12/20/2022', '12/21/2022', '12/22/2022', '12/23/2022', '12/27/2022', '12/28/2022', '12/29/2022', '12/30/2022', '01/03/2023', '01/04/2023', '01/05/2023', '01/06/2023', '01/09/2023', '01/10/2023', '01/11/2023', '01/12/2023', '01/13/2023', '01/17/2023', '01/18/2023', '01/19/2023', '01/20/2023', '01/23/2023', '01/24/2023', '01/25/2023', '01/26/2023', '01/27/2023', '01/30/2023', '01/31/2023', '02/01/2023', '02/02/2023', '02/03/2023', '02/06/2023', '02/07/2023', '02/08/2023', '02/09/2023', '02/10/2023', '02/13/2023', '02/14/2023', '02/15/2023', '02/16/2023', '02/17/2023', '02/21/2023', '02/22/2023', '02/23/2023', '02/24/2023', '02/27/2023', '02/28/2023', '03/01/2023', '03/02/2023', '03/03/2023', '03/06/2023', '03/07/2023', '03/08/2023', '03/09/2023', '03/10/2023', '03/13/2023', '03/14/2023', '03/15/2023', '03/16/2023', '03/17/2023', '03/20/2023', '03/21/2023', '03/22/2023', '03/23/2023', '03/24/2023', '03/27/2023', '03/28/2023', '03/29/2023', '03/30/2023', '03/31/2023', '04/03/2023', '04/04/2023', '04/05/2023', '04/06/2023', '04/10/2023', '04/11/2023', '04/12/2023', '04/13/2023', '04/14/2023', '04/17/2023', '04/18/2023', '04/19/2023', '04/20/2023', '04/21/2023', '04/24/2023', '04/25/2023', '04/26/2023', '04/27/2023', '04/28/2023', '05/01/2023', '05/02/2023', '05/03/2023', '05/04/2023', '05/05/2023', '05/08/2023', '05/09/2023', '05/10/2023', '05/11/2023', '05/12/2023', '05/15/2023', '05/16/2023', '05/17/2023', '05/18/2023', '05/19/2023', '05/22/2023', '05/23/2023', '05/24/2023', '05/25/2023', '05/26/2023', '05/30/2023', '05/31/2023', '06/01/2023', '06/02/2023', '06/05/2023', '06/06/2023', '06/07/2023', '06/08/2023', '06/09/2023', '06/12/2023', '06/13/2023', '06/14/2023', '06/15/2023', '06/16/2023', '06/20/2023', '06/21/2023', '06/22/2023', '06/23/2023', '06/26/2023', '06/27/2023', '06/28/2023', '06/29/2023', '06/30/2023', '07/03/2023', '07/05/2023', '07/06/2023', '07/07/2023', '07/10/2023', '07/11/2023', '07/12/2023', '07/13/2023', '07/14/2023', '07/17/2023', '07/18/2023', '07/19/2023', '07/20/2023', '07/21/2023', '07/24/2023', '07/25/2023', '07/26/2023', '07/27/2023', '07/28/2023', '07/31/2023', '08/01/2023', '08/02/2023', '08/03/2023', '08/04/2023', '08/07/2023', '08/08/2023', '08/09/2023', '08/10/2023', '08/11/2023', '08/14/2023', '08/15/2023', '08/16/2023', '08/17/2023', '08/18/2023', '08/21/2023', '08/22/2023', '08/23/2023', '08/24/2023', '08/25/2023', '08/28/2023', '08/29/2023', '08/30/2023', '08/31/2023', '09/01/2023', '09/05/2023', '09/06/2023', '09/07/2023', '09/08/2023', '09/11/2023', '09/12/2023', '09/13/2023', '09/14/2023', '09/15/2023', '09/18/2023', '09/19/2023', '09/20/2023', '09/21/2023', '09/22/2023', '09/25/2023', '09/26/2023', '09/27/2023', '09/28/2023', '09/29/2023', '10/02/2023', '10/03/2023', '10/04/2023', '10/05/2023', '10/06/2023', '10/09/2023', '10/10/2023', '10/11/2023', '10/12/2023', '10/13/2023', '10/16/2023', '10/17/2023', '10/18/2023', '10/19/2023', '10/20/2023', '10/23/2023', '10/24/2023', '10/25/2023', '10/26/2023', '10/27/2023', '10/30/2023', '10/31/2023', '11/01/2023', '11/02/2023', '11/03/2023', '11/06/2023', '11/07/2023', '11/08/2023', '11/09/2023', '11/10/2023', '11/13/2023', '11/14/2023', '11/15/2023', '11/16/2023', '11/17/2023', '11/20/2023', '11/21/2023', '11/22/2023', '11/24/2023', '11/27/2023', '11/28/2023', '11/29/2023', '11/30/2023', '12/01/2023', '12/04/2023', '12/05/2023', '12/06/2023', '12/07/2023', '12/08/2023', '12/11/2023', '12/12/2023', '12/13/2023', '12/14/2023', '12/15/2023', '12/18/2023', '12/19/2023', '12/20/2023', '12/21/2023', '12/22/2023', '12/26/2023', '12/27/2023', '12/28/2023', '12/29/2023', '01/02/2024', '01/03/2024', '01/04/2024', '01/05/2024', '01/08/2024', '01/09/2024', '01/10/2024', '01/11/2024', '01/12/2024', '01/16/2024', '01/17/2024', '01/18/2024', '01/19/2024', '01/22/2024', '01/23/2024', '01/24/2024', '01/25/2024', '01/26/2024', '01/29/2024', '01/30/2024', '01/31/2024', '02/01/2024', '02/02/2024', '02/05/2024', '02/06/2024', '02/07/2024', '02/08/2024', '02/09/2024', '02/12/2024', '02/13/2024', '02/14/2024', '02/15/2024', '02/16/2024', '02/20/2024', '02/21/2024', '02/22/2024', '02/23/2024', '02/26/2024', '02/27/2024', '02/28/2024', '02/29/2024', '03/01/2024', '03/04/2024', '03/05/2024', '03/06/2024', '03/07/2024', '03/08/2024', '03/11/2024', '03/12/2024', '03/13/2024', '03/15/2024', '03/18/2024', '03/19/2024', '03/20/2024', '03/21/2024', '03/22/2024', '03/25/2024', '03/26/2024', '03/27/2024', '03/28/2024', '04/01/2024', '04/02/2024', '04/03/2024', '04/04/2024', '04/05/2024', '04/08/2024', '04/09/2024', '04/10/2024', '04/11/2024', '04/12/2024', '04/15/2024', '04/16/2024', '04/17/2024', '04/18/2024', '04/19/2024', '04/22/2024', '04/23/2024', '04/24/2024', '04/25/2024', '04/26/2024', '04/29/2024', '04/30/2024', '05/01/2024', '05/02/2024', '05/03/2024', '05/06/2024', '05/07/2024', '05/08/2024', '05/09/2024', '05/10/2024', '05/13/2024', '05/14/2024', '05/15/2024', '05/16/2024', '05/17/2024', '05/20/2024', '05/21/2024', '05/22/2024', '05/23/2024', '05/24/2024', '05/28/2024', '05/29/2024', '05/30/2024', '05/31/2024', '06/03/2024', '06/04/2024', '06/05/2024', '06/06/2024', '06/07/2024', '06/10/2024', '06/11/2024', '06/12/2024', '06/13/2024', '06/14/2024', '06/17/2024', '06/18/2024', '06/20/2024', '06/21/2024', '06/24/2024', '06/25/2024', '06/26/2024', '06/27/2024', '06/28/2024', '07/01/2024', '07/02/2024', '07/03/2024', '07/05/2024', '07/08/2024', '07/09/2024', '07/10/2024', '07/11/2024', '07/12/2024', '07/15/2024', '07/16/2024', '07/17/2024', '07/18/2024', '07/19/2024', '07/22/2024', '07/23/2024', '07/24/2024', '07/25/2024', '07/26/2024', '07/29/2024', '07/30/2024', '07/31/2024', '08/01/2024', '08/02/2024', '08/05/2024', '08/06/2024', '08/07/2024', '08/08/2024', '08/09/2024', '08/12/2024', '08/13/2024', '08/14/2024', '08/15/2024', '08/16/2024', '08/19/2024', '08/20/2024', '08/21/2024', '08/22/2024', '08/23/2024', '08/26/2024', '08/27/2024', '08/28/2024', '08/29/2024', '08/30/2024', '09/03/2024', '09/04/2024', '09/05/2024', '09/06/2024', '09/09/2024', '09/10/2024', '09/11/2024', '09/12/2024', '09/13/2024', '09/16/2024', '09/17/2024', '09/18/2024', '09/19/2024', '09/20/2024', '09/23/2024', '09/24/2024', '09/25/2024', '09/26/2024', '09/27/2024', '09/30/2024', '10/01/2024', '10/02/2024', '10/03/2024', '10/04/2024', '10/07/2024', '10/08/2024', '10/09/2024', '10/10/2024', '10/11/2024', '10/14/2024', '10/15/2024', '10/16/2024', '10/17/2024', '10/18/2024', '10/21/2024', '10/22/2024', '10/23/2024', '10/24/2024', '10/25/2024', '10/28/2024', '10/29/2024', '10/30/2024', '10/31/2024', '11/01/2024', '11/04/2024', '11/05/2024', '11/06/2024', '11/07/2024', '11/08/2024']\n"
     ]
    },
    {
     "ename": "RuntimeError",
     "evalue": "asyncio.run() cannot be called from a running event loop",
     "output_type": "error",
     "traceback": [
      "\u001b[1;31m---------------------------------------------------------------------------\u001b[0m",
      "\u001b[1;31mRuntimeError\u001b[0m                              Traceback (most recent call last)",
      "Cell \u001b[1;32mIn[13], line 30\u001b[0m\n\u001b[0;32m     28\u001b[0m \u001b[38;5;28;01mif\u001b[39;00m \u001b[38;5;18m__name__\u001b[39m \u001b[38;5;241m==\u001b[39m \u001b[38;5;124m\"\u001b[39m\u001b[38;5;124m__main__\u001b[39m\u001b[38;5;124m\"\u001b[39m:\n\u001b[0;32m     29\u001b[0m     \u001b[38;5;28;01mimport\u001b[39;00m \u001b[38;5;21;01muvicorn\u001b[39;00m\n\u001b[1;32m---> 30\u001b[0m     \u001b[43muvicorn\u001b[49m\u001b[38;5;241;43m.\u001b[39;49m\u001b[43mrun\u001b[49m\u001b[43m(\u001b[49m\u001b[43mapp\u001b[49m\u001b[43m,\u001b[49m\u001b[43m \u001b[49m\u001b[43mhost\u001b[49m\u001b[38;5;241;43m=\u001b[39;49m\u001b[38;5;124;43m\"\u001b[39;49m\u001b[38;5;124;43m127.0.0.1\u001b[39;49m\u001b[38;5;124;43m\"\u001b[39;49m\u001b[43m,\u001b[49m\u001b[43m \u001b[49m\u001b[43mport\u001b[49m\u001b[38;5;241;43m=\u001b[39;49m\u001b[38;5;241;43m8000\u001b[39;49m\u001b[43m)\u001b[49m\n",
      "File \u001b[1;32m~\\AppData\\Local\\Packages\\PythonSoftwareFoundation.Python.3.12_qbz5n2kfra8p0\\LocalCache\\local-packages\\Python312\\site-packages\\uvicorn\\main.py:579\u001b[0m, in \u001b[0;36mrun\u001b[1;34m(app, host, port, uds, fd, loop, http, ws, ws_max_size, ws_max_queue, ws_ping_interval, ws_ping_timeout, ws_per_message_deflate, lifespan, interface, reload, reload_dirs, reload_includes, reload_excludes, reload_delay, workers, env_file, log_config, log_level, access_log, proxy_headers, server_header, date_header, forwarded_allow_ips, root_path, limit_concurrency, backlog, limit_max_requests, timeout_keep_alive, timeout_graceful_shutdown, ssl_keyfile, ssl_certfile, ssl_keyfile_password, ssl_version, ssl_cert_reqs, ssl_ca_certs, ssl_ciphers, headers, use_colors, app_dir, factory, h11_max_incomplete_event_size)\u001b[0m\n\u001b[0;32m    577\u001b[0m         Multiprocess(config, target\u001b[38;5;241m=\u001b[39mserver\u001b[38;5;241m.\u001b[39mrun, sockets\u001b[38;5;241m=\u001b[39m[sock])\u001b[38;5;241m.\u001b[39mrun()\n\u001b[0;32m    578\u001b[0m     \u001b[38;5;28;01melse\u001b[39;00m:\n\u001b[1;32m--> 579\u001b[0m         \u001b[43mserver\u001b[49m\u001b[38;5;241;43m.\u001b[39;49m\u001b[43mrun\u001b[49m\u001b[43m(\u001b[49m\u001b[43m)\u001b[49m\n\u001b[0;32m    580\u001b[0m \u001b[38;5;28;01mexcept\u001b[39;00m \u001b[38;5;167;01mKeyboardInterrupt\u001b[39;00m:\n\u001b[0;32m    581\u001b[0m     \u001b[38;5;28;01mpass\u001b[39;00m  \u001b[38;5;66;03m# pragma: full coverage\u001b[39;00m\n",
      "File \u001b[1;32m~\\AppData\\Local\\Packages\\PythonSoftwareFoundation.Python.3.12_qbz5n2kfra8p0\\LocalCache\\local-packages\\Python312\\site-packages\\uvicorn\\server.py:65\u001b[0m, in \u001b[0;36mServer.run\u001b[1;34m(self, sockets)\u001b[0m\n\u001b[0;32m     63\u001b[0m \u001b[38;5;28;01mdef\u001b[39;00m \u001b[38;5;21mrun\u001b[39m(\u001b[38;5;28mself\u001b[39m, sockets: \u001b[38;5;28mlist\u001b[39m[socket\u001b[38;5;241m.\u001b[39msocket] \u001b[38;5;241m|\u001b[39m \u001b[38;5;28;01mNone\u001b[39;00m \u001b[38;5;241m=\u001b[39m \u001b[38;5;28;01mNone\u001b[39;00m) \u001b[38;5;241m-\u001b[39m\u001b[38;5;241m>\u001b[39m \u001b[38;5;28;01mNone\u001b[39;00m:\n\u001b[0;32m     64\u001b[0m     \u001b[38;5;28mself\u001b[39m\u001b[38;5;241m.\u001b[39mconfig\u001b[38;5;241m.\u001b[39msetup_event_loop()\n\u001b[1;32m---> 65\u001b[0m     \u001b[38;5;28;01mreturn\u001b[39;00m \u001b[43masyncio\u001b[49m\u001b[38;5;241;43m.\u001b[39;49m\u001b[43mrun\u001b[49m\u001b[43m(\u001b[49m\u001b[38;5;28;43mself\u001b[39;49m\u001b[38;5;241;43m.\u001b[39;49m\u001b[43mserve\u001b[49m\u001b[43m(\u001b[49m\u001b[43msockets\u001b[49m\u001b[38;5;241;43m=\u001b[39;49m\u001b[43msockets\u001b[49m\u001b[43m)\u001b[49m\u001b[43m)\u001b[49m\n",
      "File \u001b[1;32mC:\\Program Files\\WindowsApps\\PythonSoftwareFoundation.Python.3.12_3.12.2032.0_x64__qbz5n2kfra8p0\\Lib\\asyncio\\runners.py:190\u001b[0m, in \u001b[0;36mrun\u001b[1;34m(main, debug, loop_factory)\u001b[0m\n\u001b[0;32m    161\u001b[0m \u001b[38;5;250m\u001b[39m\u001b[38;5;124;03m\"\"\"Execute the coroutine and return the result.\u001b[39;00m\n\u001b[0;32m    162\u001b[0m \n\u001b[0;32m    163\u001b[0m \u001b[38;5;124;03mThis function runs the passed coroutine, taking care of\u001b[39;00m\n\u001b[1;32m   (...)\u001b[0m\n\u001b[0;32m    186\u001b[0m \u001b[38;5;124;03m    asyncio.run(main())\u001b[39;00m\n\u001b[0;32m    187\u001b[0m \u001b[38;5;124;03m\"\"\"\u001b[39;00m\n\u001b[0;32m    188\u001b[0m \u001b[38;5;28;01mif\u001b[39;00m events\u001b[38;5;241m.\u001b[39m_get_running_loop() \u001b[38;5;129;01mis\u001b[39;00m \u001b[38;5;129;01mnot\u001b[39;00m \u001b[38;5;28;01mNone\u001b[39;00m:\n\u001b[0;32m    189\u001b[0m     \u001b[38;5;66;03m# fail fast with short traceback\u001b[39;00m\n\u001b[1;32m--> 190\u001b[0m     \u001b[38;5;28;01mraise\u001b[39;00m \u001b[38;5;167;01mRuntimeError\u001b[39;00m(\n\u001b[0;32m    191\u001b[0m         \u001b[38;5;124m\"\u001b[39m\u001b[38;5;124masyncio.run() cannot be called from a running event loop\u001b[39m\u001b[38;5;124m\"\u001b[39m)\n\u001b[0;32m    193\u001b[0m \u001b[38;5;28;01mwith\u001b[39;00m Runner(debug\u001b[38;5;241m=\u001b[39mdebug, loop_factory\u001b[38;5;241m=\u001b[39mloop_factory) \u001b[38;5;28;01mas\u001b[39;00m runner:\n\u001b[0;32m    194\u001b[0m     \u001b[38;5;28;01mreturn\u001b[39;00m runner\u001b[38;5;241m.\u001b[39mrun(main)\n",
      "\u001b[1;31mRuntimeError\u001b[0m: asyncio.run() cannot be called from a running event loop"
     ]
    }
   ],
   "source": [
    "import pandas as pd\n",
    "from sklearn.ensemble import IsolationForest\n",
    "import joblib\n",
    "\n",
    "# Load your stock data\n",
    "stock_data = pd.read_csv(r\"C:\\Users\\shrey\\Downloads\\train_processed.csv\")\n",
    "\n",
    "# Fix missing values (NaN) by filling with the mean of the 'Close' column\n",
    "stock_data['Close'] = stock_data['Close'].fillna(stock_data['Close'].mean())\n",
    "\n",
    "# Train the IsolationForest model (using the 'Close' column for anomaly detection)\n",
    "model = IsolationForest(contamination=0.05)\n",
    "model.fit(stock_data[['Close']])\n",
    "\n",
    "# Save the trained model\n",
    "joblib.dump(model, 'anomaly_detection_model.pkl')\n",
    "\n",
    "# Make predictions (anomaly detection)\n",
    "anomalies = model.predict(stock_data[['Close']])\n",
    "\n",
    "# Convert -1 (anomaly) and 1 (normal) to a more readable format\n",
    "stock_data['Anomaly'] = ['Yes' if x == -1 else 'No' for x in anomalies]\n",
    "\n",
    "# Extract the dates of anomalies\n",
    "anomaly_dates = stock_data[stock_data['Anomaly'] == 'Yes']['Date'].tolist()\n",
    "\n",
    "print(\"Anomaly dates:\", anomaly_dates)\n",
    "if __name__ == \"__main__\":\n",
    "    import uvicorn\n",
    "    uvicorn.run(app, host=\"127.0.0.1\", port=8000)\n",
    "\n"
   ]
  },
  {
   "cell_type": "code",
   "execution_count": 14,
   "metadata": {},
   "outputs": [
    {
     "name": "stdout",
     "output_type": "stream",
     "text": [
      "Defaulting to user installation because normal site-packages is not writeable\n",
      "Requirement already satisfied: nest_asyncio in c:\\users\\shrey\\appdata\\local\\packages\\pythonsoftwarefoundation.python.3.12_qbz5n2kfra8p0\\localcache\\local-packages\\python312\\site-packages (1.6.0)\n"
     ]
    },
    {
     "name": "stderr",
     "output_type": "stream",
     "text": [
      "\n",
      "[notice] A new release of pip is available: 24.2 -> 24.3.1\n",
      "[notice] To update, run: C:\\Users\\shrey\\AppData\\Local\\Microsoft\\WindowsApps\\PythonSoftwareFoundation.Python.3.12_qbz5n2kfra8p0\\python.exe -m pip install --upgrade pip\n"
     ]
    }
   ],
   "source": [
    "!pip install nest_asyncio"
   ]
  },
  {
   "cell_type": "code",
   "execution_count": 16,
   "metadata": {},
   "outputs": [
    {
     "name": "stderr",
     "output_type": "stream",
     "text": [
      "INFO:     Started server process [35576]\n",
      "INFO:     Waiting for application startup.\n",
      "INFO:     Application startup complete.\n",
      "ERROR:    [Errno 10048] error while attempting to bind on address ('127.0.0.1', 8000): [winerror 10048] only one usage of each socket address (protocol/network address/port) is normally permitted\n",
      "INFO:     Waiting for application shutdown.\n",
      "INFO:     Application shutdown complete.\n"
     ]
    },
    {
     "ename": "SystemExit",
     "evalue": "1",
     "output_type": "error",
     "traceback": [
      "An exception has occurred, use %tb to see the full traceback.\n",
      "\u001b[1;31mSystemExit\u001b[0m\u001b[1;31m:\u001b[0m 1\n"
     ]
    }
   ],
   "source": [
    "import nest_asyncio\n",
    "import uvicorn\n",
    "\n",
    "nest_asyncio.apply()\n",
    "\n",
    "# Run your FastAPI app with `uvicorn.run()` without any issues\n",
    "uvicorn.run(app, host=\"127.0.0.1\", port=8000)\n"
   ]
  },
  {
   "cell_type": "code",
   "execution_count": 18,
   "metadata": {},
   "outputs": [
    {
     "name": "stdout",
     "output_type": "stream",
     "text": [
      "Anomaly dates: ['08/17/1928', '09/25/1928', '06/22/1931', '12/31/1931', '02/09/1932', '08/04/1932', '08/30/1933', '09/01/1933', '03/20/1934', '11/09/1934', '11/23/1934', '10/19/1936', '11/04/1936', '12/15/1936', '01/21/1937', '05/19/1937', '03/23/1938', '04/05/1938', '04/18/1938', '06/17/1938', '12/22/1938', '09/17/1940', '11/14/1940', '07/22/1941', '04/23/1942', '06/17/1942', '08/21/1942', '11/06/1942', '12/22/1942', '02/02/1944', '03/05/1945', '06/28/1945', '08/14/1945', '02/19/1947', '12/07/1948', '03/31/1950', '05/15/1950', '11/20/1950', '11/29/1951', '09/17/1952', '09/30/1952', '08/24/1953', '06/14/1954', '11/26/1954', '07/17/1956', '07/15/1958', '03/13/1959', '12/08/1959', '05/05/1960', '08/08/1960', '03/14/1962', '07/26/1962', '09/12/1962', '05/04/1964', '03/19/1965', '04/27/1965', '09/21/1965', '01/20/1966', '04/24/1967', '05/03/1967', '03/27/1968', '06/24/1968', '04/06/1970', '12/30/1971', '08/25/1972', '06/13/1973', '08/21/1975', '06/07/1976', '06/30/1976', '08/19/1976', '12/16/1976', '10/12/1978', '02/26/1980', '02/10/1982', '06/30/1982', '09/19/1983', '01/15/1985', '04/22/1986', '09/05/1986', '11/14/1986', '12/11/1986', '03/04/1987', '08/02/1989', '09/25/1991', '12/09/1992', '08/01/1994', '02/17/1995', '08/02/1996', '10/03/1997', '11/10/1997', '04/28/1999', '05/31/2000', '07/11/2000', '05/07/2001', '06/08/2001', '12/26/2001', '06/02/2003', '06/06/2003', '09/12/2003', '03/01/2004', '07/15/2004', '11/23/2004', '12/29/2004', '06/12/2006', '06/04/2007', '06/06/2007', '07/25/2007', '08/21/2007', '07/15/2008', '09/30/2008', '10/23/2008', '12/30/2008', '10/21/2009', '10/08/2010', '12/10/2010', '06/15/2012', '01/23/2014', '04/02/2014', '12/29/2014', '02/05/2016', '07/12/2016', '05/31/2017', '09/11/2017', '01/09/2018', '12/16/2019', '12/17/2019', '12/18/2019', '12/19/2019', '12/20/2019', '12/23/2019', '12/24/2019', '12/26/2019', '12/27/2019', '12/30/2019', '12/31/2019', '01/02/2020', '01/03/2020', '01/06/2020', '01/07/2020', '01/08/2020', '01/09/2020', '01/10/2020', '01/13/2020', '01/14/2020', '01/15/2020', '01/16/2020', '01/17/2020', '01/21/2020', '01/22/2020', '01/23/2020', '01/24/2020', '01/27/2020', '01/28/2020', '01/29/2020', '01/30/2020', '01/31/2020', '02/03/2020', '02/04/2020', '02/05/2020', '02/06/2020', '02/07/2020', '02/10/2020', '02/11/2020', '02/12/2020', '02/13/2020', '02/14/2020', '02/18/2020', '02/19/2020', '02/20/2020', '02/21/2020', '02/24/2020', '06/05/2020', '06/08/2020', '06/09/2020', '06/10/2020', '07/06/2020', '07/10/2020', '07/14/2020', '07/15/2020', '07/16/2020', '07/17/2020', '07/20/2020', '07/21/2020', '07/22/2020', '07/23/2020', '07/24/2020', '07/27/2020', '07/28/2020', '07/29/2020', '07/30/2020', '07/31/2020', '08/03/2020', '08/04/2020', '08/05/2020', '08/06/2020', '08/07/2020', '08/10/2020', '08/11/2020', '08/12/2020', '08/13/2020', '08/14/2020', '08/17/2020', '08/18/2020', '08/19/2020', '08/20/2020', '08/21/2020', '08/24/2020', '08/25/2020', '08/26/2020', '08/27/2020', '08/28/2020', '08/31/2020', '09/01/2020', '09/02/2020', '09/03/2020', '09/04/2020', '09/08/2020', '09/09/2020', '09/10/2020', '09/11/2020', '09/14/2020', '09/15/2020', '09/16/2020', '09/17/2020', '09/18/2020', '09/21/2020', '09/22/2020', '09/23/2020', '09/24/2020', '09/25/2020', '09/28/2020', '09/29/2020', '09/30/2020', '10/01/2020', '10/02/2020', '10/05/2020', '10/06/2020', '10/07/2020', '10/08/2020', '10/09/2020', '10/13/2020', '10/14/2020', '10/15/2020', '10/16/2020', '10/19/2020', '10/20/2020', '10/21/2020', '10/22/2020', '10/23/2020', '10/26/2020', '10/27/2020', '10/28/2020', '10/29/2020', '10/30/2020', '11/02/2020', '11/03/2020', '11/04/2020', '11/05/2020', '11/06/2020', '11/09/2020', '11/10/2020', '11/11/2020', '11/12/2020', '11/13/2020', '11/16/2020', '11/17/2020', '11/18/2020', '11/19/2020', '11/20/2020', '11/23/2020', '11/24/2020', '11/25/2020', '11/27/2020', '11/30/2020', '12/01/2020', '12/02/2020', '12/03/2020', '12/04/2020', '12/07/2020', '12/08/2020', '12/09/2020', '12/10/2020', '12/11/2020', '12/14/2020', '12/15/2020', '12/16/2020', '12/17/2020', '12/18/2020', '12/21/2020', '12/22/2020', '12/23/2020', '12/24/2020', '12/28/2020', '12/29/2020', '12/30/2020', '12/31/2020', '01/04/2021', '01/05/2021', '01/06/2021', '01/07/2021', '01/08/2021', '01/11/2021', '01/12/2021', '01/13/2021', '01/14/2021', '01/15/2021', '01/19/2021', '01/20/2021', '01/21/2021', '01/22/2021', '01/25/2021', '01/26/2021', '01/27/2021', '01/28/2021', '01/29/2021', '02/01/2021', '02/02/2021', '02/03/2021', '02/04/2021', '02/05/2021', '02/08/2021', '02/09/2021', '02/10/2021', '02/11/2021', '02/12/2021', '02/16/2021', '02/17/2021', '02/18/2021', '02/19/2021', '02/22/2021', '02/23/2021', '02/24/2021', '02/25/2021', '02/26/2021', '03/01/2021', '03/02/2021', '03/03/2021', '03/04/2021', '03/05/2021', '03/08/2021', '03/09/2021', '03/10/2021', '03/11/2021', '03/12/2021', '03/15/2021', '03/16/2021', '03/17/2021', '03/18/2021', '03/19/2021', '03/22/2021', '03/23/2021', '03/24/2021', '03/25/2021', '03/26/2021', '03/29/2021', '03/30/2021', '03/31/2021', '04/01/2021', '04/05/2021', '04/06/2021', '04/07/2021', '04/09/2021', '04/12/2021', '04/14/2021', '04/15/2021', '04/19/2021', '04/20/2021', '04/21/2021', '04/22/2021', '04/23/2021', '04/26/2021', '04/27/2021', '04/29/2021', '04/30/2021', '05/03/2021', '05/04/2021', '05/05/2021', '05/06/2021', '05/07/2021', '05/10/2021', '05/12/2021', '05/14/2021', '05/17/2021', '05/18/2021', '05/20/2021', '05/24/2021', '05/25/2021', '05/26/2021', '05/27/2021', '05/28/2021', '06/01/2021', '06/02/2021', '06/03/2021', '06/04/2021', '06/07/2021', '06/08/2021', '06/09/2021', '06/11/2021', '06/14/2021', '06/15/2021', '06/16/2021', '06/17/2021', '06/18/2021', '06/21/2021', '06/22/2021', '06/23/2021', '06/24/2021', '06/25/2021', '06/28/2021', '06/29/2021', '06/30/2021', '07/01/2021', '07/02/2021', '07/06/2021', '07/07/2021', '07/08/2021', '07/09/2021', '07/12/2021', '07/13/2021', '07/14/2021', '07/15/2021', '07/16/2021', '07/19/2021', '07/20/2021', '07/21/2021', '07/22/2021', '07/23/2021', '07/26/2021', '07/27/2021', '07/28/2021', '07/29/2021', '07/30/2021', '08/02/2021', '08/03/2021', '08/04/2021', '08/05/2021', '08/06/2021', '08/09/2021', '08/10/2021', '08/11/2021', '08/12/2021', '08/13/2021', '08/16/2021', '08/17/2021', '08/18/2021', '08/19/2021', '08/20/2021', '08/23/2021', '08/24/2021', '08/25/2021', '08/26/2021', '08/27/2021', '08/30/2021', '08/31/2021', '09/01/2021', '09/02/2021', '09/03/2021', '09/07/2021', '09/08/2021', '09/09/2021', '09/10/2021', '09/13/2021', '09/14/2021', '09/15/2021', '09/16/2021', '09/17/2021', '09/20/2021', '09/21/2021', '09/22/2021', '09/23/2021', '09/24/2021', '09/27/2021', '09/28/2021', '09/29/2021', '09/30/2021', '10/01/2021', '10/04/2021', '10/05/2021', '10/06/2021', '10/07/2021', '10/08/2021', '10/11/2021', '10/12/2021', '10/13/2021', '10/14/2021', '10/15/2021', '10/18/2021', '10/19/2021', '10/20/2021', '10/21/2021', '10/22/2021', '10/25/2021', '10/26/2021', '10/27/2021', '10/28/2021', '10/29/2021', '11/01/2021', '11/02/2021', '11/03/2021', '11/04/2021', '11/05/2021', '11/08/2021', '11/09/2021', '11/10/2021', '11/11/2021', '11/12/2021', '11/15/2021', '11/16/2021', '11/17/2021', '11/18/2021', '11/19/2021', '11/22/2021', '11/23/2021', '11/24/2021', '11/26/2021', '11/29/2021', '11/30/2021', '12/01/2021', '12/02/2021', '12/03/2021', '12/06/2021', '12/07/2021', '12/08/2021', '12/09/2021', '12/10/2021', '12/13/2021', '12/14/2021', '12/15/2021', '12/16/2021', '12/17/2021', '12/20/2021', '12/21/2021', '12/22/2021', '12/23/2021', '12/27/2021', '12/28/2021', '12/29/2021', '12/30/2021', '12/31/2021', '01/03/2022', '01/04/2022', '01/05/2022', '01/06/2022', '01/07/2022', '01/10/2022', '01/11/2022', '01/12/2022', '01/13/2022', '01/14/2022', '01/18/2022', '01/19/2022', '01/20/2022', '01/21/2022', '01/24/2022', '01/25/2022', '01/26/2022', '01/27/2022', '01/28/2022', '01/31/2022', '02/01/2022', '02/02/2022', '02/03/2022', '02/04/2022', '02/07/2022', '02/08/2022', '02/09/2022', '02/10/2022', '02/11/2022', '02/14/2022', '02/15/2022', '02/16/2022', '02/17/2022', '02/18/2022', '02/22/2022', '02/23/2022', '02/24/2022', '02/25/2022', '02/28/2022', '03/01/2022', '03/02/2022', '03/03/2022', '03/04/2022', '03/07/2022', '03/08/2022', '03/09/2022', '03/10/2022', '03/11/2022', '03/14/2022', '03/15/2022', '03/16/2022', '03/17/2022', '03/18/2022', '03/21/2022', '03/22/2022', '03/23/2022', '03/24/2022', '03/25/2022', '03/28/2022', '03/29/2022', '03/30/2022', '03/31/2022', '04/01/2022', '04/04/2022', '04/05/2022', '04/06/2022', '04/07/2022', '04/08/2022', '04/11/2022', '04/12/2022', '04/13/2022', '04/14/2022', '04/18/2022', '04/19/2022', '04/20/2022', '04/21/2022', '04/22/2022', '04/25/2022', '04/26/2022', '04/29/2022', '05/03/2022', '05/04/2022', '05/06/2022', '05/09/2022', '05/10/2022', '05/11/2022', '05/12/2022', '05/13/2022', '05/16/2022', '05/18/2022', '05/19/2022', '05/20/2022', '05/23/2022', '05/24/2022', '05/25/2022', '05/26/2022', '05/27/2022', '05/31/2022', '06/02/2022', '06/06/2022', '06/07/2022', '06/09/2022', '06/10/2022', '06/13/2022', '06/14/2022', '06/15/2022', '06/16/2022', '06/17/2022', '06/21/2022', '06/22/2022', '06/23/2022', '06/24/2022', '06/27/2022', '06/28/2022', '06/29/2022', '06/30/2022', '07/01/2022', '07/05/2022', '07/06/2022', '07/07/2022', '07/08/2022', '07/11/2022', '07/12/2022', '07/13/2022', '07/14/2022', '07/15/2022', '07/18/2022', '07/19/2022', '07/20/2022', '07/21/2022', '07/22/2022', '07/25/2022', '07/26/2022', '07/27/2022', '07/28/2022', '07/29/2022', '08/01/2022', '08/09/2022', '08/10/2022', '08/11/2022', '08/12/2022', '08/15/2022', '08/16/2022', '08/17/2022', '08/18/2022', '08/19/2022', '08/22/2022', '08/23/2022', '08/25/2022', '08/26/2022', '08/29/2022', '08/30/2022', '08/31/2022', '09/01/2022', '09/02/2022', '09/06/2022', '09/07/2022', '09/08/2022', '09/09/2022', '09/13/2022', '09/14/2022', '09/15/2022', '09/16/2022', '09/19/2022', '09/20/2022', '09/21/2022', '09/22/2022', '09/23/2022', '09/26/2022', '09/27/2022', '09/28/2022', '09/29/2022', '09/30/2022', '10/03/2022', '10/04/2022', '10/05/2022', '10/06/2022', '10/07/2022', '10/10/2022', '10/11/2022', '10/12/2022', '10/13/2022', '10/14/2022', '10/17/2022', '10/18/2022', '10/19/2022', '10/20/2022', '10/21/2022', '10/24/2022', '10/25/2022', '10/26/2022', '10/27/2022', '10/28/2022', '10/31/2022', '11/01/2022', '11/02/2022', '11/03/2022', '11/04/2022', '11/07/2022', '11/08/2022', '11/09/2022', '11/10/2022', '11/11/2022', '11/14/2022', '11/15/2022', '11/16/2022', '11/17/2022', '11/18/2022', '11/21/2022', '11/22/2022', '11/23/2022', '11/25/2022', '11/28/2022', '11/29/2022', '11/30/2022', '12/01/2022', '12/02/2022', '12/05/2022', '12/06/2022', '12/07/2022', '12/08/2022', '12/09/2022', '12/12/2022', '12/13/2022', '12/14/2022', '12/15/2022', '12/16/2022', '12/19/2022', '12/20/2022', '12/21/2022', '12/22/2022', '12/23/2022', '12/27/2022', '12/28/2022', '12/29/2022', '12/30/2022', '01/03/2023', '01/04/2023', '01/05/2023', '01/06/2023', '01/09/2023', '01/10/2023', '01/11/2023', '01/12/2023', '01/13/2023', '01/17/2023', '01/18/2023', '01/19/2023', '01/20/2023', '01/23/2023', '01/24/2023', '01/25/2023', '01/26/2023', '01/27/2023', '01/30/2023', '01/31/2023', '02/01/2023', '02/02/2023', '02/03/2023', '02/07/2023', '02/08/2023', '02/09/2023', '02/13/2023', '02/14/2023', '02/17/2023', '02/21/2023', '02/22/2023', '02/23/2023', '02/24/2023', '02/27/2023', '02/28/2023', '03/01/2023', '03/02/2023', '03/03/2023', '03/06/2023', '03/07/2023', '03/08/2023', '03/09/2023', '03/10/2023', '03/13/2023', '03/14/2023', '03/15/2023', '03/16/2023', '03/17/2023', '03/20/2023', '03/21/2023', '03/22/2023', '03/23/2023', '03/24/2023', '03/27/2023', '03/28/2023', '03/29/2023', '03/30/2023', '04/03/2023', '04/14/2023', '04/20/2023', '04/21/2023', '04/24/2023', '04/25/2023', '04/26/2023', '04/27/2023', '04/28/2023', '05/01/2023', '05/02/2023', '05/04/2023', '05/05/2023', '05/08/2023', '05/09/2023', '05/10/2023', '05/11/2023', '05/12/2023', '05/15/2023', '05/17/2023', '05/18/2023', '05/19/2023', '05/22/2023', '05/26/2023', '05/30/2023', '05/31/2023', '06/01/2023', '06/02/2023', '06/05/2023', '06/06/2023', '06/07/2023', '06/08/2023', '06/09/2023', '06/12/2023', '06/13/2023', '06/14/2023', '06/15/2023', '06/16/2023', '06/20/2023', '06/21/2023', '06/22/2023', '06/23/2023', '06/26/2023', '06/27/2023', '06/28/2023', '06/29/2023', '06/30/2023', '07/03/2023', '07/05/2023', '07/06/2023', '07/07/2023', '07/10/2023', '07/11/2023', '07/12/2023', '07/13/2023', '07/14/2023', '07/17/2023', '07/18/2023', '07/19/2023', '07/20/2023', '07/21/2023', '07/24/2023', '07/25/2023', '07/26/2023', '07/27/2023', '07/28/2023', '07/31/2023', '08/01/2023', '08/02/2023', '08/03/2023', '08/04/2023', '08/07/2023', '08/08/2023', '08/09/2023', '08/10/2023', '08/11/2023', '08/14/2023', '08/15/2023', '08/16/2023', '08/17/2023', '08/18/2023', '08/21/2023', '08/22/2023', '08/23/2023', '08/24/2023', '08/25/2023', '08/28/2023', '08/29/2023', '08/30/2023', '08/31/2023', '09/01/2023', '09/05/2023', '09/06/2023', '09/07/2023', '09/08/2023', '09/11/2023', '09/12/2023', '09/13/2023', '09/14/2023', '09/15/2023', '09/18/2023', '09/19/2023', '09/20/2023', '09/21/2023', '09/22/2023', '09/25/2023', '09/26/2023', '09/27/2023', '09/28/2023', '10/03/2023', '10/04/2023', '10/05/2023', '10/06/2023', '10/09/2023', '10/10/2023', '10/11/2023', '10/12/2023', '10/13/2023', '10/16/2023', '10/17/2023', '10/18/2023', '10/19/2023', '10/20/2023', '10/23/2023', '10/24/2023', '10/25/2023', '10/26/2023', '10/30/2023', '10/31/2023', '11/02/2023', '11/03/2023', '11/06/2023', '11/07/2023', '11/08/2023', '11/09/2023', '11/10/2023', '11/13/2023', '11/14/2023', '11/15/2023', '11/16/2023', '11/17/2023', '11/20/2023', '11/21/2023', '11/22/2023', '11/24/2023', '11/27/2023', '11/28/2023', '11/29/2023', '11/30/2023', '12/01/2023', '12/04/2023', '12/05/2023', '12/06/2023', '12/07/2023', '12/08/2023', '12/11/2023', '12/12/2023', '12/13/2023', '12/14/2023', '12/15/2023', '12/18/2023', '12/19/2023', '12/20/2023', '12/21/2023', '12/22/2023', '12/26/2023', '12/27/2023', '12/28/2023', '12/29/2023', '01/02/2024', '01/03/2024', '01/04/2024', '01/05/2024', '01/08/2024', '01/09/2024', '01/10/2024', '01/11/2024', '01/12/2024', '01/16/2024', '01/17/2024', '01/18/2024', '01/19/2024', '01/22/2024', '01/23/2024', '01/24/2024', '01/25/2024', '01/26/2024', '01/29/2024', '01/30/2024', '01/31/2024', '02/01/2024', '02/02/2024', '02/05/2024', '02/06/2024', '02/07/2024', '02/08/2024', '02/09/2024', '02/12/2024', '02/13/2024', '02/14/2024', '02/15/2024', '02/16/2024', '02/20/2024', '02/21/2024', '02/22/2024', '02/23/2024', '02/26/2024', '02/27/2024', '02/28/2024', '02/29/2024', '03/01/2024', '03/04/2024', '03/05/2024', '03/06/2024', '03/07/2024', '03/08/2024', '03/11/2024', '03/12/2024', '03/13/2024', '03/15/2024', '03/18/2024', '03/19/2024', '03/20/2024', '03/21/2024', '03/22/2024', '03/25/2024', '03/26/2024', '03/27/2024', '03/28/2024', '04/01/2024', '04/02/2024', '04/03/2024', '04/04/2024', '04/05/2024', '04/08/2024', '04/09/2024', '04/10/2024', '04/11/2024', '04/12/2024', '04/15/2024', '04/16/2024', '04/17/2024', '04/18/2024', '04/19/2024', '04/22/2024', '04/23/2024', '04/24/2024', '04/25/2024', '04/26/2024', '04/29/2024', '04/30/2024', '05/01/2024', '05/02/2024', '05/03/2024', '05/06/2024', '05/07/2024', '05/08/2024', '05/09/2024', '05/10/2024', '05/13/2024', '05/14/2024', '05/15/2024', '05/16/2024', '05/17/2024', '05/20/2024', '05/21/2024', '05/22/2024', '05/23/2024', '05/24/2024', '05/28/2024', '05/29/2024', '05/30/2024', '05/31/2024', '06/03/2024', '06/04/2024', '06/05/2024', '06/06/2024', '06/07/2024', '06/10/2024', '06/11/2024', '06/12/2024', '06/13/2024', '06/14/2024', '06/17/2024', '06/18/2024', '06/20/2024', '06/21/2024', '06/24/2024', '06/25/2024', '06/26/2024', '06/27/2024', '06/28/2024', '07/01/2024', '07/02/2024', '07/03/2024', '07/05/2024', '07/08/2024', '07/09/2024', '07/10/2024', '07/11/2024', '07/12/2024', '07/15/2024', '07/16/2024', '07/17/2024', '07/18/2024', '07/19/2024', '07/22/2024', '07/23/2024', '07/24/2024', '07/25/2024', '07/26/2024', '07/29/2024', '07/30/2024', '07/31/2024', '08/01/2024', '08/02/2024', '08/05/2024', '08/06/2024', '08/07/2024', '08/08/2024', '08/09/2024', '08/12/2024', '08/13/2024', '08/14/2024', '08/15/2024', '08/16/2024', '08/19/2024', '08/20/2024', '08/21/2024', '08/22/2024', '08/23/2024', '08/26/2024', '08/27/2024', '08/28/2024', '08/29/2024', '08/30/2024', '09/03/2024', '09/04/2024', '09/05/2024', '09/06/2024', '09/09/2024', '09/10/2024', '09/11/2024', '09/12/2024', '09/13/2024', '09/16/2024', '09/17/2024', '09/18/2024', '09/19/2024', '09/20/2024', '09/23/2024', '09/24/2024', '09/25/2024', '09/26/2024', '09/27/2024', '09/30/2024', '10/01/2024', '10/02/2024', '10/03/2024', '10/04/2024', '10/07/2024', '10/08/2024', '10/09/2024', '10/10/2024', '10/11/2024', '10/14/2024', '10/15/2024', '10/16/2024', '10/17/2024', '10/18/2024', '10/21/2024', '10/22/2024', '10/23/2024', '10/24/2024', '10/25/2024', '10/28/2024', '10/29/2024', '10/30/2024', '10/31/2024', '11/01/2024', '11/04/2024', '11/05/2024', '11/06/2024', '11/07/2024', '11/08/2024']\n"
     ]
    },
    {
     "name": "stderr",
     "output_type": "stream",
     "text": [
      "INFO:     Started server process [35576]\n",
      "INFO:     Waiting for application startup.\n",
      "INFO:     Application startup complete.\n",
      "INFO:     Uvicorn running on http://127.0.0.1:8001 (Press CTRL+C to quit)\n"
     ]
    },
    {
     "name": "stdout",
     "output_type": "stream",
     "text": [
      "INFO:     127.0.0.1:54515 - \"GET / HTTP/1.1\" 404 Not Found\n",
      "INFO:     127.0.0.1:54541 - \"GET / HTTP/1.1\" 404 Not Found\n",
      "INFO:     127.0.0.1:54541 - \"GET / HTTP/1.1\" 404 Not Found\n"
     ]
    },
    {
     "name": "stderr",
     "output_type": "stream",
     "text": [
      "INFO:     Shutting down\n",
      "INFO:     Waiting for application shutdown.\n",
      "INFO:     Application shutdown complete.\n",
      "INFO:     Finished server process [35576]\n"
     ]
    }
   ],
   "source": [
    "import pandas as pd\n",
    "from sklearn.ensemble import IsolationForest\n",
    "import joblib\n",
    "\n",
    "# Load your stock data\n",
    "stock_data = pd.read_csv(r\"C:\\Users\\shrey\\Downloads\\train_processed.csv\")\n",
    "\n",
    "# Fix missing values (NaN) by filling with the mean of the 'Close' column\n",
    "stock_data['Close'] = stock_data['Close'].fillna(stock_data['Close'].mean())\n",
    "\n",
    "# Train the IsolationForest model (using the 'Close' column for anomaly detection)\n",
    "model = IsolationForest(contamination=0.05)\n",
    "model.fit(stock_data[['Close']])\n",
    "\n",
    "# Save the trained model\n",
    "joblib.dump(model, 'anomaly_detection_model.pkl')\n",
    "\n",
    "# Make predictions (anomaly detection)\n",
    "anomalies = model.predict(stock_data[['Close']])\n",
    "\n",
    "# Convert -1 (anomaly) and 1 (normal) to a more readable format\n",
    "stock_data['Anomaly'] = ['Yes' if x == -1 else 'No' for x in anomalies]\n",
    "\n",
    "# Extract the dates of anomalies\n",
    "anomaly_dates = stock_data[stock_data['Anomaly'] == 'Yes']['Date'].tolist()\n",
    "\n",
    "print(\"Anomaly dates:\", anomaly_dates)\n",
    "if __name__ == \"__main__\":\n",
    "    import uvicorn\n",
    "    uvicorn.run(app, host=\"127.0.0.1\", port=8001)\n",
    "\n"
   ]
  },
  {
   "cell_type": "code",
   "execution_count": 19,
   "metadata": {},
   "outputs": [
    {
     "name": "stderr",
     "output_type": "stream",
     "text": [
      "Form data requires \"python-multipart\" to be installed. \n",
      "You can install \"python-multipart\" with: \n",
      "\n",
      "pip install python-multipart\n",
      "\n",
      "Task exception was never retrieved\n",
      "future: <Task finished name='Task-1' coro=<Server.serve() done, defined at C:\\Users\\shrey\\AppData\\Local\\Packages\\PythonSoftwareFoundation.Python.3.12_qbz5n2kfra8p0\\LocalCache\\local-packages\\Python312\\site-packages\\uvicorn\\server.py:67> exception=SystemExit(1)>\n",
      "Traceback (most recent call last):\n",
      "  File \"C:\\Users\\shrey\\AppData\\Local\\Packages\\PythonSoftwareFoundation.Python.3.12_qbz5n2kfra8p0\\LocalCache\\local-packages\\Python312\\site-packages\\uvicorn\\server.py\", line 162, in startup\n",
      "    server = await loop.create_server(\n",
      "             ^^^^^^^^^^^^^^^^^^^^^^^^^\n",
      "  File \"C:\\Program Files\\WindowsApps\\PythonSoftwareFoundation.Python.3.12_3.12.2032.0_x64__qbz5n2kfra8p0\\Lib\\asyncio\\base_events.py\", line 1571, in create_server\n",
      "    raise OSError(err.errno, msg) from None\n",
      "OSError: [Errno 10048] error while attempting to bind on address ('127.0.0.1', 8000): [winerror 10048] only one usage of each socket address (protocol/network address/port) is normally permitted\n",
      "\n",
      "During handling of the above exception, another exception occurred:\n",
      "\n",
      "Traceback (most recent call last):\n",
      "  File \"C:\\Users\\shrey\\AppData\\Local\\Packages\\PythonSoftwareFoundation.Python.3.12_qbz5n2kfra8p0\\LocalCache\\local-packages\\Python312\\site-packages\\IPython\\core\\interactiveshell.py\", line 3577, in run_code\n",
      "    exec(code_obj, self.user_global_ns, self.user_ns)\n",
      "  File \"C:\\Users\\shrey\\AppData\\Local\\Temp\\ipykernel_35576\\903231298.py\", line 7, in <module>\n",
      "    uvicorn.run(app, host=\"127.0.0.1\", port=8000)\n",
      "  File \"C:\\Users\\shrey\\AppData\\Local\\Packages\\PythonSoftwareFoundation.Python.3.12_qbz5n2kfra8p0\\LocalCache\\local-packages\\Python312\\site-packages\\uvicorn\\main.py\", line 579, in run\n",
      "    server.run()\n",
      "  File \"C:\\Users\\shrey\\AppData\\Local\\Packages\\PythonSoftwareFoundation.Python.3.12_qbz5n2kfra8p0\\LocalCache\\local-packages\\Python312\\site-packages\\uvicorn\\server.py\", line 65, in run\n",
      "    return asyncio.run(self.serve(sockets=sockets))\n",
      "           ^^^^^^^^^^^^^^^^^^^^^^^^^^^^^^^^^^^^^^^^\n",
      "  File \"C:\\Users\\shrey\\AppData\\Local\\Packages\\PythonSoftwareFoundation.Python.3.12_qbz5n2kfra8p0\\LocalCache\\local-packages\\Python312\\site-packages\\nest_asyncio.py\", line 30, in run\n",
      "    return loop.run_until_complete(task)\n",
      "           ^^^^^^^^^^^^^^^^^^^^^^^^^^^^^\n",
      "  File \"C:\\Users\\shrey\\AppData\\Local\\Packages\\PythonSoftwareFoundation.Python.3.12_qbz5n2kfra8p0\\LocalCache\\local-packages\\Python312\\site-packages\\nest_asyncio.py\", line 92, in run_until_complete\n",
      "    self._run_once()\n",
      "  File \"C:\\Users\\shrey\\AppData\\Local\\Packages\\PythonSoftwareFoundation.Python.3.12_qbz5n2kfra8p0\\LocalCache\\local-packages\\Python312\\site-packages\\nest_asyncio.py\", line 133, in _run_once\n",
      "    handle._run()\n",
      "  File \"C:\\Program Files\\WindowsApps\\PythonSoftwareFoundation.Python.3.12_3.12.2032.0_x64__qbz5n2kfra8p0\\Lib\\asyncio\\events.py\", line 88, in _run\n",
      "    self._context.run(self._callback, *self._args)\n",
      "  File \"C:\\Program Files\\WindowsApps\\PythonSoftwareFoundation.Python.3.12_3.12.2032.0_x64__qbz5n2kfra8p0\\Lib\\asyncio\\tasks.py\", line 396, in __wakeup\n",
      "    self.__step()\n",
      "  File \"C:\\Program Files\\WindowsApps\\PythonSoftwareFoundation.Python.3.12_3.12.2032.0_x64__qbz5n2kfra8p0\\Lib\\asyncio\\tasks.py\", line 303, in __step\n",
      "    self.__step_run_and_handle_result(exc)\n",
      "  File \"C:\\Program Files\\WindowsApps\\PythonSoftwareFoundation.Python.3.12_3.12.2032.0_x64__qbz5n2kfra8p0\\Lib\\asyncio\\tasks.py\", line 314, in __step_run_and_handle_result\n",
      "    result = coro.send(None)\n",
      "             ^^^^^^^^^^^^^^^\n",
      "  File \"C:\\Users\\shrey\\AppData\\Local\\Packages\\PythonSoftwareFoundation.Python.3.12_qbz5n2kfra8p0\\LocalCache\\local-packages\\Python312\\site-packages\\uvicorn\\server.py\", line 69, in serve\n",
      "    await self._serve(sockets)\n",
      "  File \"C:\\Users\\shrey\\AppData\\Local\\Packages\\PythonSoftwareFoundation.Python.3.12_qbz5n2kfra8p0\\LocalCache\\local-packages\\Python312\\site-packages\\uvicorn\\server.py\", line 84, in _serve\n",
      "    await self.startup(sockets=sockets)\n",
      "  File \"C:\\Users\\shrey\\AppData\\Local\\Packages\\PythonSoftwareFoundation.Python.3.12_qbz5n2kfra8p0\\LocalCache\\local-packages\\Python312\\site-packages\\uvicorn\\server.py\", line 172, in startup\n",
      "    sys.exit(1)\n",
      "SystemExit: 1\n",
      "Task exception was never retrieved\n",
      "future: <Task finished name='Task-4' coro=<Server.serve() done, defined at C:\\Users\\shrey\\AppData\\Local\\Packages\\PythonSoftwareFoundation.Python.3.12_qbz5n2kfra8p0\\LocalCache\\local-packages\\Python312\\site-packages\\uvicorn\\server.py:67> exception=SystemExit(1)>\n",
      "Traceback (most recent call last):\n",
      "  File \"C:\\Users\\shrey\\AppData\\Local\\Packages\\PythonSoftwareFoundation.Python.3.12_qbz5n2kfra8p0\\LocalCache\\local-packages\\Python312\\site-packages\\uvicorn\\server.py\", line 162, in startup\n",
      "    server = await loop.create_server(\n",
      "             ^^^^^^^^^^^^^^^^^^^^^^^^^\n",
      "  File \"C:\\Program Files\\WindowsApps\\PythonSoftwareFoundation.Python.3.12_3.12.2032.0_x64__qbz5n2kfra8p0\\Lib\\asyncio\\base_events.py\", line 1571, in create_server\n",
      "    raise OSError(err.errno, msg) from None\n",
      "OSError: [Errno 10048] error while attempting to bind on address ('127.0.0.1', 8000): [winerror 10048] only one usage of each socket address (protocol/network address/port) is normally permitted\n",
      "\n",
      "During handling of the above exception, another exception occurred:\n",
      "\n",
      "Traceback (most recent call last):\n",
      "  File \"C:\\Users\\shrey\\AppData\\Local\\Packages\\PythonSoftwareFoundation.Python.3.12_qbz5n2kfra8p0\\LocalCache\\local-packages\\Python312\\site-packages\\IPython\\core\\interactiveshell.py\", line 3577, in run_code\n",
      "    exec(code_obj, self.user_global_ns, self.user_ns)\n",
      "  File \"C:\\Users\\shrey\\AppData\\Local\\Temp\\ipykernel_35576\\903231298.py\", line 7, in <module>\n",
      "    uvicorn.run(app, host=\"127.0.0.1\", port=8000)\n",
      "  File \"C:\\Users\\shrey\\AppData\\Local\\Packages\\PythonSoftwareFoundation.Python.3.12_qbz5n2kfra8p0\\LocalCache\\local-packages\\Python312\\site-packages\\uvicorn\\main.py\", line 579, in run\n",
      "    server.run()\n",
      "  File \"C:\\Users\\shrey\\AppData\\Local\\Packages\\PythonSoftwareFoundation.Python.3.12_qbz5n2kfra8p0\\LocalCache\\local-packages\\Python312\\site-packages\\uvicorn\\server.py\", line 65, in run\n",
      "    return asyncio.run(self.serve(sockets=sockets))\n",
      "           ^^^^^^^^^^^^^^^^^^^^^^^^^^^^^^^^^^^^^^^^\n",
      "  File \"C:\\Users\\shrey\\AppData\\Local\\Packages\\PythonSoftwareFoundation.Python.3.12_qbz5n2kfra8p0\\LocalCache\\local-packages\\Python312\\site-packages\\nest_asyncio.py\", line 30, in run\n",
      "    return loop.run_until_complete(task)\n",
      "           ^^^^^^^^^^^^^^^^^^^^^^^^^^^^^\n",
      "  File \"C:\\Users\\shrey\\AppData\\Local\\Packages\\PythonSoftwareFoundation.Python.3.12_qbz5n2kfra8p0\\LocalCache\\local-packages\\Python312\\site-packages\\nest_asyncio.py\", line 92, in run_until_complete\n",
      "    self._run_once()\n",
      "  File \"C:\\Users\\shrey\\AppData\\Local\\Packages\\PythonSoftwareFoundation.Python.3.12_qbz5n2kfra8p0\\LocalCache\\local-packages\\Python312\\site-packages\\nest_asyncio.py\", line 133, in _run_once\n",
      "    handle._run()\n",
      "  File \"C:\\Program Files\\WindowsApps\\PythonSoftwareFoundation.Python.3.12_3.12.2032.0_x64__qbz5n2kfra8p0\\Lib\\asyncio\\events.py\", line 88, in _run\n",
      "    self._context.run(self._callback, *self._args)\n",
      "  File \"C:\\Program Files\\WindowsApps\\PythonSoftwareFoundation.Python.3.12_3.12.2032.0_x64__qbz5n2kfra8p0\\Lib\\asyncio\\tasks.py\", line 396, in __wakeup\n",
      "    self.__step()\n",
      "  File \"C:\\Program Files\\WindowsApps\\PythonSoftwareFoundation.Python.3.12_3.12.2032.0_x64__qbz5n2kfra8p0\\Lib\\asyncio\\tasks.py\", line 303, in __step\n",
      "    self.__step_run_and_handle_result(exc)\n",
      "  File \"C:\\Program Files\\WindowsApps\\PythonSoftwareFoundation.Python.3.12_3.12.2032.0_x64__qbz5n2kfra8p0\\Lib\\asyncio\\tasks.py\", line 314, in __step_run_and_handle_result\n",
      "    result = coro.send(None)\n",
      "             ^^^^^^^^^^^^^^^\n",
      "  File \"C:\\Users\\shrey\\AppData\\Local\\Packages\\PythonSoftwareFoundation.Python.3.12_qbz5n2kfra8p0\\LocalCache\\local-packages\\Python312\\site-packages\\uvicorn\\server.py\", line 69, in serve\n",
      "    await self._serve(sockets)\n",
      "  File \"C:\\Users\\shrey\\AppData\\Local\\Packages\\PythonSoftwareFoundation.Python.3.12_qbz5n2kfra8p0\\LocalCache\\local-packages\\Python312\\site-packages\\uvicorn\\server.py\", line 84, in _serve\n",
      "    await self.startup(sockets=sockets)\n",
      "  File \"C:\\Users\\shrey\\AppData\\Local\\Packages\\PythonSoftwareFoundation.Python.3.12_qbz5n2kfra8p0\\LocalCache\\local-packages\\Python312\\site-packages\\uvicorn\\server.py\", line 172, in startup\n",
      "    sys.exit(1)\n",
      "SystemExit: 1\n",
      "Task exception was never retrieved\n",
      "future: <Task finished name='Task-7' coro=<Server.serve() done, defined at C:\\Users\\shrey\\AppData\\Local\\Packages\\PythonSoftwareFoundation.Python.3.12_qbz5n2kfra8p0\\LocalCache\\local-packages\\Python312\\site-packages\\uvicorn\\server.py:67> exception=SystemExit(1)>\n",
      "Traceback (most recent call last):\n",
      "  File \"C:\\Users\\shrey\\AppData\\Local\\Packages\\PythonSoftwareFoundation.Python.3.12_qbz5n2kfra8p0\\LocalCache\\local-packages\\Python312\\site-packages\\uvicorn\\server.py\", line 162, in startup\n",
      "    server = await loop.create_server(\n",
      "             ^^^^^^^^^^^^^^^^^^^^^^^^^\n",
      "  File \"C:\\Program Files\\WindowsApps\\PythonSoftwareFoundation.Python.3.12_3.12.2032.0_x64__qbz5n2kfra8p0\\Lib\\asyncio\\base_events.py\", line 1571, in create_server\n",
      "    raise OSError(err.errno, msg) from None\n",
      "OSError: [Errno 10048] error while attempting to bind on address ('127.0.0.1', 8000): [winerror 10048] only one usage of each socket address (protocol/network address/port) is normally permitted\n",
      "\n",
      "During handling of the above exception, another exception occurred:\n",
      "\n",
      "Traceback (most recent call last):\n",
      "  File \"C:\\Users\\shrey\\AppData\\Local\\Packages\\PythonSoftwareFoundation.Python.3.12_qbz5n2kfra8p0\\LocalCache\\local-packages\\Python312\\site-packages\\IPython\\core\\interactiveshell.py\", line 3577, in run_code\n",
      "    exec(code_obj, self.user_global_ns, self.user_ns)\n",
      "  File \"C:\\Users\\shrey\\AppData\\Local\\Temp\\ipykernel_35576\\2135965157.py\", line 30, in <module>\n",
      "    uvicorn.run(app, host=\"127.0.0.1\", port=8000)\n",
      "  File \"C:\\Users\\shrey\\AppData\\Local\\Packages\\PythonSoftwareFoundation.Python.3.12_qbz5n2kfra8p0\\LocalCache\\local-packages\\Python312\\site-packages\\uvicorn\\main.py\", line 579, in run\n",
      "    server.run()\n",
      "  File \"C:\\Users\\shrey\\AppData\\Local\\Packages\\PythonSoftwareFoundation.Python.3.12_qbz5n2kfra8p0\\LocalCache\\local-packages\\Python312\\site-packages\\uvicorn\\server.py\", line 65, in run\n",
      "    return asyncio.run(self.serve(sockets=sockets))\n",
      "           ^^^^^^^^^^^^^^^^^^^^^^^^^^^^^^^^^^^^^^^^\n",
      "  File \"C:\\Users\\shrey\\AppData\\Local\\Packages\\PythonSoftwareFoundation.Python.3.12_qbz5n2kfra8p0\\LocalCache\\local-packages\\Python312\\site-packages\\nest_asyncio.py\", line 30, in run\n",
      "    return loop.run_until_complete(task)\n",
      "           ^^^^^^^^^^^^^^^^^^^^^^^^^^^^^\n",
      "  File \"C:\\Users\\shrey\\AppData\\Local\\Packages\\PythonSoftwareFoundation.Python.3.12_qbz5n2kfra8p0\\LocalCache\\local-packages\\Python312\\site-packages\\nest_asyncio.py\", line 92, in run_until_complete\n",
      "    self._run_once()\n",
      "  File \"C:\\Users\\shrey\\AppData\\Local\\Packages\\PythonSoftwareFoundation.Python.3.12_qbz5n2kfra8p0\\LocalCache\\local-packages\\Python312\\site-packages\\nest_asyncio.py\", line 133, in _run_once\n",
      "    handle._run()\n",
      "  File \"C:\\Program Files\\WindowsApps\\PythonSoftwareFoundation.Python.3.12_3.12.2032.0_x64__qbz5n2kfra8p0\\Lib\\asyncio\\events.py\", line 88, in _run\n",
      "    self._context.run(self._callback, *self._args)\n",
      "  File \"C:\\Program Files\\WindowsApps\\PythonSoftwareFoundation.Python.3.12_3.12.2032.0_x64__qbz5n2kfra8p0\\Lib\\asyncio\\tasks.py\", line 396, in __wakeup\n",
      "    self.__step()\n",
      "  File \"C:\\Program Files\\WindowsApps\\PythonSoftwareFoundation.Python.3.12_3.12.2032.0_x64__qbz5n2kfra8p0\\Lib\\asyncio\\tasks.py\", line 303, in __step\n",
      "    self.__step_run_and_handle_result(exc)\n",
      "  File \"C:\\Program Files\\WindowsApps\\PythonSoftwareFoundation.Python.3.12_3.12.2032.0_x64__qbz5n2kfra8p0\\Lib\\asyncio\\tasks.py\", line 314, in __step_run_and_handle_result\n",
      "    result = coro.send(None)\n",
      "             ^^^^^^^^^^^^^^^\n",
      "  File \"C:\\Users\\shrey\\AppData\\Local\\Packages\\PythonSoftwareFoundation.Python.3.12_qbz5n2kfra8p0\\LocalCache\\local-packages\\Python312\\site-packages\\uvicorn\\server.py\", line 69, in serve\n",
      "    await self._serve(sockets)\n",
      "  File \"C:\\Users\\shrey\\AppData\\Local\\Packages\\PythonSoftwareFoundation.Python.3.12_qbz5n2kfra8p0\\LocalCache\\local-packages\\Python312\\site-packages\\uvicorn\\server.py\", line 84, in _serve\n",
      "    await self.startup(sockets=sockets)\n",
      "  File \"C:\\Users\\shrey\\AppData\\Local\\Packages\\PythonSoftwareFoundation.Python.3.12_qbz5n2kfra8p0\\LocalCache\\local-packages\\Python312\\site-packages\\uvicorn\\server.py\", line 172, in startup\n",
      "    sys.exit(1)\n",
      "SystemExit: 1\n",
      "Task exception was never retrieved\n",
      "future: <Task finished name='Task-10' coro=<Server.serve() done, defined at C:\\Users\\shrey\\AppData\\Local\\Packages\\PythonSoftwareFoundation.Python.3.12_qbz5n2kfra8p0\\LocalCache\\local-packages\\Python312\\site-packages\\uvicorn\\server.py:67> exception=KeyboardInterrupt()>\n",
      "Traceback (most recent call last):\n",
      "  File \"C:\\Users\\shrey\\AppData\\Local\\Packages\\PythonSoftwareFoundation.Python.3.12_qbz5n2kfra8p0\\LocalCache\\local-packages\\Python312\\site-packages\\uvicorn\\main.py\", line 579, in run\n",
      "    server.run()\n",
      "  File \"C:\\Users\\shrey\\AppData\\Local\\Packages\\PythonSoftwareFoundation.Python.3.12_qbz5n2kfra8p0\\LocalCache\\local-packages\\Python312\\site-packages\\uvicorn\\server.py\", line 65, in run\n",
      "    return asyncio.run(self.serve(sockets=sockets))\n",
      "           ^^^^^^^^^^^^^^^^^^^^^^^^^^^^^^^^^^^^^^^^\n",
      "  File \"C:\\Users\\shrey\\AppData\\Local\\Packages\\PythonSoftwareFoundation.Python.3.12_qbz5n2kfra8p0\\LocalCache\\local-packages\\Python312\\site-packages\\nest_asyncio.py\", line 30, in run\n",
      "    return loop.run_until_complete(task)\n",
      "           ^^^^^^^^^^^^^^^^^^^^^^^^^^^^^\n",
      "  File \"C:\\Users\\shrey\\AppData\\Local\\Packages\\PythonSoftwareFoundation.Python.3.12_qbz5n2kfra8p0\\LocalCache\\local-packages\\Python312\\site-packages\\nest_asyncio.py\", line 92, in run_until_complete\n",
      "    self._run_once()\n",
      "  File \"C:\\Users\\shrey\\AppData\\Local\\Packages\\PythonSoftwareFoundation.Python.3.12_qbz5n2kfra8p0\\LocalCache\\local-packages\\Python312\\site-packages\\nest_asyncio.py\", line 133, in _run_once\n",
      "    handle._run()\n",
      "  File \"C:\\Program Files\\WindowsApps\\PythonSoftwareFoundation.Python.3.12_3.12.2032.0_x64__qbz5n2kfra8p0\\Lib\\asyncio\\events.py\", line 88, in _run\n",
      "    self._context.run(self._callback, *self._args)\n",
      "  File \"C:\\Program Files\\WindowsApps\\PythonSoftwareFoundation.Python.3.12_3.12.2032.0_x64__qbz5n2kfra8p0\\Lib\\asyncio\\tasks.py\", line 396, in __wakeup\n",
      "    self.__step()\n",
      "  File \"C:\\Program Files\\WindowsApps\\PythonSoftwareFoundation.Python.3.12_3.12.2032.0_x64__qbz5n2kfra8p0\\Lib\\asyncio\\tasks.py\", line 303, in __step\n",
      "    self.__step_run_and_handle_result(exc)\n",
      "  File \"C:\\Program Files\\WindowsApps\\PythonSoftwareFoundation.Python.3.12_3.12.2032.0_x64__qbz5n2kfra8p0\\Lib\\asyncio\\tasks.py\", line 314, in __step_run_and_handle_result\n",
      "    result = coro.send(None)\n",
      "             ^^^^^^^^^^^^^^^\n",
      "  File \"C:\\Users\\shrey\\AppData\\Local\\Packages\\PythonSoftwareFoundation.Python.3.12_qbz5n2kfra8p0\\LocalCache\\local-packages\\Python312\\site-packages\\uvicorn\\server.py\", line 68, in serve\n",
      "    with self.capture_signals():\n",
      "         ^^^^^^^^^^^^^^^^^^^^^^\n",
      "  File \"C:\\Program Files\\WindowsApps\\PythonSoftwareFoundation.Python.3.12_3.12.2032.0_x64__qbz5n2kfra8p0\\Lib\\contextlib.py\", line 144, in __exit__\n",
      "    next(self.gen)\n",
      "  File \"C:\\Users\\shrey\\AppData\\Local\\Packages\\PythonSoftwareFoundation.Python.3.12_qbz5n2kfra8p0\\LocalCache\\local-packages\\Python312\\site-packages\\uvicorn\\server.py\", line 332, in capture_signals\n",
      "    signal.raise_signal(captured_signal)\n",
      "KeyboardInterrupt\n"
     ]
    },
    {
     "ename": "RuntimeError",
     "evalue": "Form data requires \"python-multipart\" to be installed. \nYou can install \"python-multipart\" with: \n\npip install python-multipart\n",
     "output_type": "error",
     "traceback": [
      "\u001b[1;31m---------------------------------------------------------------------------\u001b[0m",
      "\u001b[1;31mRuntimeError\u001b[0m                              Traceback (most recent call last)",
      "Cell \u001b[1;32mIn[19], line 9\u001b[0m\n\u001b[0;32m      5\u001b[0m \u001b[38;5;129m@app\u001b[39m\u001b[38;5;241m.\u001b[39mget(\u001b[38;5;124m\"\u001b[39m\u001b[38;5;124m/\u001b[39m\u001b[38;5;124m\"\u001b[39m)\n\u001b[0;32m      6\u001b[0m \u001b[38;5;28;01masync\u001b[39;00m \u001b[38;5;28;01mdef\u001b[39;00m \u001b[38;5;21mroot\u001b[39m():\n\u001b[0;32m      7\u001b[0m     \u001b[38;5;28;01mreturn\u001b[39;00m {\u001b[38;5;124m\"\u001b[39m\u001b[38;5;124mmessage\u001b[39m\u001b[38;5;124m\"\u001b[39m: \u001b[38;5;124m\"\u001b[39m\u001b[38;5;124mWelcome to the anomaly detection app\u001b[39m\u001b[38;5;124m\"\u001b[39m}\n\u001b[1;32m----> 9\u001b[0m \u001b[38;5;129;43m@app\u001b[39;49m\u001b[38;5;241;43m.\u001b[39;49m\u001b[43mpost\u001b[49m\u001b[43m(\u001b[49m\u001b[38;5;124;43m\"\u001b[39;49m\u001b[38;5;124;43m/upload/\u001b[39;49m\u001b[38;5;124;43m\"\u001b[39;49m\u001b[43m)\u001b[49m\n\u001b[0;32m     10\u001b[0m \u001b[38;5;28;43;01masync\u001b[39;49;00m\u001b[43m \u001b[49m\u001b[38;5;28;43;01mdef\u001b[39;49;00m\u001b[43m \u001b[49m\u001b[38;5;21;43mupload_file\u001b[39;49m\u001b[43m(\u001b[49m\u001b[43mfile\u001b[49m\u001b[43m:\u001b[49m\u001b[43m \u001b[49m\u001b[43mUploadFile\u001b[49m\u001b[43m)\u001b[49m\u001b[43m:\u001b[49m\n\u001b[0;32m     11\u001b[0m \u001b[43m    \u001b[49m\u001b[38;5;66;43;03m# Handle the uploaded file\u001b[39;49;00m\n\u001b[0;32m     12\u001b[0m \u001b[43m    \u001b[49m\u001b[38;5;28;43;01mreturn\u001b[39;49;00m\u001b[43m \u001b[49m\u001b[43m{\u001b[49m\u001b[38;5;124;43m\"\u001b[39;49m\u001b[38;5;124;43mfilename\u001b[39;49m\u001b[38;5;124;43m\"\u001b[39;49m\u001b[43m:\u001b[49m\u001b[43m \u001b[49m\u001b[43mfile\u001b[49m\u001b[38;5;241;43m.\u001b[39;49m\u001b[43mfilename\u001b[49m\u001b[43m}\u001b[49m\n",
      "File \u001b[1;32m~\\AppData\\Local\\Packages\\PythonSoftwareFoundation.Python.3.12_qbz5n2kfra8p0\\LocalCache\\local-packages\\Python312\\site-packages\\fastapi\\routing.py:994\u001b[0m, in \u001b[0;36mAPIRouter.api_route.<locals>.decorator\u001b[1;34m(func)\u001b[0m\n\u001b[0;32m    993\u001b[0m \u001b[38;5;28;01mdef\u001b[39;00m \u001b[38;5;21mdecorator\u001b[39m(func: DecoratedCallable) \u001b[38;5;241m-\u001b[39m\u001b[38;5;241m>\u001b[39m DecoratedCallable:\n\u001b[1;32m--> 994\u001b[0m     \u001b[38;5;28;43mself\u001b[39;49m\u001b[38;5;241;43m.\u001b[39;49m\u001b[43madd_api_route\u001b[49m\u001b[43m(\u001b[49m\n\u001b[0;32m    995\u001b[0m \u001b[43m        \u001b[49m\u001b[43mpath\u001b[49m\u001b[43m,\u001b[49m\n\u001b[0;32m    996\u001b[0m \u001b[43m        \u001b[49m\u001b[43mfunc\u001b[49m\u001b[43m,\u001b[49m\n\u001b[0;32m    997\u001b[0m \u001b[43m        \u001b[49m\u001b[43mresponse_model\u001b[49m\u001b[38;5;241;43m=\u001b[39;49m\u001b[43mresponse_model\u001b[49m\u001b[43m,\u001b[49m\n\u001b[0;32m    998\u001b[0m \u001b[43m        \u001b[49m\u001b[43mstatus_code\u001b[49m\u001b[38;5;241;43m=\u001b[39;49m\u001b[43mstatus_code\u001b[49m\u001b[43m,\u001b[49m\n\u001b[0;32m    999\u001b[0m \u001b[43m        \u001b[49m\u001b[43mtags\u001b[49m\u001b[38;5;241;43m=\u001b[39;49m\u001b[43mtags\u001b[49m\u001b[43m,\u001b[49m\n\u001b[0;32m   1000\u001b[0m \u001b[43m        \u001b[49m\u001b[43mdependencies\u001b[49m\u001b[38;5;241;43m=\u001b[39;49m\u001b[43mdependencies\u001b[49m\u001b[43m,\u001b[49m\n\u001b[0;32m   1001\u001b[0m \u001b[43m        \u001b[49m\u001b[43msummary\u001b[49m\u001b[38;5;241;43m=\u001b[39;49m\u001b[43msummary\u001b[49m\u001b[43m,\u001b[49m\n\u001b[0;32m   1002\u001b[0m \u001b[43m        \u001b[49m\u001b[43mdescription\u001b[49m\u001b[38;5;241;43m=\u001b[39;49m\u001b[43mdescription\u001b[49m\u001b[43m,\u001b[49m\n\u001b[0;32m   1003\u001b[0m \u001b[43m        \u001b[49m\u001b[43mresponse_description\u001b[49m\u001b[38;5;241;43m=\u001b[39;49m\u001b[43mresponse_description\u001b[49m\u001b[43m,\u001b[49m\n\u001b[0;32m   1004\u001b[0m \u001b[43m        \u001b[49m\u001b[43mresponses\u001b[49m\u001b[38;5;241;43m=\u001b[39;49m\u001b[43mresponses\u001b[49m\u001b[43m,\u001b[49m\n\u001b[0;32m   1005\u001b[0m \u001b[43m        \u001b[49m\u001b[43mdeprecated\u001b[49m\u001b[38;5;241;43m=\u001b[39;49m\u001b[43mdeprecated\u001b[49m\u001b[43m,\u001b[49m\n\u001b[0;32m   1006\u001b[0m \u001b[43m        \u001b[49m\u001b[43mmethods\u001b[49m\u001b[38;5;241;43m=\u001b[39;49m\u001b[43mmethods\u001b[49m\u001b[43m,\u001b[49m\n\u001b[0;32m   1007\u001b[0m \u001b[43m        \u001b[49m\u001b[43moperation_id\u001b[49m\u001b[38;5;241;43m=\u001b[39;49m\u001b[43moperation_id\u001b[49m\u001b[43m,\u001b[49m\n\u001b[0;32m   1008\u001b[0m \u001b[43m        \u001b[49m\u001b[43mresponse_model_include\u001b[49m\u001b[38;5;241;43m=\u001b[39;49m\u001b[43mresponse_model_include\u001b[49m\u001b[43m,\u001b[49m\n\u001b[0;32m   1009\u001b[0m \u001b[43m        \u001b[49m\u001b[43mresponse_model_exclude\u001b[49m\u001b[38;5;241;43m=\u001b[39;49m\u001b[43mresponse_model_exclude\u001b[49m\u001b[43m,\u001b[49m\n\u001b[0;32m   1010\u001b[0m \u001b[43m        \u001b[49m\u001b[43mresponse_model_by_alias\u001b[49m\u001b[38;5;241;43m=\u001b[39;49m\u001b[43mresponse_model_by_alias\u001b[49m\u001b[43m,\u001b[49m\n\u001b[0;32m   1011\u001b[0m \u001b[43m        \u001b[49m\u001b[43mresponse_model_exclude_unset\u001b[49m\u001b[38;5;241;43m=\u001b[39;49m\u001b[43mresponse_model_exclude_unset\u001b[49m\u001b[43m,\u001b[49m\n\u001b[0;32m   1012\u001b[0m \u001b[43m        \u001b[49m\u001b[43mresponse_model_exclude_defaults\u001b[49m\u001b[38;5;241;43m=\u001b[39;49m\u001b[43mresponse_model_exclude_defaults\u001b[49m\u001b[43m,\u001b[49m\n\u001b[0;32m   1013\u001b[0m \u001b[43m        \u001b[49m\u001b[43mresponse_model_exclude_none\u001b[49m\u001b[38;5;241;43m=\u001b[39;49m\u001b[43mresponse_model_exclude_none\u001b[49m\u001b[43m,\u001b[49m\n\u001b[0;32m   1014\u001b[0m \u001b[43m        \u001b[49m\u001b[43minclude_in_schema\u001b[49m\u001b[38;5;241;43m=\u001b[39;49m\u001b[43minclude_in_schema\u001b[49m\u001b[43m,\u001b[49m\n\u001b[0;32m   1015\u001b[0m \u001b[43m        \u001b[49m\u001b[43mresponse_class\u001b[49m\u001b[38;5;241;43m=\u001b[39;49m\u001b[43mresponse_class\u001b[49m\u001b[43m,\u001b[49m\n\u001b[0;32m   1016\u001b[0m \u001b[43m        \u001b[49m\u001b[43mname\u001b[49m\u001b[38;5;241;43m=\u001b[39;49m\u001b[43mname\u001b[49m\u001b[43m,\u001b[49m\n\u001b[0;32m   1017\u001b[0m \u001b[43m        \u001b[49m\u001b[43mcallbacks\u001b[49m\u001b[38;5;241;43m=\u001b[39;49m\u001b[43mcallbacks\u001b[49m\u001b[43m,\u001b[49m\n\u001b[0;32m   1018\u001b[0m \u001b[43m        \u001b[49m\u001b[43mopenapi_extra\u001b[49m\u001b[38;5;241;43m=\u001b[39;49m\u001b[43mopenapi_extra\u001b[49m\u001b[43m,\u001b[49m\n\u001b[0;32m   1019\u001b[0m \u001b[43m        \u001b[49m\u001b[43mgenerate_unique_id_function\u001b[49m\u001b[38;5;241;43m=\u001b[39;49m\u001b[43mgenerate_unique_id_function\u001b[49m\u001b[43m,\u001b[49m\n\u001b[0;32m   1020\u001b[0m \u001b[43m    \u001b[49m\u001b[43m)\u001b[49m\n\u001b[0;32m   1021\u001b[0m     \u001b[38;5;28;01mreturn\u001b[39;00m func\n",
      "File \u001b[1;32m~\\AppData\\Local\\Packages\\PythonSoftwareFoundation.Python.3.12_qbz5n2kfra8p0\\LocalCache\\local-packages\\Python312\\site-packages\\fastapi\\routing.py:933\u001b[0m, in \u001b[0;36mAPIRouter.add_api_route\u001b[1;34m(self, path, endpoint, response_model, status_code, tags, dependencies, summary, description, response_description, responses, deprecated, methods, operation_id, response_model_include, response_model_exclude, response_model_by_alias, response_model_exclude_unset, response_model_exclude_defaults, response_model_exclude_none, include_in_schema, response_class, name, route_class_override, callbacks, openapi_extra, generate_unique_id_function)\u001b[0m\n\u001b[0;32m    929\u001b[0m     current_callbacks\u001b[38;5;241m.\u001b[39mextend(callbacks)\n\u001b[0;32m    930\u001b[0m current_generate_unique_id \u001b[38;5;241m=\u001b[39m get_value_or_default(\n\u001b[0;32m    931\u001b[0m     generate_unique_id_function, \u001b[38;5;28mself\u001b[39m\u001b[38;5;241m.\u001b[39mgenerate_unique_id_function\n\u001b[0;32m    932\u001b[0m )\n\u001b[1;32m--> 933\u001b[0m route \u001b[38;5;241m=\u001b[39m \u001b[43mroute_class\u001b[49m\u001b[43m(\u001b[49m\n\u001b[0;32m    934\u001b[0m \u001b[43m    \u001b[49m\u001b[38;5;28;43mself\u001b[39;49m\u001b[38;5;241;43m.\u001b[39;49m\u001b[43mprefix\u001b[49m\u001b[43m \u001b[49m\u001b[38;5;241;43m+\u001b[39;49m\u001b[43m \u001b[49m\u001b[43mpath\u001b[49m\u001b[43m,\u001b[49m\n\u001b[0;32m    935\u001b[0m \u001b[43m    \u001b[49m\u001b[43mendpoint\u001b[49m\u001b[38;5;241;43m=\u001b[39;49m\u001b[43mendpoint\u001b[49m\u001b[43m,\u001b[49m\n\u001b[0;32m    936\u001b[0m \u001b[43m    \u001b[49m\u001b[43mresponse_model\u001b[49m\u001b[38;5;241;43m=\u001b[39;49m\u001b[43mresponse_model\u001b[49m\u001b[43m,\u001b[49m\n\u001b[0;32m    937\u001b[0m \u001b[43m    \u001b[49m\u001b[43mstatus_code\u001b[49m\u001b[38;5;241;43m=\u001b[39;49m\u001b[43mstatus_code\u001b[49m\u001b[43m,\u001b[49m\n\u001b[0;32m    938\u001b[0m \u001b[43m    \u001b[49m\u001b[43mtags\u001b[49m\u001b[38;5;241;43m=\u001b[39;49m\u001b[43mcurrent_tags\u001b[49m\u001b[43m,\u001b[49m\n\u001b[0;32m    939\u001b[0m \u001b[43m    \u001b[49m\u001b[43mdependencies\u001b[49m\u001b[38;5;241;43m=\u001b[39;49m\u001b[43mcurrent_dependencies\u001b[49m\u001b[43m,\u001b[49m\n\u001b[0;32m    940\u001b[0m \u001b[43m    \u001b[49m\u001b[43msummary\u001b[49m\u001b[38;5;241;43m=\u001b[39;49m\u001b[43msummary\u001b[49m\u001b[43m,\u001b[49m\n\u001b[0;32m    941\u001b[0m \u001b[43m    \u001b[49m\u001b[43mdescription\u001b[49m\u001b[38;5;241;43m=\u001b[39;49m\u001b[43mdescription\u001b[49m\u001b[43m,\u001b[49m\n\u001b[0;32m    942\u001b[0m \u001b[43m    \u001b[49m\u001b[43mresponse_description\u001b[49m\u001b[38;5;241;43m=\u001b[39;49m\u001b[43mresponse_description\u001b[49m\u001b[43m,\u001b[49m\n\u001b[0;32m    943\u001b[0m \u001b[43m    \u001b[49m\u001b[43mresponses\u001b[49m\u001b[38;5;241;43m=\u001b[39;49m\u001b[43mcombined_responses\u001b[49m\u001b[43m,\u001b[49m\n\u001b[0;32m    944\u001b[0m \u001b[43m    \u001b[49m\u001b[43mdeprecated\u001b[49m\u001b[38;5;241;43m=\u001b[39;49m\u001b[43mdeprecated\u001b[49m\u001b[43m \u001b[49m\u001b[38;5;129;43;01mor\u001b[39;49;00m\u001b[43m \u001b[49m\u001b[38;5;28;43mself\u001b[39;49m\u001b[38;5;241;43m.\u001b[39;49m\u001b[43mdeprecated\u001b[49m\u001b[43m,\u001b[49m\n\u001b[0;32m    945\u001b[0m \u001b[43m    \u001b[49m\u001b[43mmethods\u001b[49m\u001b[38;5;241;43m=\u001b[39;49m\u001b[43mmethods\u001b[49m\u001b[43m,\u001b[49m\n\u001b[0;32m    946\u001b[0m \u001b[43m    \u001b[49m\u001b[43moperation_id\u001b[49m\u001b[38;5;241;43m=\u001b[39;49m\u001b[43moperation_id\u001b[49m\u001b[43m,\u001b[49m\n\u001b[0;32m    947\u001b[0m \u001b[43m    \u001b[49m\u001b[43mresponse_model_include\u001b[49m\u001b[38;5;241;43m=\u001b[39;49m\u001b[43mresponse_model_include\u001b[49m\u001b[43m,\u001b[49m\n\u001b[0;32m    948\u001b[0m \u001b[43m    \u001b[49m\u001b[43mresponse_model_exclude\u001b[49m\u001b[38;5;241;43m=\u001b[39;49m\u001b[43mresponse_model_exclude\u001b[49m\u001b[43m,\u001b[49m\n\u001b[0;32m    949\u001b[0m \u001b[43m    \u001b[49m\u001b[43mresponse_model_by_alias\u001b[49m\u001b[38;5;241;43m=\u001b[39;49m\u001b[43mresponse_model_by_alias\u001b[49m\u001b[43m,\u001b[49m\n\u001b[0;32m    950\u001b[0m \u001b[43m    \u001b[49m\u001b[43mresponse_model_exclude_unset\u001b[49m\u001b[38;5;241;43m=\u001b[39;49m\u001b[43mresponse_model_exclude_unset\u001b[49m\u001b[43m,\u001b[49m\n\u001b[0;32m    951\u001b[0m \u001b[43m    \u001b[49m\u001b[43mresponse_model_exclude_defaults\u001b[49m\u001b[38;5;241;43m=\u001b[39;49m\u001b[43mresponse_model_exclude_defaults\u001b[49m\u001b[43m,\u001b[49m\n\u001b[0;32m    952\u001b[0m \u001b[43m    \u001b[49m\u001b[43mresponse_model_exclude_none\u001b[49m\u001b[38;5;241;43m=\u001b[39;49m\u001b[43mresponse_model_exclude_none\u001b[49m\u001b[43m,\u001b[49m\n\u001b[0;32m    953\u001b[0m \u001b[43m    \u001b[49m\u001b[43minclude_in_schema\u001b[49m\u001b[38;5;241;43m=\u001b[39;49m\u001b[43minclude_in_schema\u001b[49m\u001b[43m \u001b[49m\u001b[38;5;129;43;01mand\u001b[39;49;00m\u001b[43m \u001b[49m\u001b[38;5;28;43mself\u001b[39;49m\u001b[38;5;241;43m.\u001b[39;49m\u001b[43minclude_in_schema\u001b[49m\u001b[43m,\u001b[49m\n\u001b[0;32m    954\u001b[0m \u001b[43m    \u001b[49m\u001b[43mresponse_class\u001b[49m\u001b[38;5;241;43m=\u001b[39;49m\u001b[43mcurrent_response_class\u001b[49m\u001b[43m,\u001b[49m\n\u001b[0;32m    955\u001b[0m \u001b[43m    \u001b[49m\u001b[43mname\u001b[49m\u001b[38;5;241;43m=\u001b[39;49m\u001b[43mname\u001b[49m\u001b[43m,\u001b[49m\n\u001b[0;32m    956\u001b[0m \u001b[43m    \u001b[49m\u001b[43mdependency_overrides_provider\u001b[49m\u001b[38;5;241;43m=\u001b[39;49m\u001b[38;5;28;43mself\u001b[39;49m\u001b[38;5;241;43m.\u001b[39;49m\u001b[43mdependency_overrides_provider\u001b[49m\u001b[43m,\u001b[49m\n\u001b[0;32m    957\u001b[0m \u001b[43m    \u001b[49m\u001b[43mcallbacks\u001b[49m\u001b[38;5;241;43m=\u001b[39;49m\u001b[43mcurrent_callbacks\u001b[49m\u001b[43m,\u001b[49m\n\u001b[0;32m    958\u001b[0m \u001b[43m    \u001b[49m\u001b[43mopenapi_extra\u001b[49m\u001b[38;5;241;43m=\u001b[39;49m\u001b[43mopenapi_extra\u001b[49m\u001b[43m,\u001b[49m\n\u001b[0;32m    959\u001b[0m \u001b[43m    \u001b[49m\u001b[43mgenerate_unique_id_function\u001b[49m\u001b[38;5;241;43m=\u001b[39;49m\u001b[43mcurrent_generate_unique_id\u001b[49m\u001b[43m,\u001b[49m\n\u001b[0;32m    960\u001b[0m \u001b[43m\u001b[49m\u001b[43m)\u001b[49m\n\u001b[0;32m    961\u001b[0m \u001b[38;5;28mself\u001b[39m\u001b[38;5;241m.\u001b[39mroutes\u001b[38;5;241m.\u001b[39mappend(route)\n",
      "File \u001b[1;32m~\\AppData\\Local\\Packages\\PythonSoftwareFoundation.Python.3.12_qbz5n2kfra8p0\\LocalCache\\local-packages\\Python312\\site-packages\\fastapi\\routing.py:554\u001b[0m, in \u001b[0;36mAPIRoute.__init__\u001b[1;34m(self, path, endpoint, response_model, status_code, tags, dependencies, summary, description, response_description, responses, deprecated, name, methods, operation_id, response_model_include, response_model_exclude, response_model_by_alias, response_model_exclude_unset, response_model_exclude_defaults, response_model_exclude_none, include_in_schema, response_class, dependency_overrides_provider, callbacks, openapi_extra, generate_unique_id_function)\u001b[0m\n\u001b[0;32m    551\u001b[0m     \u001b[38;5;28mself\u001b[39m\u001b[38;5;241m.\u001b[39mresponse_fields \u001b[38;5;241m=\u001b[39m {}\n\u001b[0;32m    553\u001b[0m \u001b[38;5;28;01massert\u001b[39;00m \u001b[38;5;28mcallable\u001b[39m(endpoint), \u001b[38;5;124m\"\u001b[39m\u001b[38;5;124mAn endpoint must be a callable\u001b[39m\u001b[38;5;124m\"\u001b[39m\n\u001b[1;32m--> 554\u001b[0m \u001b[38;5;28mself\u001b[39m\u001b[38;5;241m.\u001b[39mdependant \u001b[38;5;241m=\u001b[39m \u001b[43mget_dependant\u001b[49m\u001b[43m(\u001b[49m\u001b[43mpath\u001b[49m\u001b[38;5;241;43m=\u001b[39;49m\u001b[38;5;28;43mself\u001b[39;49m\u001b[38;5;241;43m.\u001b[39;49m\u001b[43mpath_format\u001b[49m\u001b[43m,\u001b[49m\u001b[43m \u001b[49m\u001b[43mcall\u001b[49m\u001b[38;5;241;43m=\u001b[39;49m\u001b[38;5;28;43mself\u001b[39;49m\u001b[38;5;241;43m.\u001b[39;49m\u001b[43mendpoint\u001b[49m\u001b[43m)\u001b[49m\n\u001b[0;32m    555\u001b[0m \u001b[38;5;28;01mfor\u001b[39;00m depends \u001b[38;5;129;01min\u001b[39;00m \u001b[38;5;28mself\u001b[39m\u001b[38;5;241m.\u001b[39mdependencies[::\u001b[38;5;241m-\u001b[39m\u001b[38;5;241m1\u001b[39m]:\n\u001b[0;32m    556\u001b[0m     \u001b[38;5;28mself\u001b[39m\u001b[38;5;241m.\u001b[39mdependant\u001b[38;5;241m.\u001b[39mdependencies\u001b[38;5;241m.\u001b[39minsert(\n\u001b[0;32m    557\u001b[0m         \u001b[38;5;241m0\u001b[39m,\n\u001b[0;32m    558\u001b[0m         get_parameterless_sub_dependant(depends\u001b[38;5;241m=\u001b[39mdepends, path\u001b[38;5;241m=\u001b[39m\u001b[38;5;28mself\u001b[39m\u001b[38;5;241m.\u001b[39mpath_format),\n\u001b[0;32m    559\u001b[0m     )\n",
      "File \u001b[1;32m~\\AppData\\Local\\Packages\\PythonSoftwareFoundation.Python.3.12_qbz5n2kfra8p0\\LocalCache\\local-packages\\Python312\\site-packages\\fastapi\\dependencies\\utils.py:285\u001b[0m, in \u001b[0;36mget_dependant\u001b[1;34m(path, call, name, security_scopes, use_cache)\u001b[0m\n\u001b[0;32m    283\u001b[0m \u001b[38;5;28;01mfor\u001b[39;00m param_name, param \u001b[38;5;129;01min\u001b[39;00m signature_params\u001b[38;5;241m.\u001b[39mitems():\n\u001b[0;32m    284\u001b[0m     is_path_param \u001b[38;5;241m=\u001b[39m param_name \u001b[38;5;129;01min\u001b[39;00m path_param_names\n\u001b[1;32m--> 285\u001b[0m     param_details \u001b[38;5;241m=\u001b[39m \u001b[43manalyze_param\u001b[49m\u001b[43m(\u001b[49m\n\u001b[0;32m    286\u001b[0m \u001b[43m        \u001b[49m\u001b[43mparam_name\u001b[49m\u001b[38;5;241;43m=\u001b[39;49m\u001b[43mparam_name\u001b[49m\u001b[43m,\u001b[49m\n\u001b[0;32m    287\u001b[0m \u001b[43m        \u001b[49m\u001b[43mannotation\u001b[49m\u001b[38;5;241;43m=\u001b[39;49m\u001b[43mparam\u001b[49m\u001b[38;5;241;43m.\u001b[39;49m\u001b[43mannotation\u001b[49m\u001b[43m,\u001b[49m\n\u001b[0;32m    288\u001b[0m \u001b[43m        \u001b[49m\u001b[43mvalue\u001b[49m\u001b[38;5;241;43m=\u001b[39;49m\u001b[43mparam\u001b[49m\u001b[38;5;241;43m.\u001b[39;49m\u001b[43mdefault\u001b[49m\u001b[43m,\u001b[49m\n\u001b[0;32m    289\u001b[0m \u001b[43m        \u001b[49m\u001b[43mis_path_param\u001b[49m\u001b[38;5;241;43m=\u001b[39;49m\u001b[43mis_path_param\u001b[49m\u001b[43m,\u001b[49m\n\u001b[0;32m    290\u001b[0m \u001b[43m    \u001b[49m\u001b[43m)\u001b[49m\n\u001b[0;32m    291\u001b[0m     \u001b[38;5;28;01mif\u001b[39;00m param_details\u001b[38;5;241m.\u001b[39mdepends \u001b[38;5;129;01mis\u001b[39;00m \u001b[38;5;129;01mnot\u001b[39;00m \u001b[38;5;28;01mNone\u001b[39;00m:\n\u001b[0;32m    292\u001b[0m         sub_dependant \u001b[38;5;241m=\u001b[39m get_param_sub_dependant(\n\u001b[0;32m    293\u001b[0m             param_name\u001b[38;5;241m=\u001b[39mparam_name,\n\u001b[0;32m    294\u001b[0m             depends\u001b[38;5;241m=\u001b[39mparam_details\u001b[38;5;241m.\u001b[39mdepends,\n\u001b[0;32m    295\u001b[0m             path\u001b[38;5;241m=\u001b[39mpath,\n\u001b[0;32m    296\u001b[0m             security_scopes\u001b[38;5;241m=\u001b[39msecurity_scopes,\n\u001b[0;32m    297\u001b[0m         )\n",
      "File \u001b[1;32m~\\AppData\\Local\\Packages\\PythonSoftwareFoundation.Python.3.12_qbz5n2kfra8p0\\LocalCache\\local-packages\\Python312\\site-packages\\fastapi\\dependencies\\utils.py:482\u001b[0m, in \u001b[0;36manalyze_param\u001b[1;34m(param_name, annotation, value, is_path_param)\u001b[0m\n\u001b[0;32m    476\u001b[0m use_annotation_from_field_info \u001b[38;5;241m=\u001b[39m get_annotation_from_field_info(\n\u001b[0;32m    477\u001b[0m     use_annotation,\n\u001b[0;32m    478\u001b[0m     field_info,\n\u001b[0;32m    479\u001b[0m     param_name,\n\u001b[0;32m    480\u001b[0m )\n\u001b[0;32m    481\u001b[0m \u001b[38;5;28;01mif\u001b[39;00m \u001b[38;5;28misinstance\u001b[39m(field_info, params\u001b[38;5;241m.\u001b[39mForm):\n\u001b[1;32m--> 482\u001b[0m     \u001b[43mensure_multipart_is_installed\u001b[49m\u001b[43m(\u001b[49m\u001b[43m)\u001b[49m\n\u001b[0;32m    483\u001b[0m \u001b[38;5;28;01mif\u001b[39;00m \u001b[38;5;129;01mnot\u001b[39;00m field_info\u001b[38;5;241m.\u001b[39malias \u001b[38;5;129;01mand\u001b[39;00m \u001b[38;5;28mgetattr\u001b[39m(field_info, \u001b[38;5;124m\"\u001b[39m\u001b[38;5;124mconvert_underscores\u001b[39m\u001b[38;5;124m\"\u001b[39m, \u001b[38;5;28;01mNone\u001b[39;00m):\n\u001b[0;32m    484\u001b[0m     alias \u001b[38;5;241m=\u001b[39m param_name\u001b[38;5;241m.\u001b[39mreplace(\u001b[38;5;124m\"\u001b[39m\u001b[38;5;124m_\u001b[39m\u001b[38;5;124m\"\u001b[39m, \u001b[38;5;124m\"\u001b[39m\u001b[38;5;124m-\u001b[39m\u001b[38;5;124m\"\u001b[39m)\n",
      "File \u001b[1;32m~\\AppData\\Local\\Packages\\PythonSoftwareFoundation.Python.3.12_qbz5n2kfra8p0\\LocalCache\\local-packages\\Python312\\site-packages\\fastapi\\dependencies\\utils.py:115\u001b[0m, in \u001b[0;36mensure_multipart_is_installed\u001b[1;34m()\u001b[0m\n\u001b[0;32m    113\u001b[0m \u001b[38;5;28;01mexcept\u001b[39;00m \u001b[38;5;167;01mImportError\u001b[39;00m:\n\u001b[0;32m    114\u001b[0m     logger\u001b[38;5;241m.\u001b[39merror(multipart_not_installed_error)\n\u001b[1;32m--> 115\u001b[0m     \u001b[38;5;28;01mraise\u001b[39;00m \u001b[38;5;167;01mRuntimeError\u001b[39;00m(multipart_not_installed_error) \u001b[38;5;28;01mfrom\u001b[39;00m \u001b[38;5;28;01mNone\u001b[39;00m\n",
      "\u001b[1;31mRuntimeError\u001b[0m: Form data requires \"python-multipart\" to be installed. \nYou can install \"python-multipart\" with: \n\npip install python-multipart\n"
     ]
    }
   ],
   "source": [
    "from fastapi import FastAPI\n",
    "\n",
    "app = FastAPI()\n",
    "\n",
    "@app.get(\"/\")\n",
    "async def root():\n",
    "    return {\"message\": \"Welcome to the anomaly detection app\"}\n",
    "\n",
    "@app.post(\"/upload/\")\n",
    "async def upload_file(file: UploadFile):\n",
    "    # Handle the uploaded file\n",
    "    return {\"filename\": file.filename}\n"
   ]
  },
  {
   "cell_type": "code",
   "execution_count": 20,
   "metadata": {},
   "outputs": [
    {
     "name": "stdout",
     "output_type": "stream",
     "text": [
      "Defaulting to user installation because normal site-packages is not writeable\n",
      "Collecting python-multipart\n",
      "  Downloading python_multipart-0.0.17-py3-none-any.whl.metadata (1.8 kB)\n",
      "Downloading python_multipart-0.0.17-py3-none-any.whl (24 kB)\n",
      "Installing collected packages: python-multipart\n",
      "Successfully installed python-multipart-0.0.17\n"
     ]
    },
    {
     "name": "stderr",
     "output_type": "stream",
     "text": [
      "\n",
      "[notice] A new release of pip is available: 24.2 -> 24.3.1\n",
      "[notice] To update, run: C:\\Users\\shrey\\AppData\\Local\\Microsoft\\WindowsApps\\PythonSoftwareFoundation.Python.3.12_qbz5n2kfra8p0\\python.exe -m pip install --upgrade pip\n"
     ]
    }
   ],
   "source": [
    "!pip install python-multipart"
   ]
  },
  {
   "cell_type": "code",
   "execution_count": 21,
   "metadata": {},
   "outputs": [],
   "source": [
    "from fastapi import FastAPI\n",
    "\n",
    "app = FastAPI()\n",
    "\n",
    "@app.get(\"/\")\n",
    "async def root():\n",
    "    return {\"message\": \"Welcome to the anomaly detection app\"}\n",
    "\n",
    "@app.post(\"/upload/\")\n",
    "async def upload_file(file: UploadFile):\n",
    "    # Handle the uploaded file\n",
    "    return {\"filename\": file.filename}\n"
   ]
  },
  {
   "cell_type": "code",
   "execution_count": 54,
   "metadata": {},
   "outputs": [
    {
     "name": "stdout",
     "output_type": "stream",
     "text": [
      "Anomaly dates: ['08/17/1928', '09/25/1928', '06/22/1931', '12/31/1931', '02/09/1932', '08/04/1932', '08/30/1933', '09/01/1933', '03/20/1934', '11/09/1934', '11/23/1934', '10/19/1936', '11/04/1936', '12/15/1936', '01/21/1937', '05/19/1937', '03/23/1938', '04/05/1938', '04/18/1938', '06/17/1938', '12/22/1938', '09/17/1940', '11/14/1940', '07/22/1941', '04/23/1942', '06/17/1942', '08/21/1942', '11/06/1942', '12/22/1942', '02/02/1944', '03/05/1945', '06/28/1945', '08/14/1945', '02/19/1947', '12/07/1948', '03/31/1950', '05/15/1950', '11/20/1950', '11/29/1951', '09/17/1952', '09/30/1952', '08/24/1953', '06/14/1954', '11/26/1954', '07/17/1956', '07/15/1958', '03/13/1959', '12/08/1959', '05/05/1960', '08/08/1960', '03/14/1962', '07/26/1962', '09/12/1962', '05/04/1964', '03/19/1965', '04/27/1965', '09/21/1965', '01/20/1966', '04/24/1967', '05/03/1967', '03/27/1968', '06/24/1968', '04/06/1970', '12/30/1971', '08/25/1972', '06/13/1973', '08/21/1975', '06/07/1976', '06/30/1976', '08/19/1976', '12/16/1976', '10/12/1978', '02/26/1980', '02/10/1982', '06/30/1982', '09/19/1983', '01/15/1985', '04/22/1986', '09/05/1986', '11/14/1986', '12/11/1986', '03/04/1987', '08/02/1989', '09/25/1991', '12/09/1992', '08/01/1994', '02/17/1995', '08/02/1996', '10/03/1997', '11/10/1997', '04/28/1999', '05/31/2000', '07/11/2000', '05/07/2001', '06/08/2001', '12/26/2001', '06/02/2003', '06/06/2003', '09/12/2003', '03/01/2004', '07/15/2004', '11/23/2004', '12/29/2004', '06/12/2006', '06/04/2007', '06/06/2007', '07/25/2007', '08/21/2007', '07/15/2008', '09/30/2008', '10/23/2008', '12/30/2008', '10/21/2009', '10/08/2010', '12/10/2010', '06/15/2012', '01/23/2014', '04/02/2014', '12/29/2014', '02/05/2016', '07/12/2016', '05/31/2017', '09/11/2017', '01/09/2018', '12/12/2019', '12/13/2019', '12/16/2019', '12/17/2019', '12/18/2019', '12/19/2019', '12/20/2019', '12/23/2019', '12/24/2019', '12/26/2019', '12/27/2019', '12/30/2019', '12/31/2019', '01/02/2020', '01/03/2020', '01/06/2020', '01/07/2020', '01/08/2020', '01/09/2020', '01/10/2020', '01/13/2020', '01/14/2020', '01/15/2020', '01/16/2020', '01/17/2020', '01/21/2020', '01/22/2020', '01/23/2020', '01/24/2020', '01/27/2020', '01/28/2020', '01/29/2020', '01/30/2020', '01/31/2020', '02/03/2020', '02/04/2020', '02/05/2020', '02/06/2020', '02/07/2020', '02/10/2020', '02/11/2020', '02/12/2020', '02/13/2020', '02/14/2020', '02/18/2020', '02/19/2020', '02/20/2020', '02/21/2020', '02/24/2020', '06/05/2020', '06/08/2020', '06/09/2020', '06/10/2020', '07/06/2020', '07/08/2020', '07/10/2020', '07/14/2020', '07/15/2020', '07/16/2020', '07/17/2020', '07/20/2020', '07/21/2020', '07/22/2020', '07/23/2020', '07/24/2020', '07/27/2020', '07/28/2020', '07/29/2020', '07/30/2020', '07/31/2020', '08/03/2020', '08/04/2020', '08/05/2020', '08/06/2020', '08/07/2020', '08/10/2020', '08/11/2020', '08/12/2020', '08/13/2020', '08/14/2020', '08/17/2020', '08/18/2020', '08/19/2020', '08/20/2020', '08/21/2020', '08/24/2020', '08/25/2020', '08/26/2020', '08/27/2020', '08/28/2020', '08/31/2020', '09/01/2020', '09/02/2020', '09/03/2020', '09/04/2020', '09/08/2020', '09/09/2020', '09/10/2020', '09/11/2020', '09/14/2020', '09/15/2020', '09/16/2020', '09/17/2020', '09/18/2020', '09/21/2020', '09/22/2020', '09/23/2020', '09/24/2020', '09/25/2020', '09/28/2020', '09/29/2020', '09/30/2020', '10/01/2020', '10/02/2020', '10/05/2020', '10/06/2020', '10/07/2020', '10/08/2020', '10/09/2020', '10/13/2020', '10/14/2020', '10/15/2020', '10/16/2020', '10/19/2020', '10/20/2020', '10/21/2020', '10/22/2020', '10/23/2020', '10/26/2020', '10/27/2020', '10/28/2020', '10/29/2020', '10/30/2020', '11/02/2020', '11/03/2020', '11/04/2020', '11/05/2020', '11/06/2020', '11/09/2020', '11/10/2020', '11/11/2020', '11/12/2020', '11/13/2020', '11/16/2020', '11/17/2020', '11/18/2020', '11/19/2020', '11/20/2020', '11/23/2020', '11/24/2020', '11/25/2020', '11/27/2020', '11/30/2020', '12/01/2020', '12/02/2020', '12/03/2020', '12/04/2020', '12/07/2020', '12/08/2020', '12/09/2020', '12/10/2020', '12/11/2020', '12/14/2020', '12/15/2020', '12/16/2020', '12/17/2020', '12/18/2020', '12/21/2020', '12/22/2020', '12/23/2020', '12/24/2020', '12/28/2020', '12/29/2020', '12/30/2020', '12/31/2020', '01/04/2021', '01/05/2021', '01/06/2021', '01/07/2021', '01/08/2021', '01/11/2021', '01/12/2021', '01/13/2021', '01/14/2021', '01/15/2021', '01/19/2021', '01/20/2021', '01/21/2021', '01/22/2021', '01/25/2021', '01/26/2021', '01/27/2021', '01/28/2021', '01/29/2021', '02/01/2021', '02/02/2021', '02/03/2021', '02/04/2021', '02/05/2021', '02/08/2021', '02/09/2021', '02/10/2021', '02/11/2021', '02/12/2021', '02/16/2021', '02/17/2021', '02/18/2021', '02/19/2021', '02/22/2021', '02/23/2021', '02/24/2021', '02/25/2021', '02/26/2021', '03/01/2021', '03/02/2021', '03/03/2021', '03/04/2021', '03/05/2021', '03/08/2021', '03/09/2021', '03/10/2021', '03/11/2021', '03/12/2021', '03/15/2021', '03/16/2021', '03/17/2021', '03/18/2021', '03/19/2021', '03/22/2021', '03/23/2021', '03/24/2021', '03/25/2021', '03/26/2021', '03/29/2021', '03/30/2021', '03/31/2021', '04/01/2021', '04/05/2021', '04/06/2021', '04/07/2021', '04/08/2021', '04/15/2021', '04/16/2021', '04/19/2021', '04/21/2021', '04/23/2021', '04/26/2021', '04/27/2021', '04/28/2021', '04/29/2021', '04/30/2021', '05/03/2021', '05/04/2021', '05/05/2021', '05/06/2021', '05/07/2021', '05/10/2021', '05/12/2021', '05/14/2021', '05/17/2021', '05/20/2021', '05/21/2021', '05/24/2021', '05/25/2021', '05/26/2021', '05/27/2021', '05/28/2021', '06/01/2021', '06/02/2021', '06/03/2021', '06/04/2021', '06/07/2021', '06/08/2021', '06/09/2021', '06/10/2021', '06/11/2021', '06/14/2021', '06/15/2021', '06/16/2021', '06/17/2021', '06/18/2021', '06/21/2021', '06/22/2021', '06/23/2021', '06/24/2021', '06/25/2021', '06/28/2021', '06/29/2021', '06/30/2021', '07/01/2021', '07/02/2021', '07/06/2021', '07/07/2021', '07/08/2021', '07/09/2021', '07/12/2021', '07/13/2021', '07/14/2021', '07/15/2021', '07/16/2021', '07/19/2021', '07/20/2021', '07/21/2021', '07/22/2021', '07/23/2021', '07/26/2021', '07/27/2021', '07/28/2021', '07/29/2021', '07/30/2021', '08/02/2021', '08/03/2021', '08/04/2021', '08/05/2021', '08/06/2021', '08/09/2021', '08/10/2021', '08/11/2021', '08/12/2021', '08/13/2021', '08/16/2021', '08/17/2021', '08/18/2021', '08/19/2021', '08/20/2021', '08/23/2021', '08/24/2021', '08/25/2021', '08/26/2021', '08/27/2021', '08/30/2021', '08/31/2021', '09/01/2021', '09/02/2021', '09/03/2021', '09/07/2021', '09/08/2021', '09/09/2021', '09/10/2021', '09/13/2021', '09/14/2021', '09/15/2021', '09/16/2021', '09/17/2021', '09/20/2021', '09/21/2021', '09/22/2021', '09/23/2021', '09/24/2021', '09/27/2021', '09/28/2021', '09/29/2021', '09/30/2021', '10/01/2021', '10/04/2021', '10/05/2021', '10/06/2021', '10/07/2021', '10/08/2021', '10/11/2021', '10/12/2021', '10/13/2021', '10/14/2021', '10/15/2021', '10/18/2021', '10/19/2021', '10/20/2021', '10/21/2021', '10/22/2021', '10/25/2021', '10/26/2021', '10/27/2021', '10/28/2021', '10/29/2021', '11/01/2021', '11/02/2021', '11/03/2021', '11/04/2021', '11/05/2021', '11/08/2021', '11/09/2021', '11/10/2021', '11/11/2021', '11/12/2021', '11/15/2021', '11/16/2021', '11/17/2021', '11/18/2021', '11/19/2021', '11/22/2021', '11/23/2021', '11/24/2021', '11/26/2021', '11/29/2021', '11/30/2021', '12/01/2021', '12/02/2021', '12/03/2021', '12/06/2021', '12/07/2021', '12/08/2021', '12/09/2021', '12/10/2021', '12/13/2021', '12/14/2021', '12/15/2021', '12/16/2021', '12/17/2021', '12/20/2021', '12/21/2021', '12/22/2021', '12/23/2021', '12/27/2021', '12/28/2021', '12/29/2021', '12/30/2021', '12/31/2021', '01/03/2022', '01/04/2022', '01/05/2022', '01/06/2022', '01/07/2022', '01/10/2022', '01/11/2022', '01/12/2022', '01/13/2022', '01/14/2022', '01/18/2022', '01/19/2022', '01/20/2022', '01/21/2022', '01/24/2022', '01/25/2022', '01/26/2022', '01/27/2022', '01/28/2022', '01/31/2022', '02/01/2022', '02/02/2022', '02/03/2022', '02/04/2022', '02/07/2022', '02/08/2022', '02/09/2022', '02/10/2022', '02/11/2022', '02/14/2022', '02/15/2022', '02/16/2022', '02/17/2022', '02/18/2022', '02/22/2022', '02/23/2022', '02/24/2022', '02/25/2022', '02/28/2022', '03/01/2022', '03/02/2022', '03/03/2022', '03/04/2022', '03/07/2022', '03/08/2022', '03/09/2022', '03/10/2022', '03/11/2022', '03/14/2022', '03/15/2022', '03/16/2022', '03/17/2022', '03/18/2022', '03/21/2022', '03/22/2022', '03/23/2022', '03/24/2022', '03/25/2022', '03/28/2022', '03/29/2022', '03/30/2022', '03/31/2022', '04/01/2022', '04/04/2022', '04/05/2022', '04/06/2022', '04/07/2022', '04/08/2022', '04/11/2022', '04/12/2022', '04/13/2022', '04/14/2022', '04/18/2022', '04/19/2022', '04/20/2022', '04/21/2022', '04/22/2022', '04/25/2022', '04/26/2022', '04/27/2022', '04/28/2022', '05/02/2022', '05/03/2022', '05/04/2022', '05/05/2022', '05/10/2022', '05/11/2022', '05/12/2022', '05/13/2022', '05/16/2022', '05/17/2022', '05/18/2022', '05/19/2022', '05/20/2022', '05/23/2022', '05/24/2022', '05/25/2022', '05/26/2022', '05/27/2022', '06/01/2022', '06/02/2022', '06/07/2022', '06/09/2022', '06/10/2022', '06/13/2022', '06/14/2022', '06/15/2022', '06/16/2022', '06/17/2022', '06/21/2022', '06/22/2022', '06/23/2022', '06/24/2022', '06/27/2022', '06/28/2022', '06/29/2022', '06/30/2022', '07/01/2022', '07/05/2022', '07/06/2022', '07/07/2022', '07/08/2022', '07/11/2022', '07/12/2022', '07/13/2022', '07/14/2022', '07/15/2022', '07/18/2022', '07/19/2022', '07/20/2022', '07/21/2022', '07/22/2022', '07/25/2022', '07/26/2022', '07/27/2022', '07/28/2022', '08/02/2022', '08/03/2022', '08/05/2022', '08/10/2022', '08/11/2022', '08/12/2022', '08/15/2022', '08/16/2022', '08/17/2022', '08/18/2022', '08/19/2022', '08/25/2022', '08/26/2022', '08/29/2022', '08/31/2022', '09/01/2022', '09/02/2022', '09/06/2022', '09/07/2022', '09/08/2022', '09/09/2022', '09/13/2022', '09/14/2022', '09/15/2022', '09/16/2022', '09/19/2022', '09/20/2022', '09/21/2022', '09/22/2022', '09/23/2022', '09/26/2022', '09/27/2022', '09/28/2022', '09/29/2022', '09/30/2022', '10/03/2022', '10/04/2022', '10/05/2022', '10/06/2022', '10/07/2022', '10/10/2022', '10/11/2022', '10/12/2022', '10/13/2022', '10/14/2022', '10/17/2022', '10/18/2022', '10/19/2022', '10/20/2022', '10/21/2022', '10/24/2022', '10/25/2022', '10/26/2022', '10/27/2022', '10/28/2022', '10/31/2022', '11/01/2022', '11/02/2022', '11/03/2022', '11/04/2022', '11/07/2022', '11/08/2022', '11/09/2022', '11/10/2022', '11/14/2022', '11/16/2022', '11/17/2022', '11/18/2022', '11/21/2022', '11/22/2022', '11/23/2022', '11/25/2022', '11/28/2022', '11/29/2022', '11/30/2022', '12/01/2022', '12/02/2022', '12/05/2022', '12/06/2022', '12/07/2022', '12/08/2022', '12/09/2022', '12/13/2022', '12/14/2022', '12/15/2022', '12/16/2022', '12/19/2022', '12/20/2022', '12/21/2022', '12/22/2022', '12/23/2022', '12/27/2022', '12/28/2022', '12/29/2022', '12/30/2022', '01/03/2023', '01/04/2023', '01/05/2023', '01/06/2023', '01/09/2023', '01/10/2023', '01/11/2023', '01/12/2023', '01/13/2023', '01/18/2023', '01/19/2023', '01/20/2023', '01/23/2023', '01/24/2023', '01/25/2023', '01/26/2023', '01/27/2023', '01/30/2023', '01/31/2023', '02/02/2023', '02/03/2023', '02/07/2023', '02/09/2023', '02/10/2023', '02/14/2023', '02/15/2023', '02/16/2023', '02/17/2023', '02/21/2023', '02/23/2023', '02/24/2023', '02/27/2023', '02/28/2023', '03/01/2023', '03/02/2023', '03/03/2023', '03/06/2023', '03/09/2023', '03/10/2023', '03/13/2023', '03/14/2023', '03/15/2023', '03/16/2023', '03/17/2023', '03/20/2023', '03/21/2023', '03/22/2023', '03/23/2023', '03/24/2023', '03/27/2023', '03/28/2023', '03/29/2023', '03/30/2023', '04/04/2023', '04/05/2023', '04/12/2023', '04/13/2023', '04/18/2023', '04/19/2023', '04/24/2023', '04/25/2023', '04/26/2023', '04/28/2023', '05/01/2023', '05/03/2023', '05/04/2023', '05/05/2023', '05/15/2023', '05/17/2023', '05/18/2023', '05/19/2023', '05/22/2023', '05/23/2023', '05/26/2023', '05/30/2023', '05/31/2023', '06/01/2023', '06/02/2023', '06/05/2023', '06/06/2023', '06/07/2023', '06/08/2023', '06/09/2023', '06/12/2023', '06/13/2023', '06/14/2023', '06/15/2023', '06/16/2023', '06/20/2023', '06/21/2023', '06/22/2023', '06/23/2023', '06/26/2023', '06/27/2023', '06/28/2023', '06/29/2023', '06/30/2023', '07/03/2023', '07/05/2023', '07/06/2023', '07/07/2023', '07/10/2023', '07/11/2023', '07/12/2023', '07/13/2023', '07/14/2023', '07/17/2023', '07/18/2023', '07/19/2023', '07/20/2023', '07/21/2023', '07/24/2023', '07/25/2023', '07/26/2023', '07/27/2023', '07/28/2023', '07/31/2023', '08/01/2023', '08/02/2023', '08/03/2023', '08/04/2023', '08/07/2023', '08/08/2023', '08/09/2023', '08/10/2023', '08/11/2023', '08/14/2023', '08/15/2023', '08/16/2023', '08/17/2023', '08/18/2023', '08/21/2023', '08/22/2023', '08/23/2023', '08/24/2023', '08/25/2023', '08/28/2023', '08/29/2023', '08/30/2023', '08/31/2023', '09/01/2023', '09/05/2023', '09/06/2023', '09/07/2023', '09/08/2023', '09/11/2023', '09/12/2023', '09/13/2023', '09/14/2023', '09/15/2023', '09/18/2023', '09/19/2023', '09/20/2023', '09/21/2023', '09/22/2023', '09/25/2023', '09/26/2023', '09/27/2023', '09/28/2023', '09/29/2023', '10/02/2023', '10/03/2023', '10/04/2023', '10/05/2023', '10/06/2023', '10/09/2023', '10/10/2023', '10/11/2023', '10/12/2023', '10/13/2023', '10/16/2023', '10/17/2023', '10/18/2023', '10/19/2023', '10/20/2023', '10/23/2023', '10/24/2023', '10/25/2023', '10/30/2023', '10/31/2023', '11/01/2023', '11/02/2023', '11/03/2023', '11/06/2023', '11/07/2023', '11/08/2023', '11/09/2023', '11/10/2023', '11/13/2023', '11/14/2023', '11/15/2023', '11/16/2023', '11/17/2023', '11/20/2023', '11/21/2023', '11/22/2023', '11/24/2023', '11/27/2023', '11/28/2023', '11/29/2023', '11/30/2023', '12/01/2023', '12/04/2023', '12/05/2023', '12/06/2023', '12/07/2023', '12/08/2023', '12/11/2023', '12/12/2023', '12/13/2023', '12/14/2023', '12/15/2023', '12/18/2023', '12/19/2023', '12/20/2023', '12/21/2023', '12/22/2023', '12/26/2023', '12/27/2023', '12/28/2023', '12/29/2023', '01/02/2024', '01/03/2024', '01/04/2024', '01/05/2024', '01/08/2024', '01/09/2024', '01/10/2024', '01/11/2024', '01/12/2024', '01/16/2024', '01/17/2024', '01/18/2024', '01/19/2024', '01/22/2024', '01/23/2024', '01/24/2024', '01/25/2024', '01/26/2024', '01/29/2024', '01/30/2024', '01/31/2024', '02/01/2024', '02/02/2024', '02/05/2024', '02/06/2024', '02/07/2024', '02/08/2024', '02/09/2024', '02/12/2024', '02/13/2024', '02/14/2024', '02/15/2024', '02/16/2024', '02/20/2024', '02/21/2024', '02/22/2024', '02/23/2024', '02/26/2024', '02/27/2024', '02/28/2024', '02/29/2024', '03/01/2024', '03/04/2024', '03/05/2024', '03/06/2024', '03/07/2024', '03/08/2024', '03/11/2024', '03/12/2024', '03/13/2024', '03/15/2024', '03/18/2024', '03/19/2024', '03/20/2024', '03/21/2024', '03/22/2024', '03/25/2024', '03/26/2024', '03/27/2024', '03/28/2024', '04/01/2024', '04/02/2024', '04/03/2024', '04/04/2024', '04/05/2024', '04/08/2024', '04/09/2024', '04/10/2024', '04/11/2024', '04/12/2024', '04/15/2024', '04/16/2024', '04/17/2024', '04/18/2024', '04/19/2024', '04/22/2024', '04/23/2024', '04/24/2024', '04/25/2024', '04/26/2024', '04/29/2024', '04/30/2024', '05/01/2024', '05/02/2024', '05/03/2024', '05/06/2024', '05/07/2024', '05/08/2024', '05/09/2024', '05/10/2024', '05/13/2024', '05/14/2024', '05/15/2024', '05/16/2024', '05/17/2024', '05/20/2024', '05/21/2024', '05/22/2024', '05/23/2024', '05/24/2024', '05/28/2024', '05/29/2024', '05/30/2024', '05/31/2024', '06/03/2024', '06/04/2024', '06/05/2024', '06/06/2024', '06/07/2024', '06/10/2024', '06/11/2024', '06/12/2024', '06/13/2024', '06/14/2024', '06/17/2024', '06/18/2024', '06/20/2024', '06/21/2024', '06/24/2024', '06/25/2024', '06/26/2024', '06/27/2024', '06/28/2024', '07/01/2024', '07/02/2024', '07/03/2024', '07/05/2024', '07/08/2024', '07/09/2024', '07/10/2024', '07/11/2024', '07/12/2024', '07/15/2024', '07/16/2024', '07/17/2024', '07/18/2024', '07/19/2024', '07/22/2024', '07/23/2024', '07/24/2024', '07/25/2024', '07/26/2024', '07/29/2024', '07/30/2024', '07/31/2024', '08/01/2024', '08/02/2024', '08/05/2024', '08/06/2024', '08/07/2024', '08/08/2024', '08/09/2024', '08/12/2024', '08/13/2024', '08/14/2024', '08/15/2024', '08/16/2024', '08/19/2024', '08/20/2024', '08/21/2024', '08/22/2024', '08/23/2024', '08/26/2024', '08/27/2024', '08/28/2024', '08/29/2024', '08/30/2024', '09/03/2024', '09/04/2024', '09/05/2024', '09/06/2024', '09/09/2024', '09/10/2024', '09/11/2024', '09/12/2024', '09/13/2024', '09/16/2024', '09/17/2024', '09/18/2024', '09/19/2024', '09/20/2024', '09/23/2024', '09/24/2024', '09/25/2024', '09/26/2024', '09/27/2024', '09/30/2024', '10/01/2024', '10/02/2024', '10/03/2024', '10/04/2024', '10/07/2024', '10/08/2024', '10/09/2024', '10/10/2024', '10/11/2024', '10/14/2024', '10/15/2024', '10/16/2024', '10/17/2024', '10/18/2024', '10/21/2024', '10/22/2024', '10/23/2024', '10/24/2024', '10/25/2024', '10/28/2024', '10/29/2024', '10/30/2024', '10/31/2024', '11/01/2024', '11/04/2024', '11/05/2024', '11/06/2024', '11/07/2024', '11/08/2024']\n"
     ]
    },
    {
     "name": "stderr",
     "output_type": "stream",
     "text": [
      "INFO:     Started server process [35576]\n",
      "INFO:     Waiting for application startup.\n",
      "INFO:     Application startup complete.\n",
      "ERROR:    [Errno 10048] error while attempting to bind on address ('127.0.0.1', 8080): [winerror 10048] only one usage of each socket address (protocol/network address/port) is normally permitted\n",
      "INFO:     Waiting for application shutdown.\n",
      "INFO:     Application shutdown complete.\n"
     ]
    },
    {
     "ename": "SystemExit",
     "evalue": "1",
     "output_type": "error",
     "traceback": [
      "An exception has occurred, use %tb to see the full traceback.\n",
      "\u001b[1;31mSystemExit\u001b[0m\u001b[1;31m:\u001b[0m 1\n"
     ]
    },
    {
     "name": "stderr",
     "output_type": "stream",
     "text": [
      "C:\\Users\\shrey\\AppData\\Local\\Packages\\PythonSoftwareFoundation.Python.3.12_qbz5n2kfra8p0\\LocalCache\\local-packages\\Python312\\site-packages\\IPython\\core\\interactiveshell.py:3585: UserWarning: To exit: use 'exit', 'quit', or Ctrl-D.\n",
      "  warn(\"To exit: use 'exit', 'quit', or Ctrl-D.\", stacklevel=1)\n"
     ]
    }
   ],
   "source": [
    "import pandas as pd\n",
    "from sklearn.ensemble import IsolationForest\n",
    "import joblib\n",
    "\n",
    "# Load your stock data\n",
    "stock_data = pd.read_csv(r\"C:\\Users\\shrey\\Downloads\\train_processed.csv\")\n",
    "\n",
    "# Fix missing values (NaN) by filling with the mean of the 'Close' column\n",
    "stock_data['Close'] = stock_data['Close'].fillna(stock_data['Close'].mean())\n",
    "\n",
    "# Train the IsolationForest model (using the 'Close' column for anomaly detection)\n",
    "model = IsolationForest(contamination=0.05)\n",
    "model.fit(stock_data[['Close']])\n",
    "\n",
    "# Save the trained model\n",
    "joblib.dump(model, 'anomaly_detection_model.pkl')\n",
    "\n",
    "# Make predictions (anomaly detection)\n",
    "anomalies = model.predict(stock_data[['Close']])\n",
    "\n",
    "# Convert -1 (anomaly) and 1 (normal) to a more readable format\n",
    "stock_data['Anomaly'] = ['Yes' if x == -1 else 'No' for x in anomalies]\n",
    "\n",
    "# Extract the dates of anomalies\n",
    "anomaly_dates = stock_data[stock_data['Anomaly'] == 'Yes']['Date'].tolist()\n",
    "\n",
    "print(\"Anomaly dates:\", anomaly_dates)\n",
    "if __name__ == \"__main__\":\n",
    "    import uvicorn\n",
    "    uvicorn.run(app, host=\"127.0.0.1\", port=8080)\n",
    "\n"
   ]
  },
  {
   "cell_type": "code",
   "execution_count": 24,
   "metadata": {},
   "outputs": [
    {
     "name": "stdout",
     "output_type": "stream",
     "text": [
      "^C\n"
     ]
    }
   ],
   "source": [
    "!uvicorn main:app --reload\n"
   ]
  },
  {
   "cell_type": "code",
   "execution_count": 55,
   "metadata": {},
   "outputs": [],
   "source": [
    "from fastapi import FastAPI, UploadFile, File\n",
    "\n",
    "app = FastAPI()\n",
    "\n",
    "@app.post(\"/upload/\")  # Make sure this matches the method you're using in your request\n",
    "async def upload_file(file: UploadFile = File(r\"C:\\Users\\shrey\\Downloads\\train_processed.csv\")):\n",
    "    # Your code to handle the file\n",
    "    return {\"message\": \"File uploaded successfully\"}\n"
   ]
  },
  {
   "cell_type": "code",
   "execution_count": 56,
   "metadata": {},
   "outputs": [
    {
     "name": "stderr",
     "output_type": "stream",
     "text": [
      "Warning: Illegally formatted input field\n",
      "curl: option -F: is badly used here\n",
      "curl: try 'curl --help' for more information\n"
     ]
    }
   ],
   "source": [
    "!curl -X POST -F r\"C:\\Users\\shrey\\Downloads\\train_processed.csv\" http://127.0.0.1:8080/upload/\n"
   ]
  },
  {
   "cell_type": "code",
   "execution_count": 30,
   "metadata": {},
   "outputs": [
    {
     "ename": "SyntaxError",
     "evalue": "invalid syntax (1539490064.py, line 1)",
     "output_type": "error",
     "traceback": [
      "\u001b[1;36m  Cell \u001b[1;32mIn[30], line 1\u001b[1;36m\u001b[0m\n\u001b[1;33m    <form action=\"/upload/\" method=\"post\" enctype=\"multipart/form-data\">\u001b[0m\n\u001b[1;37m    ^\u001b[0m\n\u001b[1;31mSyntaxError\u001b[0m\u001b[1;31m:\u001b[0m invalid syntax\n"
     ]
    }
   ],
   "source": [
    "<form action=\"/upload/\" method=\"post\" enctype=\"multipart/form-data\">\n",
    "    <input type=\"file\" name=\"file\">\n",
    "    <button type=\"submit\">Upload</button>\n",
    "</form>\n"
   ]
  },
  {
   "cell_type": "code",
   "execution_count": 32,
   "metadata": {},
   "outputs": [],
   "source": [
    "from fastapi import FastAPI, UploadFile, File\n",
    "\n",
    "app = FastAPI()\n",
    "\n",
    "@app.post(\"/upload/\")\n",
    "async def upload_file(file: UploadFile = File(r\"C:\\Users\\shrey\\Downloads\\train_processed.csv\")):\n",
    "    content = await file.read()\n",
    "    return {\"message\": \"File uploaded successfully\"}\n"
   ]
  },
  {
   "cell_type": "code",
   "execution_count": 40,
   "metadata": {},
   "outputs": [
    {
     "name": "stderr",
     "output_type": "stream",
     "text": [
      "Warning: Illegally formatted input field\n",
      "curl: option -F: is badly used here\n",
      "curl: try 'curl --help' for more information\n"
     ]
    }
   ],
   "source": [
    "!curl -X POST -F r\"C:\\Users\\shrey\\Downloads\\train_processed.csv\" http://127.0.0.1:8000/detect-anomalies/\n"
   ]
  },
  {
   "cell_type": "code",
   "execution_count": 57,
   "metadata": {},
   "outputs": [
    {
     "name": "stdout",
     "output_type": "stream",
     "text": [
      "^C\n"
     ]
    }
   ],
   "source": [
    "!uvicorn main:app --reload\n"
   ]
  },
  {
   "cell_type": "code",
   "execution_count": 58,
   "metadata": {},
   "outputs": [
    {
     "name": "stderr",
     "output_type": "stream",
     "text": [
      "  % Total    % Received % Xferd  Average Speed   Time    Time     Time  Current\n",
      "                                 Dload  Upload   Total   Spent    Left  Speed\n",
      "\n",
      "  0     0    0     0    0     0      0      0 --:--:-- --:--:-- --:--:--     0\n",
      "  0     0    0     0    0     0      0      0 --:--:--  0:00:01 --:--:--     0\n",
      "  0     0    0     0    0     0      0      0 --:--:--  0:00:02 --:--:--     0\n",
      "  0     0    0     0    0     0      0      0 --:--:--  0:00:02 --:--:--     0\n",
      "curl: (7) Failed to connect to 127.0.0.1 port 8080 after 2036 ms: Could not connect to server\n"
     ]
    }
   ],
   "source": [
    "!curl -X POST -F \"file=C:\\Users\\shrey\\Downloads\\train_processed.csv\"  http://127.0.0.1:8080/detect-anomalies/\n"
   ]
  },
  {
   "cell_type": "code",
   "execution_count": 47,
   "metadata": {},
   "outputs": [
    {
     "name": "stdout",
     "output_type": "stream",
     "text": [
      "^C\n"
     ]
    }
   ],
   "source": [
    "!uvicorn main:app --port 8002 --reload\n"
   ]
  },
  {
   "cell_type": "code",
   "execution_count": 50,
   "metadata": {},
   "outputs": [
    {
     "name": "stderr",
     "output_type": "stream",
     "text": [
      "The system cannot find the file specified.\n"
     ]
    }
   ],
   "source": [
    "!taskkill /PID <process_id> /F\n"
   ]
  },
  {
   "cell_type": "code",
   "execution_count": 53,
   "metadata": {},
   "outputs": [
    {
     "name": "stdout",
     "output_type": "stream",
     "text": [
      "^C\n"
     ]
    }
   ],
   "source": [
    "!uvicorn main:app --host 127.0.0.1 --port 8080 --reload\n"
   ]
  },
  {
   "cell_type": "code",
   "execution_count": 52,
   "metadata": {},
   "outputs": [
    {
     "name": "stderr",
     "output_type": "stream",
     "text": [
      "  % Total    % Received % Xferd  Average Speed   Time    Time     Time  Current\n",
      "                                 Dload  Upload   Total   Spent    Left  Speed\n",
      "\n",
      "  0     0    0     0    0     0      0      0 --:--:-- --:--:-- --:--:--     0\n",
      "  0     0    0     0    0     0      0      0 --:--:--  0:00:01 --:--:--     0\n",
      "  0     0    0     0    0     0      0      0 --:--:--  0:00:02 --:--:--     0\n",
      "  0     0    0     0    0     0      0      0 --:--:--  0:00:02 --:--:--     0\n",
      "curl: (7) Failed to connect to 127.0.0.1 port 8080 after 2042 ms: Could not connect to server\n"
     ]
    }
   ],
   "source": [
    "!curl -X POST -F \"file=C:\\Users\\shrey\\Downloads\\train_processed.csv\"  http://127.0.0.1:8080/detect-anomalies/\n"
   ]
  }
 ],
 "metadata": {
  "kernelspec": {
   "display_name": "Python 3",
   "language": "python",
   "name": "python3"
  },
  "language_info": {
   "codemirror_mode": {
    "name": "ipython",
    "version": 3
   },
   "file_extension": ".py",
   "mimetype": "text/x-python",
   "name": "python",
   "nbconvert_exporter": "python",
   "pygments_lexer": "ipython3",
   "version": "3.12.7"
  }
 },
 "nbformat": 4,
 "nbformat_minor": 2
}
